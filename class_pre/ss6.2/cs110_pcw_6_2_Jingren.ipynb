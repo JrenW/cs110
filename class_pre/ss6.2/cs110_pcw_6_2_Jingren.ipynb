{
 "cells": [
  {
   "cell_type": "markdown",
   "metadata": {},
   "source": [
    "Before you turn this problem in, make sure everything runs as expected. First, **restart the kernel** (in the menubar, select Kernel$\\rightarrow$Restart) and then **run all cells** (in the menubar, select Cell$\\rightarrow$Run All).\n",
    "\n",
    "Make sure you fill in any place that says `YOUR CODE HERE` or \"YOUR ANSWER HERE\", as well as your name and collaborators below:"
   ]
  },
  {
   "cell_type": "code",
   "execution_count": 32,
   "metadata": {
    "collapsed": true
   },
   "outputs": [],
   "source": [
    "NAME = \"Jingren Wang\"\n",
    "COLLABORATORS = \"N.A.\""
   ]
  },
  {
   "cell_type": "markdown",
   "metadata": {},
   "source": [
    "---"
   ]
  },
  {
   "cell_type": "markdown",
   "metadata": {
    "deletable": false,
    "editable": false,
    "nbgrader": {
     "checksum": "499babfdbdc05aec285e42abdf82edd4",
     "grade": false,
     "grade_id": "cell-f534ec91df9dff5f",
     "locked": true,
     "schema_version": 1,
     "solution": false
    }
   },
   "source": [
    "# CS110 Pre-class Work 6.2\n",
    "\n",
    "## Part A. Median-of-3 partitioning quicksort \n",
    "\n",
    "## Question 1.\n",
    "\n",
    "Read through the following Python code. What does each function (i.e., median, qsort, randomized_qsort, test_qsort) do? Comment in details each function. \n"
   ]
  },
  {
   "cell_type": "code",
   "execution_count": 33,
   "metadata": {},
   "outputs": [
    {
     "name": "stdout",
     "output_type": "stream",
     "text": [
      "0.06999652599915862\n"
     ]
    }
   ],
   "source": [
    "import timeit\n",
    "import random\n",
    "\n",
    "eps = 1e-16 # epsilon for upper bound\n",
    "N = 10000   # large input size n\n",
    "locations = [0.0, 0.5, 1.0 - eps]\n",
    "\n",
    "# function to determine the median of three numbers\n",
    "def median(x1, x2, x3):\n",
    "    # x2 is the median if value is between x1 and x3\n",
    "    if (x1 < x2 < x3) or (x3 < x2 < x1):\n",
    "        return x2\n",
    "    # x3 is the median if value is between x1 and x2\n",
    "    elif (x1 < x3 < x2) or (x2 < x3 < x1):\n",
    "        return x3\n",
    "    # else x1 must be the median of the three\n",
    "    else:\n",
    "        return x1\n",
    "    \n",
    "# the quick sort function, return a sorted list\n",
    "def qsort(lst):\n",
    "    # initiate a list of (p,r) tuples \n",
    "    indices = [(0, len(lst))] #first tuple element = (p=0, r=len(lst))\n",
    "\n",
    "    while indices:  #while indices list not empty\n",
    "        (frm, to) = indices.pop() # remove last (p,r) pair from list and\n",
    "                                # assign tuple values to (frm, to) \n",
    "        if frm == to: # when subarray length = 0\n",
    "            continue  # move on to next while loop iteration, \n",
    "                      # pop another (p,r) if indices not yet empty\n",
    "\n",
    "        # Find the partition:\n",
    "        N = to - frm     # distance between index p and r\n",
    "        inds = [frm + int(N * n) for n in locations]\n",
    "            # inds store a list of indices of the first, the middle and the last element\n",
    "            # in the subarray A[to,frm], total of three critical indices\n",
    "        values = [lst[ind] for ind in inds]\n",
    "            # retrieve element values of the three critical indices stored in inds\n",
    "            # stored as a list of three elements\n",
    "        partition = median(*values)\n",
    "            # call the median funciton to return the median of the three elements \n",
    "            # use this partition value as pivot \n",
    "        \n",
    "\n",
    "        # Split into lists:\n",
    "        lower = [a for a in lst[frm:to] if a < partition]\n",
    "        #store all elements < pivot to a 'lower' list\n",
    "        upper = [a for a in lst[frm:to] if a > partition]\n",
    "        #store all elements > pivot to an 'upper' list\n",
    "        counts = sum([1 for a in lst[frm:to] if a == partition])\n",
    "        # count the number of elements with value equal to pivot\n",
    "\n",
    "        ind1 = frm + len(lower) # compute index of the rightmost element less than the pivot\n",
    "        ind2 = ind1 + counts # compute index of the leftmost element more than the pivot \n",
    "\n",
    "        # Push back into correct place:\n",
    "        lst[frm:ind1] = lower # rearrange all elements less than pivot to the left side of subarray, before ind1\n",
    "        lst[ind1:ind2] = [partition] * counts # sandwich all values equal the pivot between ind1 and ind2 \n",
    "        lst[ind2:to] = upper  # push all elements more than the pivot to the rigth side of subarray, after ind2\n",
    "  \n",
    "        # Enqueue other locations\n",
    "        indices.append((frm, ind1)) # append (first_idx, last_idx) tuple of the left-to-pivot subarray to indices list\n",
    "        indices.append((ind2, to))  # append (first_idx, last_idx) tuple of the right-to-pivot subarray to indices list\n",
    "        \n",
    "        \n",
    "    return lst  # return lst in-place after while loop, now sorted.\n",
    "\n",
    "# randomized algorithm to quicksort\n",
    "def randomized_quicksort():\n",
    "    lst = [i for i in range(N)] # initiate a sorted list of size N, N = 10000\n",
    "    random.shuffle(lst)  # randomly shuffle the order of elements inside the list\n",
    "    return qsort(lst)  # pass randomized list to qsort() to get sorted\n",
    "\n",
    "# test if quicksort works\n",
    "def test_quicksort():  \n",
    "    lst = randomized_quicksort()  # get result list from randomized_quicksort()\n",
    "    assert (lst == [i for i in range(N)]) #assert resultant list equal to sorted list of size N\n",
    "                                # assertion error is raised if statement false\n",
    "\n",
    "\n",
    "# Is our algorithm correct\n",
    "test_quicksort()\n",
    "\n",
    "# How fast is our algorithm\n",
    "print(timeit.timeit(randomized_quicksort, number=1))"
   ]
  },
  {
   "cell_type": "markdown",
   "metadata": {
    "deletable": false,
    "editable": false,
    "nbgrader": {
     "checksum": "61fb11bff1434e4b7276c7443b0267c6",
     "grade": false,
     "grade_id": "cell-a2b2429aa4e81403",
     "locked": true,
     "schema_version": 1,
     "solution": false
    }
   },
   "source": [
    "## Question 2.\n",
    "\n",
    "What are the main differences between the `randomized_quicksort` in the code and $RANDOMIZED-QUICKSORT$ in Cormen et al., besides that the partition of `randomized_quicksort` uses a median of 3 as a pivot?"
   ]
  },
  {
   "cell_type": "markdown",
   "metadata": {
    "deletable": false,
    "nbgrader": {
     "checksum": "8915b75d94bc194ba0f4e52e475063b4",
     "grade": true,
     "grade_id": "cell-4a3cd727ccac7404",
     "locked": false,
     "points": 0,
     "schema_version": 1,
     "solution": true
    }
   },
   "source": [
    "<br>\n",
    "1. Cormen's version uses recursion whereas the code here don't;\n",
    "2. Cormen's version accepts whatever input array is, randomizes the choice of pivot to partition, swap to the end of array and call the normal partition() funcion;  here, we randomly permute the entire array from a sorted list before input into the quicksort function.\n",
    "3. Cormen's version is in-place whereas this version is not: sublists of upper, lower and counts are created before pushing elements back into correct places."
   ]
  },
  {
   "cell_type": "markdown",
   "metadata": {
    "deletable": false,
    "editable": false,
    "nbgrader": {
     "checksum": "5853f10cab01212736d0e92ce408fa97",
     "grade": false,
     "grade_id": "cell-49bff57d4018e133",
     "locked": true,
     "schema_version": 1,
     "solution": false
    }
   },
   "source": [
    "## Question 3.\n",
    "What is the time complexity of this `randomized_qsort`? Time the algorithm on lists of various lengths, each list being a list of the first $n$ consecutive positive integers. Produce a graph with list lengths on the x axis and running time on the y axis. As always, don’t forget to time the algorithm several times for each list’s length and then average the results. "
   ]
  },
  {
   "cell_type": "code",
   "execution_count": 34,
   "metadata": {
    "deletable": false,
    "nbgrader": {
     "checksum": "a321a7fcecb9c9cce252ea2c6030d4ce",
     "grade": true,
     "grade_id": "cell-e0e1dac71ac7feb6",
     "locked": false,
     "points": 0,
     "schema_version": 1,
     "solution": true
    }
   },
   "outputs": [
    {
     "name": "stdout",
     "output_type": "stream",
     "text": [
      "6.332420016406105e-05\n",
      "0.0007883446975029074\n",
      "0.006683042802615091\n",
      "0.06954028589971131\n",
      "0.7702658088033786\n"
     ]
    }
   ],
   "source": [
    "# create a function to calculate average performance time for each input list\n",
    "def ave_rdmqsort_time(n_i, k):   \n",
    "    '''\n",
    "    input:\n",
    "        n_i = length of ith input length stored in Ns, \n",
    "        k = number of times of timing algorithm\n",
    "    output: average time of randomized_sqort at legnth n_i\n",
    "    '''\n",
    "    sum_time = 0\n",
    "    for i in range(k):\n",
    "        global N # overwrite arg N in randomized_quicksort()\n",
    "        N = n_i\n",
    "        sum_time += timeit.timeit(randomized_quicksort, number=1)\n",
    "        \n",
    "    return sum_time/k\n",
    "\n",
    "# get x,y values: x = length of input list; y = ave algorithm running time\n",
    "ns = []\n",
    "ave_runtimes = []\n",
    "k = 10\n",
    "  \n",
    "for i in range(1,6):  \n",
    "    n_i = 10**i\n",
    "    ns.append(n_i) # append list length\n",
    "    ave_runtime_i = ave_rdmqsort_time(n_i, k)\n",
    "    print(ave_runtime_i)\n",
    "    ave_runtimes.append(ave_runtime_i) # append average runtime\n",
    "    \n"
   ]
  },
  {
   "cell_type": "code",
   "execution_count": 35,
   "metadata": {},
   "outputs": [
    {
     "data": {
      "image/png": "[encoded data removed]",
      "text/plain": [
       "<Figure size 432x288 with 1 Axes>"
      ]
     },
     "metadata": {},
     "output_type": "display_data"
    }
   ],
   "source": [
    "\n",
    "# plot x-y \n",
    "from matplotlib import pyplot as plt\n",
    "import numpy as np\n",
    "\n",
    "plt.plot(ns,ave_runtimes, color='darkorange', label='average runtime')\n",
    "plt.title('Average runtime of randomized quicksort')\n",
    "plt.legend()\n",
    "plt.show()\n"
   ]
  },
  {
   "cell_type": "markdown",
   "metadata": {
    "deletable": false,
    "editable": false,
    "nbgrader": {
     "checksum": "b8751f930d9dc208113425646ea7fea8",
     "grade": false,
     "grade_id": "cell-1e8309c07c2f2908",
     "locked": true,
     "schema_version": 1,
     "solution": false
    }
   },
   "source": [
    "## Question 4.\n",
    "\n",
    "### Question 4a.\n",
    "\n",
    "Change the `qsort()` function in a way that you **don’t** separate the items that are equal to the partition. \n"
   ]
  },
  {
   "cell_type": "code",
   "execution_count": 50,
   "metadata": {
    "collapsed": true,
    "deletable": false,
    "nbgrader": {
     "checksum": "797888f53fa36bcf0f9d891c4819d8e9",
     "grade": false,
     "grade_id": "cell-a9d1f063c0340b14",
     "locked": false,
     "schema_version": 1,
     "solution": true
    }
   },
   "outputs": [],
   "source": [
    "def qsort(lst):\n",
    "    indices = [(0, len(lst))] \n",
    "    \n",
    "    while indices:  \n",
    "        (frm, to) = indices.pop() \n",
    "        #print('frm=',frm, '  to=', to)\n",
    "        if frm == to: \n",
    "            continue \n",
    "                     \n",
    "        # Find the partition:\n",
    "        N = to - frm     \n",
    "        inds = [frm + int(N * n) for n in locations] \n",
    "        values = [lst[ind] for ind in inds]\n",
    "        partition = median(*values)\n",
    "        \n",
    "        # Split into lists:\n",
    "        lower = [a for a in lst[frm:to] if a < partition]\n",
    "        upper = [a for a in lst[frm:to] if a > partition]\n",
    "        \n",
    "        ind1 = frm + len(lower) # compute index of the rightmost element less than the pivot\n",
    "        ind2 = to - len(upper)  # compute index of the leftmost element more than the pivot \n",
    "\n",
    "        # Push back into correct place:\n",
    "        lst[frm:ind1] = lower # rearrange all elements less than pivot to the left side of subarray, before ind1\n",
    "        lst[ind2:to] = upper  # push all elements more than the pivot to the rigth side of subarray, after ind2\n",
    "        for i in range(ind1, ind2):\n",
    "            lst[i] = partition  # put in elements that are equal to partitions\n",
    "        \n",
    "        # Enqueue other locations\n",
    "        indices.append((frm, ind1))\n",
    "        indices.append((ind2, to))  \n",
    "    return lst  \n"
   ]
  },
  {
   "cell_type": "code",
   "execution_count": 52,
   "metadata": {
    "deletable": false,
    "editable": false,
    "nbgrader": {
     "checksum": "ce755b787f1b82629d627d2f8bea66a5",
     "grade": true,
     "grade_id": "cell-2c0cbd296d612f85",
     "locked": true,
     "points": 1,
     "schema_version": 1,
     "solution": false
    }
   },
   "outputs": [],
   "source": [
    "assert(qsort([4,2,1])==[1,2,4])\n",
    "assert(qsort([0])==[0])"
   ]
  },
  {
   "cell_type": "markdown",
   "metadata": {
    "deletable": false,
    "editable": false,
    "nbgrader": {
     "checksum": "3f5f9ca976fb636978e2bdfda98a5eeb",
     "grade": false,
     "grade_id": "cell-76883a453f020d72",
     "locked": true,
     "schema_version": 1,
     "solution": false
    }
   },
   "source": [
    "### Question 4b.\n",
    "\n",
    "Now time the algorithm on the same inputs you have used in question 3, adding one more line in the previous graph you have produced. "
   ]
  },
  {
   "cell_type": "code",
   "execution_count": 56,
   "metadata": {
    "deletable": false,
    "nbgrader": {
     "checksum": "33188fb282e53d117dfe275067ad3567",
     "grade": true,
     "grade_id": "cell-31ee807cec9ce8bf",
     "locked": false,
     "points": 0,
     "schema_version": 1,
     "solution": true
    }
   },
   "outputs": [
    {
     "data": {
      "image/png": "[encoded data removed]",
      "text/plain": [
       "<Figure size 432x288 with 1 Axes>"
      ]
     },
     "metadata": {},
     "output_type": "display_data"
    }
   ],
   "source": [
    "# collect runtime data for revised qsort()\n",
    "ave_runtimes_2 = []\n",
    "k = 10\n",
    "  \n",
    "for i in range(1,6):  \n",
    "    n_i = 10**i\n",
    "    ave_runtime_i = ave_rdmqsort_time(n_i, k)\n",
    "    #print(ave_runtime_i)\n",
    "    ave_runtimes_2.append(ave_runtime_i) # append average runtime\n",
    "    \n",
    "plt.plot(ns,ave_runtimes, color='darkorange', label='separate partition')\n",
    "plt.plot(ns,ave_runtimes_2, color='darkgreen', label='no separate partition')\n",
    "plt.title('Average runtime of randomized quicksort')\n",
    "plt.legend()\n",
    "plt.show()\n"
   ]
  },
  {
   "cell_type": "markdown",
   "metadata": {
    "deletable": false,
    "editable": false,
    "nbgrader": {
     "checksum": "991ee87c525d8fa29bd448aa80dbf243",
     "grade": false,
     "grade_id": "cell-b666e68e84dfce03",
     "locked": true,
     "schema_version": 1,
     "solution": false
    }
   },
   "source": [
    "## Question 5.\n",
    "\n",
    "### Question 5a.\n",
    "\n",
    "Remove the median-of-3 partitioning, and just use the first element in the array. "
   ]
  },
  {
   "cell_type": "code",
   "execution_count": 59,
   "metadata": {
    "collapsed": true,
    "deletable": false,
    "nbgrader": {
     "checksum": "90dbb100f881a2c9a61720a0753ca401",
     "grade": false,
     "grade_id": "cell-4daf36021c15eaf0",
     "locked": false,
     "schema_version": 1,
     "solution": true
    }
   },
   "outputs": [],
   "source": [
    "def qsort(lst):\n",
    "    indices = [(0, len(lst))] \n",
    "\n",
    "    while indices:  \n",
    "        (frm, to) = indices.pop() \n",
    "                              \n",
    "        if frm == to: \n",
    "            continue   \n",
    "                     \n",
    "        # just use last element as pivot\n",
    "        partition = lst[to-1]\n",
    "\n",
    "        # Split into lists:\n",
    "        lower = [a for a in lst[frm:to] if a < partition]\n",
    "        #store all elements < pivot to a 'lower' list\n",
    "        upper = [a for a in lst[frm:to] if a > partition]\n",
    "        #store all elements > pivot to an 'upper' list\n",
    "        counts = sum([1 for a in lst[frm:to] if a == partition])\n",
    "        # count the number of elements with value equal to pivot\n",
    "    \n",
    "        # find critical indices\n",
    "        ind1 = frm + len(lower) \n",
    "        ind2 = ind1 + counts\n",
    "\n",
    "        # Push back into correct place:\n",
    "        lst[frm:ind1] = lower # rearrange all elements less than pivot to the left side of subarray, before ind1\n",
    "        lst[ind1:ind2] = [partition] * counts # sandwich all values equal the pivot between ind1 and ind2 \n",
    "        lst[ind2:to] = upper  # push all elements more than the pivot to the rigth side of subarray, after ind2\n",
    "  \n",
    "        # Enqueue other locations\n",
    "        indices.append((frm, ind1)) # append (first_idx, last_idx) tuple of the left-to-pivot subarray to indices list\n",
    "        indices.append((ind2, to))  # append (first_idx, last_idx) tuple of the right-to-pivot subarray to indices list\n",
    "        \n",
    "        \n",
    "    return lst  \n"
   ]
  },
  {
   "cell_type": "code",
   "execution_count": 60,
   "metadata": {
    "deletable": false,
    "editable": false,
    "nbgrader": {
     "checksum": "9d457eff304d19e031a8eabb4615ca3b",
     "grade": true,
     "grade_id": "cell-97473a9e0d12e745",
     "locked": true,
     "points": 1,
     "schema_version": 1,
     "solution": false
    }
   },
   "outputs": [],
   "source": [
    "assert(qsort([4,2,1])==[1,2,4])\n",
    "assert(qsort([0])==[0])"
   ]
  },
  {
   "cell_type": "markdown",
   "metadata": {
    "deletable": false,
    "editable": false,
    "nbgrader": {
     "checksum": "8f0166e7d0021886bb7176f35011a633",
     "grade": false,
     "grade_id": "cell-2ca71dd53b31262b",
     "locked": true,
     "schema_version": 1,
     "solution": false
    }
   },
   "source": [
    "### Question 5b.\n",
    "\n",
    "Does this change the running time of your algorithm? Justify your response with a graph. \n",
    "\n"
   ]
  },
  {
   "cell_type": "code",
   "execution_count": 62,
   "metadata": {
    "deletable": false,
    "nbgrader": {
     "checksum": "bd863db414089f9ead9906b3c2c34a15",
     "grade": true,
     "grade_id": "cell-1f3a6df29d324853",
     "locked": false,
     "points": 0,
     "schema_version": 1,
     "solution": true
    }
   },
   "outputs": [
    {
     "data": {
      "image/png": "[encoded data removed]",
      "text/plain": [
       "<Figure size 432x288 with 1 Axes>"
      ]
     },
     "metadata": {},
     "output_type": "display_data"
    }
   ],
   "source": [
    "# collect runtime data for qsort() with simple pivot as last element\n",
    "ave_runtimes_3 = []\n",
    "k = 10\n",
    "  \n",
    "for i in range(1,6):  \n",
    "    n_i = 10**i\n",
    "    ave_runtime_i = ave_rdmqsort_time(n_i, k)\n",
    "    #print(ave_runtime_i)\n",
    "    ave_runtimes_3.append(ave_runtime_i) # append average runtime\n",
    "    \n",
    "plt.plot(ns,ave_runtimes, color='darkorange', label='separate partition')\n",
    "plt.plot(ns,ave_runtimes_2, color='darkgreen', label='no separate partition')\n",
    "plt.plot(ns,ave_runtimes_3, color='blue', label='last-element partition')\n",
    "\n",
    "plt.title('Average runtime of randomized quicksort')\n",
    "plt.legend()\n",
    "plt.show()"
   ]
  },
  {
   "cell_type": "markdown",
   "metadata": {},
   "source": [
    "**observation**: simple partition by last element of subarray outperform both types of parition by median-of-three."
   ]
  },
  {
   "cell_type": "markdown",
   "metadata": {
    "deletable": false,
    "editable": false,
    "nbgrader": {
     "checksum": "51af6d987694ab6231a6f4aa19f39164",
     "grade": false,
     "grade_id": "cell-67512d1d42af415f",
     "locked": true,
     "schema_version": 1,
     "solution": false
    }
   },
   "source": [
    "## Part B. Recursive quicksort. \n",
    "\n",
    "One main difference between the quicksort algorithms in Cormen et al. and the implementation in the code above is that quick sort (in the code in this notebook) is not recursive, while $QUICKSORT$ in Cormen et al. is. Given the limitation of Python so that it can only make 500 recursive calls, estimate the maximum size of the list that can be sorted by Python if a recursive quicksort is to be used. Explicitly state all assumptions you make in getting to an answer.\n"
   ]
  },
  {
   "cell_type": "markdown",
   "metadata": {
    "deletable": false,
    "nbgrader": {
     "checksum": "7be7bc411376ac8090621f3d68630c10",
     "grade": true,
     "grade_id": "cell-4af5aab4ad1a7225",
     "locked": false,
     "points": 0,
     "schema_version": 1,
     "solution": true
    }
   },
   "source": [
    "assumptions:\n",
    "1. first pivot is last element of input array;\n",
    "2. each recursive call splits a current subarray into two subarrays;\n",
    "3. depending on the nature of input array, the split at each level is dynamic, a mixture of balanced and unbalanced splits;\n",
    "\n",
    "We could estimate the maximum size of the list through method of bisection: \n",
    "- in the worst-case (extremely unbalanced) scenario, for an input array of length n, there are total of n-1 recursive calls before breaking array down into elements of 1. due to Python limitation, n-1 <= 500, thus n_max = 501, this denotes the lower bound of n_max;\n",
    "- in the best-case (extremely balanced) scenario, for an input array of length n, there are total of lgn times of recursions, we know that lgn <= 500, --> n_max = 2^500, this denotes the upper bound of n_max; \n",
    "- in the average case, as long as the split is somewhat balanced, the overall recursive depth would be $log_a(n)$~$c\\theta(lgn)$ for some constant c, --> n_max = 2^(500/c)"
   ]
  },
  {
   "cell_type": "code",
   "execution_count": null,
   "metadata": {},
   "outputs": [],
   "source": []
  }
 ],
 "metadata": {
  "kernelspec": {
   "display_name": "Python 3",
   "language": "python",
   "name": "python3"
  },
  "language_info": {
   "codemirror_mode": {
    "name": "ipython",
    "version": 3
   },
   "file_extension": ".py",
   "mimetype": "text/x-python",
   "name": "python",
   "nbconvert_exporter": "python",
   "pygments_lexer": "ipython3",
   "version": "3.7.4"
  }
 },
 "nbformat": 4,
 "nbformat_minor": 2
}
