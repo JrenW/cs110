{
 "cells": [
  {
   "cell_type": "markdown",
   "metadata": {},
   "source": [
    "Before you turn this problem in, make sure everything runs as expected. First, **restart the kernel** (in the menubar, select Kernel$\\rightarrow$Restart) and then **run all cells** (in the menubar, select Cell$\\rightarrow$Run All).\n",
    "\n",
    "Make sure you fill in any place that says `YOUR CODE HERE` or \"YOUR ANSWER HERE\", as well as your name and collaborators below:"
   ]
  },
  {
   "cell_type": "code",
   "execution_count": null,
   "metadata": {
    "collapsed": true
   },
   "outputs": [],
   "source": [
    "NAME = \"Jingren Wang\"\n",
    "COLLABORATORS = \"N.A.\""
   ]
  },
  {
   "cell_type": "markdown",
   "metadata": {},
   "source": [
    "---"
   ]
  },
  {
   "cell_type": "markdown",
   "metadata": {
    "deletable": false,
    "editable": false,
    "nbgrader": {
     "checksum": "1a4c3cfc3c34bf644ee45d91835b6f70",
     "grade": false,
     "grade_id": "cell-61b183447ded09ef",
     "locked": true,
     "schema_version": 1,
     "solution": false
    }
   },
   "source": [
    "# CS110 Pre-class Work 5.2\n",
    "\n",
    "## Question 1.\n",
    "Using Figure 7.1 in Cormen et al. as a model, perform manually the partition process on the following list: A = [1,5,6,2,3,8,9,4,7]. You just need to specify the followings:\n",
    "1. The array after the process is done.\n",
    "2. The value of $i$ after the process is done."
   ]
  },
  {
   "cell_type": "markdown",
   "metadata": {
    "deletable": false,
    "nbgrader": {
     "checksum": "06dce98d07f8f042785a795b32e7ef75",
     "grade": true,
     "grade_id": "cell-7aa520f8af13679b",
     "locked": false,
     "points": 0,
     "schema_version": 1,
     "solution": true
    }
   },
   "source": [
    "<br>\n",
    "The partition process starts by picking the last element of the array A as the 'pivot', to be compared against rest of elements to the left. Here the pivot is 7.\n",
    "\n",
    "the index i holds the position of currently right-most element LESS than the pivot value, as j compares every element to the left of pivot. here, i starts at -1.\n",
    "if A[j] is less than or equal to the pivot, increment i and swap A[i], A[j]: \n",
    "\n",
    "1st as i = 0 and j = 0, A[j] = 1 < 7, so we update i to 1, and swap A[1]=5 with A[j]=1, next j goes to 1, we evaluate new A[j]=1\n",
    "\n",
    "Eventually, the **array after the partition process would be\n",
    "[1, 5, 6, 2, 3, 4, 9, 8, 7]**; \n",
    "\n",
    "and the **value of i after the process is 5**"
   ]
  },
  {
   "cell_type": "markdown",
   "metadata": {
    "deletable": false,
    "editable": false,
    "nbgrader": {
     "checksum": "21059776e9083caf84e8abb5b6fb893e",
     "grade": false,
     "grade_id": "cell-6c0a9dfd6980c336",
     "locked": true,
     "schema_version": 1,
     "solution": false
    }
   },
   "source": [
    "## Question 2.\n",
    "Code up a Python implementation of `partition(A, p, r)`, closely follow the pseudo-code in Cormen et al., p.172. Your function should return the index of the pivot in the array."
   ]
  },
  {
   "cell_type": "code",
   "execution_count": 123,
   "metadata": {
    "collapsed": true,
    "deletable": false,
    "nbgrader": {
     "checksum": "395997ac94ed1416c67b22f7977c07a5",
     "grade": false,
     "grade_id": "cell-1ceb2600756c60ff",
     "locked": false,
     "schema_version": 1,
     "solution": true
    }
   },
   "outputs": [],
   "source": [
    "def partition(A,p,r):\n",
    "    \"\"\"\n",
    "    Assume r<len(A) and p>=0 \n",
    "    \"\"\"\n",
    "    x = A[r]\n",
    "    i = p-1   # start at i= -1\n",
    "    for j in range(p, r): # j = p,...r-1\n",
    "        if A[j] <= x:\n",
    "            i += 1\n",
    "            A[i], A[j] = A[j],A[i] # bring A[j] to the LESS-than-pivot subarray\n",
    "   \n",
    "    A[i+1],A[r] = A[r], A[i+1] # bring x to 'home', i+1 position\n",
    "                # such that everything in A[: i] is LESS than x, and\n",
    "                # and every element in A[i+2: ] is MORE than x\n",
    "    \n",
    "    return i+1\n",
    "    \n",
    "    "
   ]
  },
  {
   "cell_type": "code",
   "execution_count": 124,
   "metadata": {},
   "outputs": [
    {
     "data": {
      "text/plain": [
       "[1, 2, 3]"
      ]
     },
     "execution_count": 124,
     "metadata": {},
     "output_type": "execute_result"
    }
   ],
   "source": [
    "A = [3,1,2]\n",
    "q = partition(A, 0, len(A)-1)\n",
    "A "
   ]
  },
  {
   "cell_type": "code",
   "execution_count": 125,
   "metadata": {},
   "outputs": [
    {
     "name": "stdout",
     "output_type": "stream",
     "text": [
      "array after partition:  [1, 5, 6, 2, 3, 4, 7, 8, 9]\n",
      "pivot index = 6\n"
     ]
    }
   ],
   "source": [
    "A = [1,5,6,2,3,8,9,4,7]\n",
    "q = partition(A, 0, len(A)-1)\n",
    "print('array after partition: ',A)\n",
    "print('pivot index =', q)"
   ]
  },
  {
   "cell_type": "code",
   "execution_count": 126,
   "metadata": {
    "collapsed": true,
    "deletable": false,
    "editable": false,
    "nbgrader": {
     "checksum": "34aa315313b6f9d8de8efe0922e5b563",
     "grade": true,
     "grade_id": "cell-a57b60117a7b82fb",
     "locked": true,
     "points": 1,
     "schema_version": 1,
     "solution": false
    }
   },
   "outputs": [],
   "source": [
    "A = [1,5,6,2,3,8,9,4,7]\n",
    "assert(partition(A, 0, len(A)-1)==6)"
   ]
  },
  {
   "cell_type": "markdown",
   "metadata": {
    "deletable": false,
    "editable": false,
    "nbgrader": {
     "checksum": "3496e310776eba92a8290d114db627cd",
     "grade": false,
     "grade_id": "cell-cd490c45f6733522",
     "locked": true,
     "schema_version": 1,
     "solution": false
    }
   },
   "source": [
    "## Question 3.\n",
    "\n",
    "Code up your own Python implementation of `quicksort(A, p, r)`, using `partition(A,p,r)`."
   ]
  },
  {
   "cell_type": "code",
   "execution_count": 130,
   "metadata": {
    "collapsed": true,
    "deletable": false,
    "nbgrader": {
     "checksum": "7e40c51fd1bd31c790aa0dd8abde1fb7",
     "grade": false,
     "grade_id": "cell-8c39ebb8cd1aa83a",
     "locked": false,
     "schema_version": 1,
     "solution": true
    }
   },
   "outputs": [],
   "source": [
    "def quick_sort(A,p,r):\n",
    "    if p < r: \n",
    "        q = partition(A,p,r)  # return the pivot index\n",
    "        quick_sort(A,p, q-1)  # subdision of LESS-than-pivot subarray\n",
    "        quick_sort(A,q+1, r)  # subdision of MORE-than-pivot subarray\n",
    "    \n",
    "    # no need to COMBINE, entire A sorted once base-level reached\n",
    "    return A  # return the sorted array"
   ]
  },
  {
   "cell_type": "code",
   "execution_count": 131,
   "metadata": {
    "collapsed": true,
    "deletable": false,
    "editable": false,
    "nbgrader": {
     "checksum": "80923d1142f0ef958a616db1105a8c1a",
     "grade": true,
     "grade_id": "cell-4f822430efd456ee",
     "locked": true,
     "points": 1,
     "schema_version": 1,
     "solution": false
    }
   },
   "outputs": [],
   "source": [
    "A = [0]\n",
    "assert(quick_sort(A, 0, 0) == [0])\n",
    "A = [3,1,2]\n",
    "assert(quick_sort(A, 0, 2) == [1,2,3])"
   ]
  },
  {
   "cell_type": "markdown",
   "metadata": {
    "deletable": false,
    "editable": false,
    "nbgrader": {
     "checksum": "741cfe874ccaef343713f81ec963360c",
     "grade": false,
     "grade_id": "cell-53941fba9302c591",
     "locked": true,
     "schema_version": 1,
     "solution": false
    }
   },
   "source": [
    "## Question 4. \n",
    "Explain (using experimental plots) the running time of `quick_sort` when: \n",
    "1. all elements of array A have the same value (e.g., [1,1,1])?\n",
    "2. array A contains distinct elements sorted in decreasing order (e.g., [5,4,2,1])?\n"
   ]
  },
  {
   "cell_type": "code",
   "execution_count": 211,
   "metadata": {
    "deletable": false,
    "nbgrader": {
     "checksum": "f5ddaf0e684d72d229df078b18f321f8",
     "grade": true,
     "grade_id": "cell-b58035dd5fa02329",
     "locked": false,
     "points": 0,
     "schema_version": 1,
     "solution": true
    }
   },
   "outputs": [
    {
     "name": "stdout",
     "output_type": "stream",
     "text": [
      "[0, 100, 200, 300, 400, 500, 600, 700, 800, 900, 1000, 1100, 1200, 1300, 1400, 1500, 1600, 1700, 1800, 1900, 2000]\n"
     ]
    },
    {
     "data": {
      "image/png": "[encoded data removed]",
      "text/plain": [
       "<matplotlib.figure.Figure at 0x113057e80>"
      ]
     },
     "metadata": {},
     "output_type": "display_data"
    }
   ],
   "source": [
    "from matplotlib import pyplot as plt\n",
    "import numpy as np\n",
    "import time \n",
    "\n",
    "# x-axis data\n",
    "Ns = [100*a for a in range(21)]\n",
    "print(Ns)\n",
    "\n",
    "# y-axis data\n",
    "## case 1: array of same value\n",
    "identicalList = []\n",
    "for N in Ns:\n",
    "    A = [1]*N\n",
    "    start_time = time.clock()\n",
    "    quick_sort(A,0,len(A)-1)\n",
    "    identicalList.append(time.clock()-start_time)\n",
    "\n",
    "    \n",
    "# plotting\n",
    "plt.plot(Ns,identicalList, color='darkgreen',label='identical elements')\n",
    "x = np.linspace(1,2000, 100)\n",
    "c_upr = 1.2e-7\n",
    "c_lwr = 7.5e-8\n",
    "plt.plot(x, c_upr*x**2, '--', color='darkorange', label=f'g1(n)={c_upr}*$n^2$' )\n",
    "plt.plot(x, c_lwr*x**2, '--', color='darkorange', label=f'g2(n)={c_lwr}*$n^2$' )\n",
    "plt.legend()\n",
    "plt.show()\n"
   ]
  },
  {
   "cell_type": "code",
   "execution_count": 212,
   "metadata": {},
   "outputs": [
    {
     "data": {
      "image/png": "[encoded data removed]",
      "text/plain": [
       "<matplotlib.figure.Figure at 0x1131d0198>"
      ]
     },
     "metadata": {},
     "output_type": "display_data"
    }
   ],
   "source": [
    "## case 2: strict descent array (worst case)\n",
    "descentList = []\n",
    "for N in Ns:\n",
    "    A = list(range(N,0,-1))\n",
    "    start_time = time.clock()\n",
    "    quick_sort(A,0,len(A)-1)\n",
    "    descentList.append(time.clock()-start_time)\n",
    "    \n",
    "\n",
    "# plotting\n",
    "plt.plot(Ns,descentList,color='blue', label='descent A[i]')\n",
    "x = np.linspace(1,2000, 100)\n",
    "c_upr = 7.7e-8\n",
    "c_lwr = 5.5e-8\n",
    "plt.plot(x, c_upr*x**2, '--', color='red', label=f'g1(n)={c_upr}*$n^2$' )\n",
    "plt.plot(x, c_lwr*x**2, '--', color='red', label=f'g2(n)={c_lwr}*$n^2$' )\n",
    "plt.legend()\n",
    "plt.show()\n"
   ]
  },
  {
   "cell_type": "markdown",
   "metadata": {},
   "source": [
    "From runtime plot above, we can see that both cases run at $\\theta(n^2)$ experimentally,as we can always find two constants $c_l$ and $c_u$ such that $c_l*n^2$ <= $T(n)$ <= $c_u*n^2$ for some positive n_0 <br>\n",
    "which makes sense as every partition results in an extremely skewed binary tree of an empty list and A[:p-1], at a cost of $\\theta$(n), thus, the recursive relationship is T(n) = T(n-1)+ T(0) + $\\theta$(n) = T(n-1) + $\\theta$(n). Sum of T(n) to T(1) amounts to n(n-1)/2 ~ $\\theta(n^2)$"
   ]
  },
  {
   "cell_type": "code",
   "execution_count": null,
   "metadata": {
    "collapsed": true
   },
   "outputs": [],
   "source": []
  }
 ],
 "metadata": {
  "kernelspec": {
   "display_name": "Python 3",
   "language": "python",
   "name": "python3"
  },
  "language_info": {
   "codemirror_mode": {
    "name": "ipython",
    "version": 3
   },
   "file_extension": ".py",
   "mimetype": "text/x-python",
   "name": "python",
   "nbconvert_exporter": "python",
   "pygments_lexer": "ipython3",
   "version": "3.6.9"
  }
 },
 "nbformat": 4,
 "nbformat_minor": 2
}
