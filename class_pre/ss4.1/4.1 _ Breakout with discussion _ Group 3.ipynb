{
 "cells": [
  {
   "cell_type": "markdown",
   "metadata": {
    "collapsed": false
   },
   "source": [
    "<div class=\"panel panel-success\">\n",
    "  <div class=\"panel-heading\">\n",
    "    <h3 class=\"panel-title\">BREAKOUT INSTRUCTIONS</h3>\n",
    "  </div> \n",
    "  <div class=\"panel-body\">\n",
    "      In this breakout you will create a simulation of a radioactive event using a <i><b> Priority Queue!</b></i><br>\n",
    "Make sure to discuss all the Particle simulator steps involved and answer the question below, notice that some questions require that you complete the coding parts\"\n",
    "    </div>\n",
    "</div>\n"
   ]
  },
  {
   "cell_type": "markdown",
   "metadata": {
    "collapsed": false
   },
   "source": [
    "<span class='minerva-question' style='background-color:#5cb85c;padding: 5px 20px 5px 20px;line-height:30px;color:white;font-weight: bold; border-radius: 25px'>Question </span>\n",
    "\n",
    "Complete the simulator code by writing the corresponding Python code in the areas marked ``“### [TODO]`` is visible so that this code performs simple discrete-events, continuous-time simulation of atomic decay."
   ]
  },
  {
   "cell_type": "code",
   "execution_count": 1,
   "metadata": {
    "collapsed": false
   },
   "outputs": [
    {
     "name": "stdout",
     "output_type": "stream",
     "text": [
      "“Step 1: Initializing the particle simulator”\n",
      "“Step 2: Running the particle simulator”\n",
      "[False, False, False, False, False, False, False, False, False, False, False, False, False, False, False, False, False, False, False, False, False, False, False, False, False, False, False, False, False, False, False, False, False, False, False, False, False, False, False, False, False, False, False, False, False, False, False, False, False, False, False, False, False, False, False, False, False, False, False, False, False, False, False, False, False, False, False, False, False, False, False, False, False, False, False, False, False, False, False, False, False, False, False, False, False, False, False, False, False, False, False, False, False, False, False, False, False, False, False, False, False, False, False, False, False, False, False, False, False, False, False, False, False, False, False, False, False, False, False, False, False, False, False, False, False, False, False, False, False, False, False, False, False, False, False, False, False, False, False, False, False, False, False, False, False, False, False, False, False, False, False, False, False, False, False, False, False, False, False, False, False, False, False, False, False, False, False, False, False, False, False, False, False, False, False, False, False, False, False, False, False, False, False, False, False, False, False, False, False, False, False, False, False, False, False, False, False, False, False, False, False, False, False, False, False, False, False, False, False, False, False, False, False, False, False, False, False, False, False, False, False, False, False, False, False, False, False, False, False, False, False, False, False, False, False, False, False, False, False, False, False, False, False, False, False, False, False, False, False, False, False, False, False, False, False, False, False, False, False, False, False, False, False, False, False, False, False, False, False, False, False, False, False, False, False, False, False, False, False, False, False, False, False, False, False, False, False, False, False, False, False, False, False, False, False, False, False, False, False, False, False, False, False, False, False, False, False, False, False, False, False, False, False, False, False, False, False, False, False, False, False, False, False, False, False, False, False, False, False, False, False, False, False, False, False, False, False, False, False, False, False, False, False, False, False, False, False, False, False, False, False, False, False, False, False, False, False, False, False, False, False, False, False, False, False, False, False, False, False, False, False, False, False, False, False, False, False, False, False, False, False, False, False, False, False, False, False, False, False, False, False, False, False, False, False, False, False, False, False, False, False, False, False, False, False, False, False, False, False, False, False, False, False, False, False, False, False, False, False, False, False, False, False, False, False, False, False, False, False, False, False, False, False, False, False, False, False, False, False, False, False, False, False, False, False, False, False, False, False, False, False, False, False, False, False, False, False, False, False, False, False, False, False, False, False, False, False, False, False, False, False, False, False, False, False, False, False, False, False, False, False, False, False, False, False, False, False, False, False, False, False, False, False, False, False, False, False, False, False, False, False, False, False, False, False, False, False, False, False, False, False, False, False, False, False, False, False, False, False, False, False, False, False, False, False, False, False, False, False, False, False, False, False, False, False, False, False, False, False, False, False, False, False, False, False, False, False, False, False, False, False, False, False, False, False, False, False, False, False, False, False, False, False, False, False, False, False, False, False, False, False, False, False, False, False, False, False, False, False, False, False, False, False, False, False, False, False, False, False, False, False, False, False, False, False, False, False, False, False, False, False, False, False, False, False, False, False, False, False, False, False, False, False, False, False, False, False, False, False, False, False, False, False, False, False, False, False, False, False, False, False, False, False, False, False, False, False, False, False, False, False, False, False, False, False, False, False, False, False, False, False, False, False, False, False, False, False, False, False, False, False, False, False, False, False, False, False, False, False, False, False, False, False, False, False, False, False, False, False, False, False, False, False, False, False, False, False, False, False, False, False, False, False, False, False, False, False, False, False, False, False, False, False, False, False, False, False, False, False, False, False, False, False, False, False, False, False, False, False, False, False, False, False, False, False, False, False, False, False, False, False, False, False, False, False, False, False, False, False, False, False, False, False, False, False, False, False, False, False, False, False, False, False, False, False, False, False, False, False, False, False, False, False, False, False, False, False, False, False, False, False, False, False, False, False, False, False, False, False, False, False, False, False, False, False, False, False, False, False, False, False, False, False, False, False, False, False, False, False, False, False, False, False, False, False, False, False, False, False, False, False, False, False, False, False, False, False, False, False, False, False, False, False, False, False, False, False, False, False, False, False, False, False, False, False, False, False, False, False, False, False, False, False, False, False, False, False, False, False, False, False, False, False, False, False, False, False, False, False, False, False, False, False, False, False, False, False, False, False, False, False, False, False, False, False, False, False, False, False, False, False, False, False, False, False, False, False, False, False, False, False, False, False, False, False, False, False, False, False, False, False, False, False, False, False, False, False, False, False, False, False, False, False, False, False, False, False, False, False, False, False, False, False, False, False, False, False, False, False, False, False, False, False, False, False, False, False, False, False, False, False, False, False, False, False, False, False, False, False, False, False, False, False, False, False, False, False, False, False, False, False, False, False, False, False, False, False, False, False, False, False, False, False, False, False, False, False, False, False, False, False, False, False, False, False, False, False, False, False, False, False, False, False, False, False, False, False, False, False, False]\n"
     ]
    }
   ],
   "source": [
    "#“A simple simulation of radioactivity.”\n",
    "import heapq\n",
    "import random\n",
    "\n",
    "N = 1000  # Number of atoms\n",
    "p_hit = 0.9  # Probability that a particle will hit another atom\n",
    "n_particles = 2  # Number of particles released\n",
    "halflife = 1e6  # halflife of the atoms:\n",
    "collision_time = 1e-6  # Time for collision:\n",
    "\n",
    "\n",
    "def decay(has_decayed, current_time, index, heap):\n",
    "    if has_decayed[index]:\n",
    "        return  # This atom had already been marked as decayed, return early\n",
    "    # now a new atom has decayed\n",
    "    print(f\"Atom {index} decayed at time {current_time}.\")\n",
    "    has_decayed[index] = True\n",
    "    for n in range(n_particles):\n",
    "        if random.random() < p_hit: # randomly the particle which resulted from the atom decay hits other atoms.\n",
    "            print(\"particle will hit another atom’\")\n",
    "            next_time = current_time + collision_time\n",
    "            next_index = random.randint(0, N - 1)\n",
    "            heapq.heapreplace(heap, (next_time, next_index))\n",
    "            # Schedule the decay of the affected atom in next_index at time next_time\n",
    "            ### TODO: enter your code to schedule the newly created particle here\n",
    "            \n",
    "\n",
    "print(\"“Step 1: Initializing the particle simulator”\")\n",
    "has_decayed = [False for a in range(N)]\n",
    "times = [random.expovariate(1.0 / halflife) for a in range(N)]\n",
    "# Create a heap containing the times of all the atoms decays:\n",
    "###\n",
    "\n",
    "# called list comprehension\n",
    "heap = [(t,i) for i, t in enumerate(times)]\n",
    "heap = heapq.heapify(heap) ### your code here\n",
    "print(\"“Step 2: Running the particle simulator”\")\n",
    "# Now implement a continuous time simulation using a heap:\n",
    "while heap:\n",
    "    (time, index) = heapq.heappop()\n",
    "    print(time,index)\n",
    "    decay(has_decayed, time, index, heap)\n",
    "\n",
    "# print(\"“Finished”\")\n",
    "print(has_decayed)"
   ]
  },
  {
   "cell_type": "code",
   "execution_count": 2,
   "metadata": {
    "collapsed": false
   },
   "outputs": [
    {
     "data": {
      "text/plain": [
       "\u001b[0;31mType:\u001b[0m        module\n",
       "\u001b[0;31mString form:\u001b[0m <module 'heapq' from '/usr/lib/python3.6/heapq.py'>\n",
       "\u001b[0;31mFile:\u001b[0m        /usr/lib/python3.6/heapq.py\n",
       "\u001b[0;31mDocstring:\u001b[0m  \n",
       "Heap queue algorithm (a.k.a. priority queue).\n",
       "\n",
       "Heaps are arrays for which a[k] <= a[2*k+1] and a[k] <= a[2*k+2] for\n",
       "all k, counting elements from 0.  For the sake of comparison,\n",
       "non-existing elements are considered to be infinite.  The interesting\n",
       "property of a heap is that a[0] is always its smallest element.\n",
       "\n",
       "Usage:\n",
       "\n",
       "heap = []            # creates an empty heap\n",
       "heappush(heap, item) # pushes a new item on the heap\n",
       "item = heappop(heap) # pops the smallest item from the heap\n",
       "item = heap[0]       # smallest item on the heap without popping it\n",
       "heapify(x)           # transforms list into a heap, in-place, in linear time\n",
       "item = heapreplace(heap, item) # pops and returns smallest item, and adds\n",
       "                               # new item; the heap size is unchanged\n",
       "\n",
       "Our API differs from textbook heap algorithms as follows:\n",
       "\n",
       "- We use 0-based indexing.  This makes the relationship between the\n",
       "  index for a node and the indexes for its children slightly less\n",
       "  obvious, but is more suitable since Python uses 0-based indexing.\n",
       "\n",
       "- Our heappop() method returns the smallest item, not the largest.\n",
       "\n",
       "These two make it possible to view the heap as a regular Python list\n",
       "without surprises: heap[0] is the smallest item, and heap.sort()\n",
       "maintains the heap invariant!\n"
      ]
     },
     "execution_count": 2,
     "metadata": {
     },
     "output_type": "execute_result",
     "start": 0
    }
   ],
   "source": [
    "import heapq\n",
    "?heapq"
   ]
  },
  {
   "cell_type": "code",
   "execution_count": 0,
   "metadata": {
    "collapsed": false
   },
   "outputs": [
   ],
   "source": [
   ]
  }
 ],
 "metadata": {
  "kernelspec": {
   "display_name": "Python 3 (system-wide)",
   "language": "python",
   "metadata": {
    "cocalc": {
     "description": "Python 3 programming language",
     "priority": 100,
     "url": "https://www.python.org/"
    }
   },
   "name": "python3"
  },
  "language_info": {
   "codemirror_mode": {
    "name": "ipython",
    "version": 3
   },
   "file_extension": ".py",
   "mimetype": "text/x-python",
   "name": "python",
   "nbconvert_exporter": "python",
   "pygments_lexer": "ipython3",
   "version": "3.6.8"
  }
 },
 "nbformat": 4,
 "nbformat_minor": 0
}