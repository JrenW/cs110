{
 "cells": [
  {
   "cell_type": "markdown",
   "metadata": {},
   "source": [
    "Before you turn this problem in, make sure everything runs as expected. First, **restart the kernel** (in the menubar, select Kernel$\\rightarrow$Restart) and then **run all cells** (in the menubar, select Cell$\\rightarrow$Run All).\n",
    "\n",
    "Make sure you fill in any place that says `YOUR CODE HERE` or \"YOUR ANSWER HERE\", as well as your name and collaborators below:"
   ]
  },
  {
   "cell_type": "code",
   "execution_count": 394,
   "metadata": {
    "collapsed": true
   },
   "outputs": [],
   "source": [
    "NAME = \"Jingren Wang\"\n",
    "COLLABORATORS = \"N.A.\""
   ]
  },
  {
   "cell_type": "markdown",
   "metadata": {},
   "source": [
    "---"
   ]
  },
  {
   "cell_type": "markdown",
   "metadata": {
    "deletable": false,
    "editable": false,
    "nbgrader": {
     "checksum": "69779d40de39e2fcb822ffd099ed946a",
     "grade": false,
     "grade_id": "cell-361a67c139252f60",
     "locked": true,
     "schema_version": 1,
     "solution": false
    }
   },
   "source": [
    "# CS110 Pre-class Work 5.1\n",
    "\n",
    "## Question 1.\n",
    "\n",
    "### Question 1a.\n",
    "\n",
    "Write the worst sort function in the world, `worst_sort`. This function takes a list, and then randomly shuffles it until it happens to be in sorted order. Once it is in sorted order then the list is returned.\n"
   ]
  },
  {
   "cell_type": "code",
   "execution_count": 395,
   "metadata": {
    "collapsed": true,
    "deletable": false,
    "nbgrader": {
     "checksum": "c144735a0a3c9ee1e5a60e781fec46a9",
     "grade": false,
     "grade_id": "cell-ead9c74054a1c5da",
     "locked": false,
     "schema_version": 1,
     "solution": true
    }
   },
   "outputs": [],
   "source": [
    "import numpy as np\n",
    "\n",
    "def worst_sort(A):\n",
    "    \"\"\"\n",
    "    Sort A in ascending order by randomly shuffling its \n",
    "    elements until they are in order.\n",
    "    \n",
    "    Input:\n",
    "    - A: list of numerical values\n",
    "    \n",
    "    Output:\n",
    "    - A: Sorted list\n",
    "    \"\"\"\n",
    "    count = 0 \n",
    "        \n",
    "    A = list(A)  # cast to list object\n",
    "    B = list(A) \n",
    "    B.sort()\n",
    "    \n",
    "    # continue list shuffle until sorted\n",
    "    while A != B:   \n",
    "        np.random.shuffle(A)\n",
    "        count += 1\n",
    "        \n",
    "    return A, count\n"
   ]
  },
  {
   "cell_type": "code",
   "execution_count": 396,
   "metadata": {
    "scrolled": false
   },
   "outputs": [
    {
     "name": "stdout",
     "output_type": "stream",
     "text": [
      ">>> input A = [2, 3, 1, 8, 99, 12, 5]\n",
      "A has 7 elements\n",
      "worst_sort takes 125 times to sort A\n",
      ">>> output A =[2, 3, 1, 8, 99, 12, 5]\n"
     ]
    }
   ],
   "source": [
    "# test case:   \n",
    "A = [2, 3, 1, 8, 99, 12, 5]\n",
    "print(f'>>> input A = {A}')\n",
    "print(f'A has {len(A)} elements')\n",
    "A_output = worst_sort(A)[0]\n",
    "count = worst_sort(A)[1]\n",
    "print(f'worst_sort takes {count} times to sort A')\n",
    "print(f'>>> output A ={A}')\n"
   ]
  },
  {
   "cell_type": "code",
   "execution_count": 397,
   "metadata": {},
   "outputs": [
    {
     "name": "stdout",
     "output_type": "stream",
     "text": [
      ">>> input A = [22, 22, 22, 22, 22]\n",
      "A has 5 elements\n",
      "worst_sort takes 0 times to sort A\n",
      ">>> output A =[22, 22, 22, 22, 22]\n"
     ]
    }
   ],
   "source": [
    "A = [22,22,22,22,22]\n",
    "print(f'>>> input A = {A}')\n",
    "print(f'A has {len(A)} elements')\n",
    "A_output = worst_sort(A)[0]\n",
    "count = worst_sort(A)[1]\n",
    "print(f'worst_sort takes {count} times to sort A')\n",
    "print(f'>>> output A ={A}')\n"
   ]
  },
  {
   "cell_type": "code",
   "execution_count": 398,
   "metadata": {
    "collapsed": true,
    "deletable": false,
    "editable": false,
    "nbgrader": {
     "checksum": "09c3f02f46b5ba86c3aa80498b9c8c34",
     "grade": true,
     "grade_id": "cell-ff4db3a3e8b04515",
     "locked": true,
     "points": 1,
     "schema_version": 1,
     "solution": false
    }
   },
   "outputs": [],
   "source": [
    "# Please ignore this cell. This cell is for us to implement the tests \n",
    "# to see if your code works properly. "
   ]
  },
  {
   "cell_type": "markdown",
   "metadata": {
    "deletable": false,
    "editable": false,
    "nbgrader": {
     "checksum": "18d2bd43c2db165cb6806cb1e14df4f1",
     "grade": false,
     "grade_id": "cell-3ffcfdae9ec3ea41",
     "locked": true,
     "schema_version": 1,
     "solution": false
    }
   },
   "source": [
    "### Question 1b.\n",
    "What is the best case complexity of this algorithm?"
   ]
  },
  {
   "cell_type": "markdown",
   "metadata": {
    "deletable": false,
    "nbgrader": {
     "checksum": "76bf94004078f73d21791758ac6db72b",
     "grade": true,
     "grade_id": "cell-afac80171b3b6232",
     "locked": false,
     "points": 0,
     "schema_version": 1,
     "solution": true
    }
   },
   "source": [
    "The best case happens when the input list is already sorted, so while loop evaluates to false, and input A returned directly, only steps of operation is a couple of assignment statement, and B.sort() of a sorted list, which takes constant time, so O(1). <br>\n",
    "Special cases of such could be <br>\n",
    "1) input list have all identical elements; <br>2) input list is a single number."
   ]
  },
  {
   "cell_type": "markdown",
   "metadata": {
    "deletable": false,
    "editable": false,
    "nbgrader": {
     "checksum": "1b1210d5a27f9933086d0f3a0d234361",
     "grade": false,
     "grade_id": "cell-d98018127b7e79f4",
     "locked": true,
     "schema_version": 1,
     "solution": false
    }
   },
   "source": [
    "### Question 1c.\n",
    "\n",
    "What is the average case complexity?\n"
   ]
  },
  {
   "cell_type": "markdown",
   "metadata": {
    "deletable": false,
    "nbgrader": {
     "checksum": "97d1e74314efdae93ea73d510e233468",
     "grade": true,
     "grade_id": "cell-9d52d34daa1e3478",
     "locked": false,
     "points": 0,
     "schema_version": 1,
     "solution": true
    }
   },
   "source": [
    "For an input array of length n, there is a total of n! permutation of A elements, and only 1 of which matches the sorted list. <br> \n",
    "Here, if we define the event of shuffle out the sorted list (A) from n! possible permutations as an indicator random variable I, such that <br>\n",
    "\n",
    "    I{A} = 1 when he sorted list is shuffled out, and\n",
    "    I{A} = 0 when the sorted list is not shuffled out, \n",
    "    we also know that the probability of shuffle out the one sorted A out of n! permutations of A list is 1/n!, \n",
    "assume uniform distriubtion across all possible permutations,  we can compute the expected value of I{A} as E(I{A}) = Pr(I=0)x0 + Pr(I=1)x1 = 0+1x(1/n!) = 1/n!<br>\n",
    " This means that we expect to shuffle n! times on average to get the sorted list, i.e. average case complexity is O(n!)\n",
    " "
   ]
  },
  {
   "cell_type": "markdown",
   "metadata": {
    "deletable": false,
    "editable": false,
    "nbgrader": {
     "checksum": "fdbf5403114d2a68085e8172d0122685",
     "grade": false,
     "grade_id": "cell-d6d8ad45088488eb",
     "locked": true,
     "schema_version": 1,
     "solution": false
    }
   },
   "source": [
    "### Question 1d.\n",
    "\n",
    "For what size lists is this a feasible method?"
   ]
  },
  {
   "cell_type": "markdown",
   "metadata": {
    "deletable": false,
    "nbgrader": {
     "checksum": "080a5eecbe3afcffed278b7cbba7f51a",
     "grade": true,
     "grade_id": "cell-ab40f08768579798",
     "locked": false,
     "points": 0,
     "schema_version": 1,
     "solution": true
    }
   },
   "source": [
    "Here's an intuition of average case complexity of worst_sort()"
   ]
  },
  {
   "cell_type": "code",
   "execution_count": 399,
   "metadata": {},
   "outputs": [
    {
     "name": "stdout",
     "output_type": "stream",
     "text": [
      "n = [1, 2, 3, 4, 5, 6, 7, 8, 9, 10, 11, 12, 13, 14, 15, 16, 17, 18, 19, 20]\n",
      "n! = [1, 2, 6, 24, 120, 720, 5040, 40320, 362880, 3628800, 39916800, 479001600, 6227020800, 87178291200, 1307674368000, 20922789888000, 355687428096000, 6402373705728000, 121645100408832000, 2432902008176640000]\n"
     ]
    },
    {
     "data": {
      "image/png": "[encoded data removed]",
      "text/plain": [
       "<matplotlib.figure.Figure at 0x10eb26cf8>"
      ]
     },
     "metadata": {},
     "output_type": "display_data"
    }
   ],
   "source": [
    "from scipy import misc\n",
    "from matplotlib import pyplot as plt\n",
    "\n",
    "x = np.array(range(1,21))\n",
    "y = misc.factorial(x, exact=True)\n",
    "\n",
    "print('n =', list(x))\n",
    "print('n! =',list(y))\n",
    "\n",
    "plt.plot(x,y)\n",
    "plt.xlabel('array size, n')\n",
    "plt.ylabel('expected runtime')\n",
    "plt.show()\n"
   ]
  },
  {
   "cell_type": "markdown",
   "metadata": {},
   "source": [
    "Given the horrendous runtime growth just for the first 15 input size, in general worst sort is a feasible method probably with very short lists of, say, length less than 10."
   ]
  },
  {
   "cell_type": "markdown",
   "metadata": {
    "deletable": false,
    "editable": false,
    "nbgrader": {
     "checksum": "cbe19c6348c19b5df04e84b537f6ebf0",
     "grade": false,
     "grade_id": "cell-56ae4e75a4086ee8",
     "locked": true,
     "schema_version": 1,
     "solution": false
    }
   },
   "source": [
    "### [Optional] Question 1e.\n",
    "\n",
    "Can you think of an even worse sorting method? In such a case, what would its complexity be? How big a list could you sort?"
   ]
  },
  {
   "cell_type": "markdown",
   "metadata": {
    "deletable": false,
    "nbgrader": {
     "checksum": "564b860df18fb1bb2fc987ec4240f98d",
     "grade": true,
     "grade_id": "cell-ac05806942341926",
     "locked": false,
     "points": 0,
     "schema_version": 1,
     "solution": true
    }
   },
   "source": [
    "YOUR ANSWER HERE"
   ]
  },
  {
   "cell_type": "markdown",
   "metadata": {
    "deletable": false,
    "editable": false,
    "nbgrader": {
     "checksum": "c8d4696c279cfb37108a84fdde271057",
     "grade": false,
     "grade_id": "cell-16012d2af0ef00ec",
     "locked": true,
     "schema_version": 1,
     "solution": false
    }
   },
   "source": [
    "## Question 2.\n",
    "Approximate median finder. Given a list and δ (a number between 0 and 0.5), the approximate median finder function returns a number that is guaranteed to lie between the (50-δ/2)% and (50+δ/2)% percentiles. Implement such a function by randomly selecting an element from the list and testing whether or not it lies within the bounds. If it doesn’t then retry with a new random element, but only a limited number of retries are allowed (you decide the maximum number of retries.)\n",
    "\n",
    "### Question 2a.\n",
    "Complete the following function\n"
   ]
  },
  {
   "cell_type": "code",
   "execution_count": 400,
   "metadata": {
    "deletable": false,
    "nbgrader": {
     "checksum": "9ce93a3c3e022b8a93a85566123df36f",
     "grade": false,
     "grade_id": "cell-2ab65512a6148d3c",
     "locked": false,
     "schema_version": 1,
     "solution": true
    }
   },
   "outputs": [],
   "source": [
    "import math\n",
    "\n",
    "def check_approx_med(A, num, delta):\n",
    "    \"\"\"\n",
    "    Given a list and a number in a list, determine \n",
    "    whether it is within (50-delta/2)% and \n",
    "    (50+delta/2)% percentiles.\n",
    "    X% percentile of a list is defined to be the smallest number\n",
    "    in the list that is as large as at least X% numbers in the list. \n",
    "    \n",
    "    Input:\n",
    "    - A: list of numerical values\n",
    "    - num: the number of interest from the list A\n",
    "    - delta: the error, lies between 0 and 0.5\n",
    "    \n",
    "    Output:\n",
    "    - isApproxMed: a boolean value indicating \n",
    "    whether num is within the bound\n",
    "    \"\"\"\n",
    "\n",
    "    assert 0 < delta < 0.5,  'delta must between 0 and 0.5'\n",
    "    assert len(A)>0, 'input list can not be empty'\n",
    "    \n",
    "    n = len(A)\n",
    "        # find the index of target percentile \n",
    "    if n < 2: \n",
    "        return False # makes no sense to find a median in a single number\n",
    "  \n",
    "    lwr_idx = math.ceil(n*(0.5-delta/2))-1  # take ceilings\n",
    "    upr_idx = math.ceil(n*(0.5+delta/2))-1  # '-1' to convert count to array index\n",
    "    A.sort()\n",
    "    #print('A_sorted =',A)\n",
    "    lwr_bound = A[lwr_idx] # the number at 0.5-delta/2%\n",
    "    upr_bound = A[upr_idx] # the number at 0.5+delta/2%\n",
    "    #print('bounds=', f\"[{lwr_bound},{upr_bound}]\")\n",
    "    \n",
    "    isWithinBound = (num >= lwr_bound and num <= upr_bound)\n",
    "    return isWithinBound\n",
    "    \n",
    "\n",
    "    "
   ]
  },
  {
   "cell_type": "code",
   "execution_count": 401,
   "metadata": {
    "scrolled": false
   },
   "outputs": [
    {
     "data": {
      "text/plain": [
       "True"
      ]
     },
     "execution_count": 401,
     "metadata": {},
     "output_type": "execute_result"
    }
   ],
   "source": [
    "A = list(range(1,20))\n",
    "check_approx_med(A, 11, .1)"
   ]
  },
  {
   "cell_type": "code",
   "execution_count": 402,
   "metadata": {},
   "outputs": [
    {
     "name": "stdout",
     "output_type": "stream",
     "text": [
      "[10, 9, 8, 7, 6, 5, 4, 3, 2]\n"
     ]
    },
    {
     "data": {
      "text/plain": [
       "True"
      ]
     },
     "execution_count": 402,
     "metadata": {},
     "output_type": "execute_result"
    }
   ],
   "source": [
    "A = list(range(10,1,-1))\n",
    "print(A)\n",
    "num = 6\n",
    "check_approx_med(A, num, delta)\n"
   ]
  },
  {
   "cell_type": "code",
   "execution_count": 403,
   "metadata": {},
   "outputs": [],
   "source": [
    "# my test cases\n",
    "A = list(range(10,1,-1))\n",
    "B = [1,1,1,1,1]\n",
    "C = list(range(10,1,-1))\n",
    "assert(check_approx_med(A, 8, .1) == False)\n",
    "assert(check_approx_med(B, 1, .1) == True)\n",
    "assert(check_approx_med(C, 5, .2) == True)\n",
    "assert(check_approx_med(C, 1, .3) == False)"
   ]
  },
  {
   "cell_type": "code",
   "execution_count": 404,
   "metadata": {
    "deletable": false,
    "editable": false,
    "nbgrader": {
     "checksum": "e36da35c2400ca389ff7bb609167a787",
     "grade": true,
     "grade_id": "cell-df56d7433abb6517",
     "locked": true,
     "points": 1,
     "schema_version": 1,
     "solution": false
    }
   },
   "outputs": [],
   "source": [
    "assert(check_approx_med([0,1], 0, .25) == True)\n",
    "assert(check_approx_med([0], 0, .25) == False)"
   ]
  },
  {
   "cell_type": "markdown",
   "metadata": {
    "deletable": false,
    "editable": false,
    "nbgrader": {
     "checksum": "ea4f76410780e7134e2bc46fbe5663e9",
     "grade": false,
     "grade_id": "cell-18a16dfd102f137c",
     "locked": true,
     "schema_version": 1,
     "solution": false
    }
   },
   "source": [
    "### Question 2b.\n",
    "Complete the following function that makes use of `check_approx_med` above.\n"
   ]
  },
  {
   "cell_type": "code",
   "execution_count": 405,
   "metadata": {
    "deletable": false,
    "nbgrader": {
     "checksum": "2b3cfdf82e0efce4078cc52b3680f7be",
     "grade": false,
     "grade_id": "cell-e19685b545147dde",
     "locked": false,
     "schema_version": 1,
     "solution": true
    }
   },
   "outputs": [],
   "source": [
    "import random\n",
    "\n",
    "def approx_med_finder(A, delta):\n",
    "    \"\"\"\n",
    "    Given a list, find a number in the list that is between\n",
    "    50-delta/2% and 50+delta/2% percentiles\n",
    "    \n",
    "    Input:\n",
    "    - A: list of numerical values\n",
    "    - delta: the error, lies between 0 and 0.5\n",
    "    \n",
    "    Output:\n",
    "    - num: the approximated median, if it is found within 100//delta trials (this is one possible \n",
    "    maximum number of retries. While you are encouraged to play around with another limits, the \n",
    "    submitted work must use this number.)\n",
    "    - None: finding failed, if nothing found within 100//delta trials\n",
    "\n",
    "    Note: the 100//delta is chosen here as it is the expected number of trials for the first successful finding to occur (using geometric distribution)\n",
    "    \"\"\"\n",
    "    assert 0 < delta < 0.5,  'valid error size: 0 < delta < 0.5 '\n",
    "    global tr # set a global trial counter for easy retrieval\n",
    "    tr = 0\n",
    "\n",
    "    k = int(100//delta)  # total number of trials\n",
    "\n",
    "    for i in range(k): \n",
    "        tr += 1\n",
    "        num = random.choice(A) #randomly draw a number from list A\n",
    "        if check_approx_med(A, num, delta):\n",
    "            return num\n",
    "    # if none number is found within k trials, return None\n",
    "    return None\n",
    "    "
   ]
  },
  {
   "cell_type": "code",
   "execution_count": 406,
   "metadata": {},
   "outputs": [
    {
     "name": "stdout",
     "output_type": "stream",
     "text": [
      "[10, 9, 8, 7, 6, 5, 4, 3, 2]\n",
      "median 6 is found on 6 trial, delta = 0.05\n"
     ]
    }
   ],
   "source": [
    "# a case:\n",
    "A = list(range(10,1,-1))\n",
    "print(A)\n",
    "delta = 0.05\n",
    "random.choice(A)\n",
    "median = approx_med_finder(A, delta)\n",
    "print(f'median {median} is found on {tr} trial, delta = {delta}')"
   ]
  },
  {
   "cell_type": "markdown",
   "metadata": {
    "deletable": false,
    "editable": false,
    "nbgrader": {
     "checksum": "77b77f7047dea39f9b7526a785f0e652",
     "grade": false,
     "grade_id": "cell-1863e0846b176982",
     "locked": true,
     "schema_version": 1,
     "solution": false
    }
   },
   "source": [
    "### Question 2c.\n",
    "\n",
    "What is the probability of failure in each random trial? What is the probability of failure after all the allowed random trials? Does this scale with δ or N (the number of elements in a list)?\n"
   ]
  },
  {
   "cell_type": "markdown",
   "metadata": {},
   "source": [
    "    Analytically:\n",
    "    for a sorted array of size N, the indices of delta error is denoted as lwr_idx, upr_idx, \n",
    "        [pseudo code]\n",
    "        lwr_idx = ceiling(N*(0.5-delta/2)) \n",
    "        upr_idx = ceiling(N*(0.5+delta/2))\n",
    "    the chance of randomly drawing a number within the median interval in a single trial would be:\n",
    "    (upr_idx-lwr_idx) / N \n",
    "    = ceiling(N*(delta))/N ~= N(delta/1) = delta\n",
    "    >>> Thus the probability of failure in each random trial is 1-delta.\n",
    "    \n",
    "      for a total number of k trials where k = 100// delta\n",
    "    The chance fo failing k trials would be\n",
    "        (1-delta)^k = (1-delta)^(100//delta)\n",
    "    The probability of failure on the k+1 trial is again (1-delta), so the probability of failing AFTER all allowed random trials would be\n",
    "    (1-delta)*(1-delta)^k = (1-delta)^(k+1)\n",
    "    \n",
    "    The probability should scale with delta, not N. "
   ]
  },
  {
   "cell_type": "markdown",
   "metadata": {
    "deletable": false,
    "nbgrader": {
     "checksum": "f7d6ed353a91d12d66b53a735d84f81b",
     "grade": true,
     "grade_id": "cell-efe7ab76f6a2546a",
     "locked": false,
     "points": 0,
     "schema_version": 1,
     "solution": true
    }
   },
   "source": []
  },
  {
   "cell_type": "markdown",
   "metadata": {
    "deletable": false,
    "editable": false,
    "nbgrader": {
     "checksum": "a602a3cad0ff35029b447d00dcee6b6c",
     "grade": false,
     "grade_id": "cell-a41fe377076cd283",
     "locked": true,
     "schema_version": 1,
     "solution": false
    }
   },
   "source": [
    "### Question 2d.\n",
    "Analyze the expected runtime of `approx_med_finder`. Note that because the function uses `check_approx_med`, you will most likely need to analyze the runtime of that function, too."
   ]
  },
  {
   "cell_type": "markdown",
   "metadata": {},
   "source": [
    "     Expected runtime for check_approx_med():\n",
    "     1) calcutating lower and upper indices take constant time;\n",
    "     2) A.sort() takes nlogn time;\n",
    "     3) finding element of indices take constatn time\n",
    "     4) assignment and boolean evaluation takes constant time\n",
    "     overall, check_approx_med() expects runtime O(nlgn)\n",
    "     \n",
    "      Expected runtime for approx_med_finder() depends on how many times check_approx_med() is called. \n",
    "     Let X be the event that a number is returned within k=100//delta trials, and Xi be the indicator random variable of ith call for check_approx_med(), such that, if check_approx_med(), Xi=1, if check_approx_med() is false, Xi=0,\n",
    "     from 2c, we know that the probability of a single trial being true is delta, so E(I{Xi}] = pr(Xi=1)*1+pr(Xi=0)*0 = pr(Xi=1) = delta.\n",
    "     Next, the expected value of X is the sum of E(I{c}] for m trials m <=k such that all check_approx_med() but the last one evaluates to false. Thus, E[X] = E{sum_Xi] = sum(E(Xi)) = m*delta, for m <=k, and the expected runtime would be T(n) = m*delta*nlogn ~ O(nlogn)\n",
    "     at m=k, k=100//delta, the upper bound is k*delta ~100, the algorithm at most run T(n) = 100*(nlogn)+c "
   ]
  },
  {
   "cell_type": "code",
   "execution_count": null,
   "metadata": {
    "collapsed": true
   },
   "outputs": [],
   "source": []
  },
  {
   "cell_type": "markdown",
   "metadata": {
    "deletable": false,
    "nbgrader": {
     "checksum": "255d88cf8e4f6ff8b3eb05cab2aa5f48",
     "grade": true,
     "grade_id": "cell-86b199798477fc2a",
     "locked": false,
     "points": 0,
     "schema_version": 1,
     "solution": true
    }
   },
   "source": [
    "YOUR ANSWER HERE"
   ]
  }
 ],
 "metadata": {
  "kernelspec": {
   "display_name": "Python 3",
   "language": "python",
   "name": "python3"
  },
  "language_info": {
   "codemirror_mode": {
    "name": "ipython",
    "version": 3
   },
   "file_extension": ".py",
   "mimetype": "text/x-python",
   "name": "python",
   "nbconvert_exporter": "python",
   "pygments_lexer": "ipython3",
   "version": "3.6.2"
  }
 },
 "nbformat": 4,
 "nbformat_minor": 2
}
