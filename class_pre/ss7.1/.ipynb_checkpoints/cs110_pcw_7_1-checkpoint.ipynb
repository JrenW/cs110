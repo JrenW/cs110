{
 "cells": [
  {
   "cell_type": "markdown",
   "metadata": {},
   "source": [
    "Before you turn this problem in, make sure everything runs as expected. First, **restart the kernel** (in the menubar, select Kernel$\\rightarrow$Restart) and then **run all cells** (in the menubar, select Cell$\\rightarrow$Run All).\n",
    "\n",
    "Make sure you fill in any place that says `YOUR CODE HERE` or \"YOUR ANSWER HERE\", as well as your name and collaborators below:"
   ]
  },
  {
   "cell_type": "code",
   "execution_count": 207,
   "metadata": {
    "collapsed": true
   },
   "outputs": [],
   "source": [
    "NAME = \"Jingren Wang\"\n",
    "COLLABORATORS = \"N.A.\""
   ]
  },
  {
   "cell_type": "markdown",
   "metadata": {},
   "source": [
    "---"
   ]
  },
  {
   "cell_type": "markdown",
   "metadata": {
    "deletable": false,
    "editable": false,
    "nbgrader": {
     "checksum": "b829d01fa88366d60630dae1299fa764",
     "grade": false,
     "grade_id": "cell-d94cea4a211410ce",
     "locked": true,
     "schema_version": 1,
     "solution": false
    }
   },
   "source": [
    "# CS110 Pre-class Work 7.1\n",
    "\n",
    "## Part A. Median Heap (watch this [video explanation](https://www.youtube.com/watch?v=756_8C9YBZQ&list=PLF_a-qBXTGFektoI6JUOTRL36JlvD04BR&index=5&t=0s) or read this [description](https://stackoverflow.com/a/15319593/7946759))\n",
    "\n",
    "Throughout this pre-class work, please use the following definition of median: the median of a list of numbers is the one in the middle of the list when the list is ordered. When such the middle element can’t be determined (i.e., in a list of even length), the average of the two middle elements is the median. For example, 5 is the median of [-1,2,4,5,8,10,12], and (5+7)/2=6 is the median of [1,2,3,5,7,8,10,11].\n",
    "\n",
    "Using the idea from Lesson 3.2, we can use a pair of heaps to create a data structure which allows fast access to the median. Use the heapq module in python to create both a max-heap and a min-heap. Note that by default, the heapq module in python only creates min-heaps, but if we multiply elements by -1 when we store them, then we can also create max-heaps.\n",
    "\n",
    "\n",
    "## Question 1.\n",
    "Write a function `add_to_median_heap(minh, maxh, elem)`. It must accept a min heap, a max heap, and an element to add.\n"
   ]
  },
  {
   "cell_type": "code",
   "execution_count": 208,
   "metadata": {
    "deletable": false,
    "nbgrader": {
     "checksum": "3f8e0bb0de793ce786eba2f6715d69b3",
     "grade": false,
     "grade_id": "cell-50cb08de70712ee7",
     "locked": false,
     "schema_version": 1,
     "solution": true
    }
   },
   "outputs": [],
   "source": [
    "def add_to_median_heap(minh, maxh, elem):\n",
    "    '''\n",
    "    add one element from the input array A into \n",
    "    either the min-heap or the max-heap\n",
    "    make sure that the heap property is maintained in both heaps\n",
    "    input: \n",
    "        minh, maxh are lists with max/min- heap property\n",
    "    *always start with max-heap \n",
    "    '''\n",
    "    # if both heap lists empty, push invert of 1st elem into maxh  \n",
    "    if not maxh and not minh:\n",
    "        heapq.heappush(maxh,-elem) # -val is invert\n",
    "        \n",
    "    elif maxh: # if there is at least one element in maxh\n",
    "        # Insert/push the other streaming values\n",
    "        if elem >= -maxh[0]:  # maxh[0] = -maxh_root, so -maxh[0] = maxh_root\n",
    "            heapq.heappush(minh,elem)  # push to minh, no need to invert\n",
    "        else:\n",
    "            heapq.heappush(maxh,-elem) # push to maxh, remeber to invert\n",
    "            \n",
    "        # rebalance heaps after push by popping one elem from heap of\n",
    "        # greater length, and push it into another heap\n",
    "            # case 1: if maxh lead minh by 2 elements\n",
    "        if len(maxh)-len(minh)==2:\n",
    "            heapq.heappush(minh,-heapq.heappop(maxh))\n",
    "                        # remeber to invert pushed item\n",
    "            # case 2: if minh lead maxh by 2 elements\n",
    "        elif len(minh)-len(maxh)==2:\n",
    "            heapq.heappush(maxh,-heapq.heappop(minh))\n",
    "        \n",
    "    "
   ]
  },
  {
   "cell_type": "code",
   "execution_count": 209,
   "metadata": {},
   "outputs": [
    {
     "name": "stdout",
     "output_type": "stream",
     "text": [
      "maxh [-49, -43, -47, -33, -41, -45, -25, -19, -31, -35, -39, -27, -11, -9, -23, -1, -13, -7, -29, -5, -17, -15, -37, -3, -21]\n",
      "minh [51, 55, 53, 59, 63, 75, 57, 61, 69, 71, 67, 91, 87, 95, 99, 83, 65, 79, 73, 77, 81, 85, 89, 93, 97]\n"
     ]
    }
   ],
   "source": [
    "# self-check\n",
    "maxh = []\n",
    "minh = []\n",
    "A = [i for i in range(1,100,2)]\n",
    "\n",
    "for i in range(len(A)):\n",
    "    elem = A[i]\n",
    "    add_to_median_heap(minh, maxh, elem)\n",
    "\n",
    "\n",
    "print('maxh', maxh)\n",
    "print('minh', minh)\n",
    "    "
   ]
  },
  {
   "cell_type": "code",
   "execution_count": null,
   "metadata": {
    "collapsed": true
   },
   "outputs": [],
   "source": []
  },
  {
   "cell_type": "markdown",
   "metadata": {
    "deletable": false,
    "editable": false,
    "nbgrader": {
     "checksum": "47ae2ae64e7e5a094e32b8e29577ebd2",
     "grade": false,
     "grade_id": "cell-b62f7899e36af96f",
     "locked": true,
     "schema_version": 1,
     "solution": false
    }
   },
   "source": [
    "## Question 2\n",
    "Write a function `median(minh, maxh)`. It must return the median element.\n"
   ]
  },
  {
   "cell_type": "code",
   "execution_count": 210,
   "metadata": {
    "collapsed": true,
    "deletable": false,
    "nbgrader": {
     "checksum": "4fdb08f74f611846be80db8164227117",
     "grade": false,
     "grade_id": "cell-43ce866dd1dc2d5b",
     "locked": false,
     "schema_version": 1,
     "solution": true
    }
   },
   "outputs": [],
   "source": [
    "def median(minh, maxh):\n",
    "    '''\n",
    "    given minh, maxh, two lists, determine and return the median element\n",
    "    assume that elements of input maxh are inverted\n",
    "    * for purpose of uniform formatting, output floats\n",
    "    '''\n",
    "    # even numbers\n",
    "    if len(minh) == len(maxh):\n",
    "        return (minh[0]+ -maxh[0])/2\n",
    "    \n",
    "    # odd numbers, take the root of greater length\n",
    "    elif len(minh)-len(maxh) == 1:\n",
    "        return (float(minh[0]))\n",
    "    elif len(maxh)-len(minh) == 1: \n",
    "        return (float(-maxh[0]))\n",
    "    else:\n",
    "        return \"heap lengths differ by more than 1 element\"\n"
   ]
  },
  {
   "cell_type": "code",
   "execution_count": 211,
   "metadata": {
    "collapsed": true,
    "deletable": false,
    "editable": false,
    "nbgrader": {
     "checksum": "9f79f245efea8c7b7d7c444af36ad997",
     "grade": true,
     "grade_id": "cell-673faa69bf330eda",
     "locked": true,
     "points": 0,
     "schema_version": 1,
     "solution": false
    }
   },
   "outputs": [],
   "source": [
    "# Please ignore this cell. This cell is for us to implement the tests \n",
    "# to see if your code works properly. "
   ]
  },
  {
   "cell_type": "markdown",
   "metadata": {
    "deletable": false,
    "editable": false,
    "nbgrader": {
     "checksum": "ea112ad1eac7cf41487236cf22381071",
     "grade": false,
     "grade_id": "cell-ec86b3a3c5adaedf",
     "locked": true,
     "schema_version": 1,
     "solution": false
    }
   },
   "source": [
    "## Question 3.\n",
    "\n",
    "Uncomment and run the testing code given below to test your functions. It should print out numbers ranging from 1 to 50, in that order."
   ]
  },
  {
   "cell_type": "code",
   "execution_count": 212,
   "metadata": {},
   "outputs": [
    {
     "name": "stdout",
     "output_type": "stream",
     "text": [
      "1.0\n",
      "2.0\n",
      "3.0\n",
      "4.0\n",
      "5.0\n",
      "6.0\n",
      "7.0\n",
      "8.0\n",
      "9.0\n",
      "10.0\n",
      "11.0\n",
      "12.0\n",
      "13.0\n",
      "14.0\n",
      "15.0\n",
      "16.0\n",
      "17.0\n",
      "18.0\n",
      "19.0\n",
      "20.0\n",
      "21.0\n",
      "22.0\n",
      "23.0\n",
      "24.0\n",
      "25.0\n",
      "26.0\n",
      "27.0\n",
      "28.0\n",
      "29.0\n",
      "30.0\n",
      "31.0\n",
      "32.0\n",
      "33.0\n",
      "34.0\n",
      "35.0\n",
      "36.0\n",
      "37.0\n",
      "38.0\n",
      "39.0\n",
      "40.0\n",
      "41.0\n",
      "42.0\n",
      "43.0\n",
      "44.0\n",
      "45.0\n",
      "46.0\n",
      "47.0\n",
      "48.0\n",
      "49.0\n",
      "50.0\n"
     ]
    }
   ],
   "source": [
    "minh = []\n",
    "maxh = []\n",
    "for a in range(1,100,2):\n",
    "    add_to_median_heap(minh, maxh, a)\n",
    "    print(median(minh, maxh))  \n",
    "  "
   ]
  },
  {
   "cell_type": "markdown",
   "metadata": {
    "deletable": false,
    "editable": false,
    "nbgrader": {
     "checksum": "be3a94b3063c99a265c7b868e45a5f69",
     "grade": false,
     "grade_id": "cell-11d4510a48c38394",
     "locked": true,
     "schema_version": 1,
     "solution": false
    }
   },
   "source": [
    "## Question 4.\n",
    "What’s the worst case complexity to build a median heap using `add_to_median_heap`?"
   ]
  },
  {
   "cell_type": "code",
   "execution_count": null,
   "metadata": {
    "collapsed": true
   },
   "outputs": [],
   "source": [
    "    # if both heap lists empty, push invert of 1st elem into maxh  \n",
    "    if not maxh and not minh:\n",
    "        heapq.heappush(maxh,-elem) # -val is invert\n",
    "        \n",
    "    elif maxh: # if there is at least one element in maxh\n",
    "        # Insert/push the other streaming values\n",
    "        if elem >= -maxh[0]:  # maxh[0] = -maxh_root, so -maxh[0] = maxh_root\n",
    "            heapq.heappush(minh,elem)  # push to minh, no need to invert\n",
    "        else:\n",
    "            heapq.heappush(maxh,-elem) # push to maxh, remeber to invert\n",
    "            \n",
    "        # rebalance heaps after push by popping one elem from heap of\n",
    "        # greater length, and push it into another heap\n",
    "            # case 1: if maxh lead minh by 2 elements\n",
    "        if len(maxh)-len(minh)==2:\n",
    "            heapq.heappush(minh,-heapq.heappop(maxh))\n",
    "                        # remeber to invert pushed item\n",
    "            # case 2: if minh lead maxh by 2 elements\n",
    "        elif len(minh)-len(maxh)==2:\n",
    "            heapq.heappush(maxh,-heapq.heappop(minh))"
   ]
  },
  {
   "cell_type": "markdown",
   "metadata": {
    "deletable": false,
    "nbgrader": {
     "checksum": "4ddd5b5c6be74e7306bd08ee76a1b858",
     "grade": true,
     "grade_id": "cell-c8e33ebdc8aaf328",
     "locked": false,
     "points": 0,
     "schema_version": 1,
     "solution": true
    }
   },
   "source": [
    "The built-in function heapq.heappush() and heapq.heappop both have O(lgn) complexity, the runtime complexity depends on the total number of heappush().<br>\n",
    "\n",
    "At given point of time where len(maxh) = p, and len(minh) = q, (p,q < n, total length of array), the runtime complexity of pushing the k-th element into one of the heaps takes lg(p) or lg(q) time, where p,q = [k/2-1, k/2+1] --> ave.p=q=k/2\n",
    "\n",
    "in the worst case where |p-q| == 2, a rebalance is needed where both pop and push are called once, so lg(p) + lg(q) \n",
    "overall, the worst case T(k) =  lg(p/q) + lg(p) + lg(q) ~= 3lg(k/2), where k <= n"
   ]
  },
  {
   "cell_type": "markdown",
   "metadata": {
    "deletable": false,
    "editable": false,
    "nbgrader": {
     "checksum": "8a1276ebbad9b1292badcb9090c8a910",
     "grade": false,
     "grade_id": "cell-dada08b7f913c96f",
     "locked": true,
     "schema_version": 1,
     "solution": false
    }
   },
   "source": [
    "## Question 5.\n",
    "What’s the worst case complexity of `median`?"
   ]
  },
  {
   "cell_type": "markdown",
   "metadata": {
    "deletable": false,
    "nbgrader": {
     "checksum": "7d67e5e84a28b798ba456d72603533f0",
     "grade": true,
     "grade_id": "cell-c061920faa337890",
     "locked": false,
     "points": 0,
     "schema_version": 1,
     "solution": true
    }
   },
   "source": [
    "The median function only contains if statement evaluation, in the worst case of an even list, it takes 1 step if-evaluation and 1 step arithmetic calculation of average of two medians, but the runtime would still be linear O(1)"
   ]
  },
  {
   "cell_type": "markdown",
   "metadata": {
    "deletable": false,
    "editable": false,
    "nbgrader": {
     "checksum": "73694bd23377143032d5224818a389b7",
     "grade": false,
     "grade_id": "cell-fcf89277dcd46cbe",
     "locked": true,
     "schema_version": 1,
     "solution": false
    }
   },
   "source": [
    "## Question 6.\n",
    "\n",
    "How does this way of finding the median compare with the vanilla way of sorting the list and pick the middle element? Use arguments based on efficiency or clearity of the respective algorithms."
   ]
  },
  {
   "cell_type": "markdown",
   "metadata": {
    "deletable": false,
    "nbgrader": {
     "checksum": "733fe35313ebf5888c622423bb7462b4",
     "grade": true,
     "grade_id": "cell-1f31afecda9730a7",
     "locked": false,
     "points": 0,
     "schema_version": 1,
     "solution": true
    }
   },
   "source": [
    "For an array of n elements, every element is pushed once, such that the k-th element requires lgk runtime. So total runtime is at least T_1(n) =lg1 + lg2 + .. lgn = lg(1*2*..*n) = lg(n!) ~= nlgn\n",
    "\n",
    "In the worst case, the 'check heap length balance' part is called every 2 elements (starting from the 4th element), and for each rebalance, both a push() and a pop() is called, so 2lg4 + 2lg6 + 2lg8 ..2lg2m, where 2m = n or n+1, simplify the series: \n",
    "\n",
    "T_2(n) = 2lg(2*2) + 2lg(2*3) + 2lg(2*4) ..2lg(2*m) = 2(m-1)lgm + 2lg(m!), where m ~= n/2, i.e. T_2(n) ~= (n-2)lg(n/2) + 2lg(n/2) = nlg(n/2) = nlgn - nlg0.5 = nlgn + n\n",
    "\n",
    "So T(n) = T_1(n) + T_2(n) ~= nlgn + nlgn + n ~= 2nlgn + 1\n",
    "\n",
    "This is the worst case, which could be as bad as a worst-case mergesort at O(nlgn); \n",
    "\n",
    "However, the average case would not need much rebalance so the coefficient of nlgn might be smaller than that of merge sort;\n",
    "\n",
    "Also, this method is in-place whereas mergesort takes extra memory to build auxiliary lists during merge process.\n"
   ]
  },
  {
   "cell_type": "markdown",
   "metadata": {
    "deletable": false,
    "editable": false,
    "nbgrader": {
     "checksum": "d4869e0b17f0248df4c3ae91668257e8",
     "grade": false,
     "grade_id": "cell-695c23986b831032",
     "locked": true,
     "schema_version": 1,
     "solution": false
    }
   },
   "source": [
    "## [Optional] Question 7.\n",
    "\n",
    "Is it possible to extend this idea to any percentile? If it is, then write code to do so. If it’s not possible, prove why it is not possible."
   ]
  },
  {
   "cell_type": "code",
   "execution_count": null,
   "metadata": {
    "deletable": false,
    "nbgrader": {
     "checksum": "c293e85a4cf43662dc635c9e0f511be4",
     "grade": true,
     "grade_id": "cell-4d0c197e6d484338",
     "locked": false,
     "points": 0,
     "schema_version": 1,
     "solution": true
    }
   },
   "outputs": [],
   "source": []
  },
  {
   "cell_type": "markdown",
   "metadata": {
    "deletable": false,
    "editable": false,
    "nbgrader": {
     "checksum": "bd7ff85760b2e8303c3b4482b6ca44b2",
     "grade": false,
     "grade_id": "cell-3cba7ecc0de11f1b",
     "locked": true,
     "schema_version": 1,
     "solution": false
    }
   },
   "source": [
    "## Part B. Quickselect\n",
    "\n",
    "Quicksort can be modified to find the $k$-th smallest element in an unordered list. This is known as quickselect. It does this by choosing a partition (as in quicksort). Once the list has been partitioned then we know how many elements lie to the left and to the right of the partition. This allows us to recursively call quickselect on the correct sublist.\n",
    "\n",
    "## Question 1.\n",
    "\n",
    "Write a function `qselect(lst, k)`, which takes both a list and an index $k$. The function must then return the $k$-th smallest item in the list.\n"
   ]
  },
  {
   "cell_type": "code",
   "execution_count": 611,
   "metadata": {
    "collapsed": true
   },
   "outputs": [],
   "source": [
    "# recall partition function\n",
    "def partition(A,p,r):\n",
    "    \"\"\"\n",
    "    Assume r<len(A) and p>=0 \n",
    "    \"\"\"\n",
    "    x = A[r]  # last element as the default pivot\n",
    "    i = p-1   # start at i= -1\n",
    "    for j in range(p, r): # j = p,...r-1\n",
    "        if A[j] <= x:\n",
    "            i += 1\n",
    "            A[i], A[j] = A[j],A[i] # bring A[j] to the LESS-than-pivot subarray\n",
    "   \n",
    "    A[i+1],A[r] = A[r], A[i+1] # bring x to 'home', i+1 position\n",
    "                # such that everything in A[: i] is LESS than x, and\n",
    "                # and every element in A[i+2: ] is MORE than x\n",
    "    \n",
    "    return i+1"
   ]
  },
  {
   "cell_type": "code",
   "execution_count": 612,
   "metadata": {
    "deletable": false,
    "nbgrader": {
     "checksum": "3714ebe85f9dbc77eb3bb3c106a009ea",
     "grade": false,
     "grade_id": "cell-fb9c2bc9d5b4bc92",
     "locked": false,
     "schema_version": 1,
     "solution": true
    }
   },
   "outputs": [],
   "source": [
    "def qselect(lst, k):\n",
    "    # check input validity\n",
    "    if len(lst) < 1:\n",
    "        return None\n",
    "\n",
    "    if k < 0 or k > len(lst) - 1:\n",
    "        raise IndexError()\n",
    "\n",
    "    def select(lst, l, r, k):\n",
    "        # add idx tracer for the left and right end of partition length\n",
    " \n",
    "        # base touched, return the kth-smallest item\n",
    "        if r == l:\n",
    "            return lst[l]\n",
    "        \n",
    "        # else, do partition \n",
    "        q = partition(lst, l, r)\n",
    "    \n",
    "        if k == q:  # if pivot index equal k, position of k-th smallest found\n",
    "            return lst[q]\n",
    "        \n",
    "        elif k < q: # if pivot index more than k, partition left side only\n",
    "            return select(lst, l, q-1, k)\n",
    "        \n",
    "        else:   # if pivot index less than k, partition right side only\n",
    "            return select(lst, q+1, r, k)\n",
    "\n",
    "    return select(lst, 0, len(lst)-1, k)\n",
    "\n"
   ]
  },
  {
   "cell_type": "code",
   "execution_count": 613,
   "metadata": {
    "deletable": false,
    "editable": false,
    "nbgrader": {
     "checksum": "5ee41421528107f7ae195a7197a5d6d9",
     "grade": true,
     "grade_id": "cell-85a25ed6a1f62a66",
     "locked": true,
     "points": 0,
     "schema_version": 1,
     "solution": false
    }
   },
   "outputs": [],
   "source": [
    "import random\n",
    "random.seed(123) # introducing a seed for reproducibility purposes\n",
    "lst1 = list(range(100))\n",
    "random.shuffle(lst1)\n",
    "lst2 = []\n",
    "for a in range(100):\n",
    "    lst2.append(qselect(lst1, a))\n",
    "assert(lst2 == list(range(100)))"
   ]
  },
  {
   "cell_type": "markdown",
   "metadata": {
    "deletable": false,
    "editable": false,
    "nbgrader": {
     "checksum": "54fddc25ea0529f44aa6653b18ff7745",
     "grade": false,
     "grade_id": "cell-8013044acd03642a",
     "locked": true,
     "schema_version": 1,
     "solution": false
    }
   },
   "source": [
    "## Question 2.\n",
    "Uncomment and run the testing code given below to test your function. It should print out integers from 0 to 99.\n"
   ]
  },
  {
   "cell_type": "code",
   "execution_count": 614,
   "metadata": {},
   "outputs": [
    {
     "name": "stdout",
     "output_type": "stream",
     "text": [
      "0\n",
      "1\n",
      "2\n",
      "3\n",
      "4\n",
      "5\n",
      "6\n",
      "7\n",
      "8\n",
      "9\n",
      "10\n",
      "11\n",
      "12\n",
      "13\n",
      "14\n",
      "15\n",
      "16\n",
      "17\n",
      "18\n",
      "19\n",
      "20\n",
      "21\n",
      "22\n",
      "23\n",
      "24\n",
      "25\n",
      "26\n",
      "27\n",
      "28\n",
      "29\n",
      "30\n",
      "31\n",
      "32\n",
      "33\n",
      "34\n",
      "35\n",
      "36\n",
      "37\n",
      "38\n",
      "39\n",
      "40\n",
      "41\n",
      "42\n",
      "43\n",
      "44\n",
      "45\n",
      "46\n",
      "47\n",
      "48\n",
      "49\n",
      "50\n",
      "51\n",
      "52\n",
      "53\n",
      "54\n",
      "55\n",
      "56\n",
      "57\n",
      "58\n",
      "59\n",
      "60\n",
      "61\n",
      "62\n",
      "63\n",
      "64\n",
      "65\n",
      "66\n",
      "67\n",
      "68\n",
      "69\n",
      "70\n",
      "71\n",
      "72\n",
      "73\n",
      "74\n",
      "75\n",
      "76\n",
      "77\n",
      "78\n",
      "79\n",
      "80\n",
      "81\n",
      "82\n",
      "83\n",
      "84\n",
      "85\n",
      "86\n",
      "87\n",
      "88\n",
      "89\n",
      "90\n",
      "91\n",
      "92\n",
      "93\n",
      "94\n",
      "95\n",
      "96\n",
      "97\n",
      "98\n",
      "99\n"
     ]
    }
   ],
   "source": [
    "import random\n",
    "random.seed(123) # introducing a seed for reproducibility purposes\n",
    "lst = list(range(100))\n",
    "random.shuffle(lst)\n",
    "for a in range(100):\n",
    "    print(qselect(lst, a))\n"
   ]
  },
  {
   "cell_type": "markdown",
   "metadata": {
    "deletable": false,
    "editable": false,
    "nbgrader": {
     "checksum": "3fede812466807c2a250ab3c6427f75c",
     "grade": false,
     "grade_id": "cell-e7a965de7bb56aa3",
     "locked": true,
     "schema_version": 1,
     "solution": false
    }
   },
   "source": [
    "## Question 3.\n",
    "\n",
    "Write down the recurrence relation for your code."
   ]
  },
  {
   "cell_type": "code",
   "execution_count": null,
   "metadata": {
    "collapsed": true
   },
   "outputs": [],
   "source": [
    "def qselect(lst, k):\n",
    "    # check input validity\n",
    "    if len(lst) < 1:\n",
    "        return None\n",
    "    if k < 0 or k > len(lst) - 1:\n",
    "        raise IndexError()\n",
    "\n",
    "        \n",
    "    def select(lst, l, r, k):\n",
    "        # add idx tracer for the left and right end of partition length\n",
    " \n",
    "        # base touched, return the kth-smallest item\n",
    "        if r == l:\n",
    "            return lst[l]\n",
    "        \n",
    "        # else, do partition on lst[l:r]\n",
    "        q = partition(lst, l, r)\n",
    "    \n",
    "        if k == q:  # if pivot index equal k, position of k-th smallest found\n",
    "            return lst[q]\n",
    "        \n",
    "        elif k < q: # if pivot index more than k, partition left side only\n",
    "            return select(lst, l, q-1, k)\n",
    "        \n",
    "        else:   # if pivot index less than k, partition right side only\n",
    "            return select(lst, q+1, r, k)\n",
    "\n",
    "    return select(lst, 0, len(lst)-1, k)\n",
    "\n"
   ]
  },
  {
   "cell_type": "markdown",
   "metadata": {
    "deletable": false,
    "nbgrader": {
     "checksum": "6fb3d2481f5df1b96c902e5446844f87",
     "grade": true,
     "grade_id": "cell-24144607b3ffade3",
     "locked": false,
     "points": 0,
     "schema_version": 1,
     "solution": true
    }
   },
   "source": [
    "T(n) = a*T(q) + b*T(n-q)\n",
    "a is the probability of partitioning the left-side, b is the probability of partitioning the right-side of pivot index q\n",
    "\n",
    "*At each recursion level, the total length of partition is either q-l, if left-side of array is called, or r-q, if right-side of array is called. Initially, l=0, r=n-1"
   ]
  },
  {
   "cell_type": "markdown",
   "metadata": {
    "deletable": false,
    "editable": false,
    "nbgrader": {
     "checksum": "311ee23a32dbc3ba43d3bba0d433871b",
     "grade": false,
     "grade_id": "cell-fd740516f4259f3c",
     "locked": true,
     "schema_version": 1,
     "solution": false
    }
   },
   "source": [
    "## Question 4.\n",
    "\n",
    "Solve the recurrence relation for quickselect in the best case.\n"
   ]
  },
  {
   "cell_type": "markdown",
   "metadata": {
    "deletable": false,
    "nbgrader": {
     "checksum": "78416da569a0269f78967b11d7b93332",
     "grade": true,
     "grade_id": "cell-c125f4742933e820",
     "locked": false,
     "points": 0,
     "schema_version": 1,
     "solution": true
    }
   },
   "source": [
    "In the best case, the partitioned parts are always balanced, i.e. a=b=0.5, and q : n-q = r1 : r2 (a fixed ratio)\n",
    "--> T(n) = 0.5T(r1*m)+0.5T(r2*m), where r1*m + r2*m = n\n",
    "This relation is linear, O(n)"
   ]
  },
  {
   "cell_type": "markdown",
   "metadata": {
    "deletable": false,
    "editable": false,
    "nbgrader": {
     "checksum": "7cc9c5e0531e8ece71be2ff60ee65995",
     "grade": false,
     "grade_id": "cell-e281cecc190fd662",
     "locked": true,
     "schema_version": 1,
     "solution": false
    }
   },
   "source": [
    "## Question 5.\n",
    "\n",
    "Solve the recurrence relation for quickselect in the worst case."
   ]
  },
  {
   "cell_type": "markdown",
   "metadata": {
    "deletable": false,
    "nbgrader": {
     "checksum": "f4cceeaea59e48c3fabdb8d19e302db5",
     "grade": true,
     "grade_id": "cell-852c3a71d8c2d7c1",
     "locked": false,
     "points": 0,
     "schema_version": 1,
     "solution": true
    }
   },
   "source": [
    "In the worst case, the new pivot is always the last one, therefore, every single element is pruned until the pivot index equal k, so there are a total of n-k partitions, and length of paritions go down from n, n-1, ... k+1, T(n) = n+(n-1)+ .. + (k+1) = (n+k+1)(n-k)/2 ~= O(n^2)"
   ]
  }
 ],
 "metadata": {
  "kernelspec": {
   "display_name": "Python 3",
   "language": "python",
   "name": "python3"
  },
  "language_info": {
   "codemirror_mode": {
    "name": "ipython",
    "version": 3
   },
   "file_extension": ".py",
   "mimetype": "text/x-python",
   "name": "python",
   "nbconvert_exporter": "python",
   "pygments_lexer": "ipython3",
   "version": "3.6.9"
  }
 },
 "nbformat": 4,
 "nbformat_minor": 2
}
