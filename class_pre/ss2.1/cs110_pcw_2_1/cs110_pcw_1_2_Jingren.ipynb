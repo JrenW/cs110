{
 "cells": [
  {
   "cell_type": "markdown",
   "metadata": {},
   "source": [
    "Before you turn this problem in, make sure everything runs as expected. First, **restart the kernel** (in the menubar, select Kernel$\\rightarrow$Restart) and then **run all cells** (in the menubar, select Cell$\\rightarrow$Run All).\n",
    "\n",
    "Make sure you fill in any place that says `YOUR CODE HERE` or \"YOUR ANSWER HERE\", as well as your name and collaborators below:"
   ]
  },
  {
   "cell_type": "code",
   "execution_count": 26,
   "metadata": {
    "collapsed": true
   },
   "outputs": [],
   "source": [
    "NAME = \"Jingren Wang\"\n",
    "COLLABORATORS = \"N.A.\""
   ]
  },
  {
   "cell_type": "markdown",
   "metadata": {},
   "source": [
    "---"
   ]
  },
  {
   "cell_type": "markdown",
   "metadata": {
    "deletable": false,
    "editable": false,
    "nbgrader": {
     "checksum": "947eded9ca5fab593f017a71dd26277b",
     "grade": false,
     "grade_id": "cell-b46066345313bea6",
     "locked": true,
     "schema_version": 1,
     "solution": false
    }
   },
   "source": [
    "# CS110 Pre-class Work 1.2\n",
    "\n",
    "\n",
    "\n",
    "## Question 1\n",
    "The following pseudocode has been extracted from Cormen et al. You should analyze the lines of the pseudocode trying to understand what every line in the pseudocode does and how many times is that line executed. \n",
    "![Insertion sort pseudo-code](insertionsort_pseudo.png)\n",
    "\n",
    "Answer the following questions: What does line 7 do? Why is it necessary?"
   ]
  },
  {
   "cell_type": "markdown",
   "metadata": {
    "deletable": false,
    "nbgrader": {
     "checksum": "104f443d240e2139d778711f6bc0a766",
     "grade": true,
     "grade_id": "cell-3bac59ff24b11a27",
     "locked": false,
     "points": 0,
     "schema_version": 1,
     "solution": true
    }
   },
   "source": [
    "1. the purpose of line 5-7 is to continue comparing the number at hand (key) with the biggest number in the rest of uncompared ones in the sorted list A[1...i-1], if key is smaller, then execute line 6 to move the current biggest number forward 1 index, all the way until the current biggest is smaller than the key. So, line 7 updates the index 1 step left of the sorted list in order to compare the next biggest number with the key. line 7 is necessary, a removal of which would render an infinite while loop.\n",
    "2. in an extreme case where the key is smaller than any number in the sorted list, the value of i in last iterated loop would be i=1 such that the A[1] item is moved to A[2] position, then i = 1-1 =, 0, which renders i>0 false, while loop exited and key value is assigned to position A[0+1] = A[1]\n",
    "* be minded that in implementation with python, indexing starts from 0"
   ]
  },
  {
   "cell_type": "markdown",
   "metadata": {
    "deletable": false,
    "editable": false,
    "nbgrader": {
     "checksum": "7872c2d656a6cb3aaeff2b4fa41eb204",
     "grade": false,
     "grade_id": "cell-0ca65d04b209f37f",
     "locked": true,
     "schema_version": 1,
     "solution": false
    }
   },
   "source": [
    "## Question 2\n",
    "The following Python code is an attempt to implement the Insertion-Sort pseudocode above. However, this code has a bug. \n"
   ]
  },
  {
   "cell_type": "code",
   "execution_count": 27,
   "metadata": {
    "collapsed": true,
    "deletable": false,
    "editable": false,
    "nbgrader": {
     "checksum": "8e004cd5b12aee0ecf19786bc1a71d81",
     "grade": false,
     "grade_id": "cell-348fe9383ed7e0c7",
     "locked": true,
     "schema_version": 1,
     "solution": false
    }
   },
   "outputs": [],
   "source": [
    "def insertionSort(A):\n",
    "    for j in range(len(A)):\n",
    "        key = A[j]\n",
    "        i= j-1\n",
    "        while i >= 0 and A[i]>key:\n",
    "            A[i+1] = A[i]\n",
    "            i -= 1\n",
    "            A[i+1] = key\n",
    "    return A"
   ]
  },
  {
   "cell_type": "markdown",
   "metadata": {
    "deletable": false,
    "editable": false,
    "nbgrader": {
     "checksum": "19a9183b993f6180d79385fed5dd07ee",
     "grade": false,
     "grade_id": "cell-16653cdc16be28b9",
     "locked": true,
     "schema_version": 1,
     "solution": false
    }
   },
   "source": [
    "Copy and paste the code in the cell below. Identify and correct the bug. "
   ]
  },
  {
   "cell_type": "code",
   "execution_count": 52,
   "metadata": {
    "deletable": false,
    "nbgrader": {
     "checksum": "7c22d14f97eaad956abf7dae17c7317f",
     "grade": false,
     "grade_id": "cell-1b7488e89cb501c5",
     "locked": false,
     "schema_version": 1,
     "solution": true
    }
   },
   "outputs": [
    {
     "name": "stdout",
     "output_type": "stream",
     "text": [
      "True\n",
      "True\n",
      "True\n",
      "True\n",
      "12\n"
     ]
    }
   ],
   "source": [
    "def insertionSort(A):\n",
    "    # introduce global counter variable\n",
    "    global count\n",
    "    count = 0\n",
    "    \n",
    "    for j in range(1,len(A)):\n",
    "        key = A[j]\n",
    "        count += 1\n",
    "        i= j-1\n",
    "        count += 1\n",
    "        while i >= 0 and A[i]>key:\n",
    "            count += 1  # count step for while statement evaluation\n",
    "            A[i+1] = A[i]\n",
    "            count += 1\n",
    "            i -= 1\n",
    "            count += 1\n",
    "        A[i+1] = key\n",
    "        count += 1\n",
    "        \n",
    "    return A\n",
    "    raise NotImplementedError()\n",
    "    \n",
    "count = 0\n",
    "print(insertionSort([0]) == [0])\n",
    "print(insertionSort([-1,1]) == [-1,1])\n",
    "print(insertionSort([1,-1]) == [-1,1])\n",
    "print(insertionSort([1,6,3,6]) == [1,3,6,6])\n",
    "\n",
    "print(count)\n",
    "\n"
   ]
  },
  {
   "cell_type": "code",
   "execution_count": null,
   "metadata": {
    "collapsed": true,
    "deletable": false,
    "editable": false,
    "nbgrader": {
     "checksum": "4ff6145033c64da48f2a44f040b2c1b7",
     "grade": true,
     "grade_id": "cell-3432ce8ae2493fa6",
     "locked": true,
     "points": 1,
     "schema_version": 1,
     "solution": false
    },
    "scrolled": false
   },
   "outputs": [],
   "source": [
    "assert(insertionSort([0]) == [0])\n",
    "assert(insertionSort([-1,1]) == [-1,1])\n",
    "assert(insertionSort([1,-1]) == [-1,1])\n",
    "assert(insertionSort([1,6,3,6]) == [1,3,6,6])"
   ]
  },
  {
   "cell_type": "markdown",
   "metadata": {
    "deletable": false,
    "editable": false,
    "nbgrader": {
     "checksum": "a25900fe2fba8d1695b31865625ec1eb",
     "grade": false,
     "grade_id": "cell-1399c3a86cc2dd7c",
     "locked": true,
     "schema_version": 1,
     "solution": false
    }
   },
   "source": [
    "How do you know this code works as intended now?"
   ]
  },
  {
   "cell_type": "markdown",
   "metadata": {
    "deletable": false,
    "nbgrader": {
     "checksum": "4ff5af35daed9a5442ba229263bdde33",
     "grade": true,
     "grade_id": "cell-442998d5fdd8b561",
     "locked": false,
     "points": 0,
     "schema_version": 1,
     "solution": true
    }
   },
   "source": [
    "1. Bug: line 8 was not corrected indented, final assignment of key (in hand) should be executed outside of while loop, when correct i is found such that A[i]< key.\n",
    "2. To check if the debugged code runs well, we could come up with some test cases of A, and use assert()to check boolean status, if false, an assertion error would raised.\n",
    "3. To further prove that the sorting outcome is correct, we neet to check:\n",
    "a. the sorted A is of same length as the unsorted one;\n",
    "b. A[n-1]< A[n] for n in {1,...A.len}"
   ]
  },
  {
   "cell_type": "code",
   "execution_count": 43,
   "metadata": {
    "collapsed": true
   },
   "outputs": [],
   "source": [
    "import time\n",
    "\n",
    "def get_InsertionSort_data():\n",
    "    n_list = []  # list of input size, n = 100*k\n",
    "    steps_list = [] # list of step for each k\n",
    "    runTime_list = [] # list of running time for each k\n",
    "    global count\n",
    "    \n",
    "    for k in range(1,15): \n",
    "        count = 0\n",
    "        \n",
    "        list_k = [i for i in range(100*k, 0, -1)]\n",
    "        p = 1\n",
    "        r = len(list_k)\n",
    "        n_list.append(r)\n",
    "\n",
    "        start_time = time.clock()\n",
    "        insertionSort(list_k)\n",
    "        runTime = time.clock()-start_time\n",
    "        runTime_list.append(runTime)\n",
    "\n",
    "        steps_list.append(count)\n",
    "        \n",
    "    return n_list,steps_list,runTime_list\n",
    "\n",
    "    raise NotImplementedError()\n"
   ]
  },
  {
   "cell_type": "code",
   "execution_count": 48,
   "metadata": {},
   "outputs": [
    {
     "name": "stdout",
     "output_type": "stream",
     "text": [
      "27\n"
     ]
    }
   ],
   "source": [
    "def get_Insertion_Steps(A):\n",
    "    \n",
    "    insertionSort(A)\n",
    "    step = count\n",
    "    \n",
    "    return step\n",
    "\n",
    "A = [6,5,3,2]\n",
    "stp = get_Insertion_Steps(A)\n",
    "print(stp)"
   ]
  },
  {
   "cell_type": "markdown",
   "metadata": {
    "deletable": false,
    "editable": false,
    "nbgrader": {
     "checksum": "9d7a3b260b0fef93382fb52aa393f963",
     "grade": false,
     "grade_id": "cell-0ac1c20b43acb363",
     "locked": true,
     "schema_version": 1,
     "solution": false
    }
   },
   "source": [
    "## Question 3 \n",
    "Implement the bubble sort algorithm in the cell below. First, look up the corresponding pseudocode in Cormen et al. (page 40), and write a Python implementation for the bubble sort.  Like in the `insertionSort`,  your new Python function, `bubbleSort`, takes a list of elements as an argument and returns the sorted list."
   ]
  },
  {
   "cell_type": "code",
   "execution_count": null,
   "metadata": {
    "collapsed": true,
    "deletable": false,
    "nbgrader": {
     "checksum": "16ff8874250907a794fdd3fa6c13bbec",
     "grade": false,
     "grade_id": "cell-b709733c96d8b615",
     "locked": false,
     "schema_version": 1,
     "solution": true
    }
   },
   "outputs": [],
   "source": [
    "def bubbleSort(A):\n",
    "    global count\n",
    "    b = 0 # initialize a bin variable for temporary keeping of swapped item\n",
    "    count += 1\n",
    "    n = len(A) #length of list items\n",
    "    count += 1\n",
    "    for i in range(n-1):  # i from 0 to n-1\n",
    "        count += 1\n",
    "        for j in range(n-1,i,-1): # j from n-1 to 1(for first round)\n",
    "            count += 1\n",
    "            if A[j]< A[j-1]:\n",
    "                count += 1\n",
    "                b = A[j-1]\n",
    "                count += 1\n",
    "                A[j-1] = A[j]\n",
    "                count += 1\n",
    "                A[j] = b   # three-step swap\n",
    "                count += 1\n",
    "    return A       \n",
    "    raise NotImplementedError()"
   ]
  },
  {
   "cell_type": "code",
   "execution_count": 32,
   "metadata": {
    "scrolled": true
   },
   "outputs": [
    {
     "name": "stdout",
     "output_type": "stream",
     "text": [
      "91\n",
      "[0, 1, 2, 3, 5, 6]\n"
     ]
    }
   ],
   "source": [
    "A = [5,2,6,3,1,0] \n",
    "bubbleSort(A) \n",
    "print(count)\n",
    "print(A)\n"
   ]
  },
  {
   "cell_type": "code",
   "execution_count": null,
   "metadata": {
    "collapsed": true,
    "deletable": false,
    "editable": false,
    "nbgrader": {
     "checksum": "e7dc1709a92c6bcac7df39da1771e649",
     "grade": true,
     "grade_id": "cell-ffc9b251ea0047ba",
     "locked": true,
     "points": 2,
     "schema_version": 1,
     "solution": false
    }
   },
   "outputs": [],
   "source": [
    "# Please ignore this cell. This cell is for us to implement the tests \n",
    "# to see if your code works properly. "
   ]
  },
  {
   "cell_type": "markdown",
   "metadata": {
    "deletable": false,
    "editable": false,
    "nbgrader": {
     "checksum": "eae899834db5b5ff1b2b1d67d8ef5929",
     "grade": false,
     "grade_id": "cell-60a96a427cd3e94e",
     "locked": true,
     "schema_version": 1,
     "solution": false
    }
   },
   "source": [
    "Is your program bug-free? Think of three different [“test cases”](https://www.hiredintech.com/classrooms/algorithm-design/lesson/83) to check the correctness of your code. If a code passes the tests you have just outlined, is this an unambiguous proof that the code is correct? Give your answer in the cell below. Feel free to use additional cells (Markdown or Code) as you wish."
   ]
  },
  {
   "cell_type": "markdown",
   "metadata": {
    "deletable": false,
    "nbgrader": {
     "checksum": "eb02c9951e19ee43d128fa93dd53eaad",
     "grade": true,
     "grade_id": "cell-5ecb51404140cb2f",
     "locked": false,
     "points": 0,
     "schema_version": 1,
     "solution": true
    }
   },
   "source": [
    "No, even if my code passes all three types of test cases, it is not a guaranteed proof since there will be cases left out from sample cases, or even extensive cases. Also, edge case testing and load testing may vary from time to time as the computer hardware wears out."
   ]
  },
  {
   "cell_type": "code",
   "execution_count": null,
   "metadata": {
    "collapsed": true
   },
   "outputs": [],
   "source": [
    "## sample test\n",
    "assert(bubbleSort([0]) == [0])\n",
    "assert(bubbleSort([-1,1]) == [-1,1])\n",
    "assert(bubbleSort([1,-1]) == [-1,1])\n",
    "assert(bubbleSort([1,6,3,6]) == [1,3,6,6])\n",
    "assert(bubbleSort([5,2,6,3,1,0]) == [0, 1, 2, 3, 5, 6])\n",
    "# worst case:\n",
    "assert(bubbleSort([9,8,7,6,5,4,3,2,1,0]) == [0,1,2,3,4,5,6,7,8,9])\n",
    "\n",
    "### no assertion error raised!"
   ]
  },
  {
   "cell_type": "code",
   "execution_count": null,
   "metadata": {
    "collapsed": true
   },
   "outputs": [],
   "source": [
    "## extensive test - non-trivial functional test\n",
    "# logic: A is well sorted if A[i]<= A[i+1] for i in 0 to n-1\n",
    "def bubbleCheck(A, len_A):\n",
    "    if len(A) != len_A:\n",
    "        return \"length unequal.\"\n",
    "    else: \n",
    "        for i in range(len_A-1):\n",
    "            if A[i]> A[i+1]:\n",
    "                return \"not well sorted.\"\n",
    "    return \"well sorted!\"\n",
    "\n",
    "A = [9,8,7,6,5,4,3,2,1,0]\n",
    "len_A = len(A)\n",
    "bubbleSort(A)\n",
    "bubbleCheck(A, len_A)\n"
   ]
  },
  {
   "cell_type": "markdown",
   "metadata": {
    "deletable": false,
    "editable": false,
    "nbgrader": {
     "checksum": "cb0b8b9c4b153530d47b437baa24098d",
     "grade": false,
     "grade_id": "cell-b22dce6b32afe1a9",
     "locked": true,
     "schema_version": 1,
     "solution": false
    }
   },
   "source": [
    "## Question 4\n",
    "The following pseudocode corresponds to a third sorting algorithm to be covered in Lesson 1.2, the selection sort.  Like in the previous step, write a Python implementation of the algorithm and make sure that your program is bug-free. `selectionSort` should take a list of elements as an argument and return the sorted list.\n",
    "\n",
    "![Selection sort pseudo-code](selectionsort_pseudo.png)"
   ]
  },
  {
   "cell_type": "code",
   "execution_count": null,
   "metadata": {
    "collapsed": true,
    "deletable": false,
    "nbgrader": {
     "checksum": "2f4365879ed0fd5b360bc25f4795c113",
     "grade": false,
     "grade_id": "cell-e04f94e5d418923c",
     "locked": false,
     "schema_version": 1,
     "solution": true
    }
   },
   "outputs": [],
   "source": [
    "def selectionSort(A):\n",
    "    b = 0 # initialize a b as temporary item holder during swapping\n",
    "    n = len(A)\n",
    "    for i in range(n-1):  # i in 0 to n-1\n",
    "        min_idx = i  # index of default minimal \n",
    "        for j in range(i+1,n):   # j in i+1 to n\n",
    "            if A[j] < A[min_idx]:\n",
    "                min_idx = j     #update minimal index\n",
    "            # swap A[i] with A[min_idx]  \n",
    "            b = A[min_idx]\n",
    "            A[min_idx] = A[i]\n",
    "            A[i] = b   # three-step swap\n",
    "    return A\n",
    "    raise NotImplementedError()"
   ]
  },
  {
   "cell_type": "code",
   "execution_count": null,
   "metadata": {
    "collapsed": true
   },
   "outputs": [],
   "source": [
    "## extensive test - non-trivial functional test\n",
    "# logic: A is well sorted if A[i]<= A[i+1] for i in 0 to n-1\n",
    "def selectionCheck(A, len_A):\n",
    "    if len(A) != len_A:\n",
    "        return \"length unequal.\"\n",
    "    else: \n",
    "        for i in range(len(A)-1):\n",
    "            if A[i]> A[i+1]:\n",
    "                return \"not well sorted.\"\n",
    "    return \"well sorted!\"\n",
    "\n",
    "A = [9,8,7,6,5,4,3,2,1,0]\n",
    "len_A = len(A)\n",
    "selectionSort(A)\n",
    "selectionCheck(A, len_A)\n"
   ]
  },
  {
   "cell_type": "code",
   "execution_count": null,
   "metadata": {
    "collapsed": true
   },
   "outputs": [],
   "source": []
  },
  {
   "cell_type": "code",
   "execution_count": null,
   "metadata": {
    "collapsed": true,
    "deletable": false,
    "editable": false,
    "nbgrader": {
     "checksum": "352859ddf81204abd5eb3d91570919c7",
     "grade": true,
     "grade_id": "cell-ffe912ac7922de70",
     "locked": true,
     "points": 1,
     "schema_version": 1,
     "solution": false
    }
   },
   "outputs": [],
   "source": [
    "# Please ignore this cell. This cell is for us to implement the tests \n",
    "# to see if your code works properly. "
   ]
  },
  {
   "cell_type": "markdown",
   "metadata": {
    "deletable": false,
    "editable": false,
    "nbgrader": {
     "checksum": "2305488ea190bf7b0347891f06164775",
     "grade": false,
     "grade_id": "cell-7ff8930bd7d30706",
     "locked": true,
     "schema_version": 1,
     "solution": false
    }
   },
   "source": [
    "**Please make sure you try your best to code insertion sort, selection sort and bubble sort, and bring these programs to class. You will need them for a class activity.**"
   ]
  }
 ],
 "metadata": {
  "kernelspec": {
   "display_name": "Python 3",
   "language": "python",
   "name": "python3"
  },
  "language_info": {
   "codemirror_mode": {
    "name": "ipython",
    "version": 3
   },
   "file_extension": ".py",
   "mimetype": "text/x-python",
   "name": "python",
   "nbconvert_exporter": "python",
   "pygments_lexer": "ipython3",
   "version": "3.6.2"
  }
 },
 "nbformat": 4,
 "nbformat_minor": 2
}
