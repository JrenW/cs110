{
 "cells": [
  {
   "cell_type": "markdown",
   "metadata": {},
   "source": [
    "Before you turn this problem in, make sure everything runs as expected. First, **restart the kernel** (in the menubar, select Kernel$\\rightarrow$Restart) and then **run all cells** (in the menubar, select Cell$\\rightarrow$Run All).\n",
    "\n",
    "Make sure you fill in any place that says `YOUR CODE HERE` or \"YOUR ANSWER HERE\", as well as your name and collaborators below:"
   ]
  },
  {
   "cell_type": "code",
   "execution_count": 2,
   "metadata": {
    "collapsed": true
   },
   "outputs": [],
   "source": [
    "NAME = \"Jingren Wang\"\n",
    "COLLABORATORS = \"N.A.\""
   ]
  },
  {
   "cell_type": "code",
   "execution_count": null,
   "metadata": {
    "collapsed": true
   },
   "outputs": [],
   "source": []
  },
  {
   "cell_type": "markdown",
   "metadata": {},
   "source": [
    "---"
   ]
  },
  {
   "cell_type": "markdown",
   "metadata": {
    "deletable": false,
    "editable": false,
    "nbgrader": {
     "checksum": "c87c76aab5414c691aa63dd316a3aad4",
     "grade": false,
     "grade_id": "cell-856b478addb28fe9",
     "locked": true,
     "schema_version": 1,
     "solution": false
    }
   },
   "source": [
    "# CS110 Pre-class Work 8.2\n",
    "\n",
    "# Question 1. (Exercise 12.2-1, Cormen et al.)\n",
    "\n",
    "Suppose that we have numbers between 1 and 1000 in a binary search tree, and we want to search for the number 363. Which of the following sequences could not be the sequence of nodes examined?\n",
    "\n",
    "a. 2, 252, 401, 398, 330, 344, 397, 363.\n",
    "\n",
    "b. 924, 220, 911, 244, 898, 258, 362, 363.\n",
    "\n",
    "c. 925, 202, 911, 240, 912, 245, 363.\n",
    "\n",
    "d. 2, 399, 387, 219, 266, 382, 381, 278, 363.\n",
    "\n",
    "e. 935, 278, 347, 621, 299, 392, 358, 363.\n"
   ]
  },
  {
   "cell_type": "markdown",
   "metadata": {
    "deletable": false,
    "nbgrader": {
     "checksum": "caad0ddbf7180e6e9f1cf54ef809d5a8",
     "grade": true,
     "grade_id": "cell-4ba31a88562b2669",
     "locked": false,
     "points": 0,
     "schema_version": 1,
     "solution": true
    }
   },
   "source": [
    "The Binary Search Tree property (invariant) implies that, at each generation/level, if the key value of the node x.key is larger than target key (k), then key must be stored in its left subtree, symmetrical for x.key < k.  \n",
    "\n",
    "We check if the BST invarient is maintained in each of the proposed search path, and found that e is problematic: \n",
    "\n",
    "for e.  278 is the left child of 935 --> \n",
    "    347 is the right child of 278, 621 is the right chi, ld of 347pause:\n",
    "    \n",
    "    here, since the node with key = 347 extends a right subtree, according to BST property, it means that all its following children must have a value larger than (or equal to) 347, however, the proposed path contains a child 299 < 347, this path must be invalid.\n",
    "    "
   ]
  },
  {
   "cell_type": "markdown",
   "metadata": {
    "deletable": false,
    "editable": false,
    "nbgrader": {
     "checksum": "2608634a994745e8cabbc68e04197aeb",
     "grade": false,
     "grade_id": "cell-e2fe6a81a328e94e",
     "locked": true,
     "schema_version": 1,
     "solution": false
    }
   },
   "source": [
    "## Question 2. Comparing complexities\n",
    "Complete the following table with the average vs worst case complexities for the data structures in each row.\n",
    "\n",
    "You should copy the following table and paste and edit it in the cell below. \n",
    "\n",
    "Operations | BST | Hash table using open addressing | Min heap\n",
    "--- | --- | --- | ---\n",
    "Search |  |  |\n",
    "Find max |  |  |\n",
    "Find min |  |  |\n",
    "Max extraction  |  |  |\n",
    "Min extraction |  |  |\n",
    "Find successor |  |  |\n",
    "Find predecessor |  |  |\n",
    "Insert |  |  |\n",
    "Delete |  |  |\n",
    "\n"
   ]
  },
  {
   "cell_type": "markdown",
   "metadata": {
    "deletable": false,
    "nbgrader": {
     "checksum": "b333dea7231946830dc83e0374b46384",
     "grade": true,
     "grade_id": "cell-103e7647a8a92a95",
     "locked": false,
     "points": 0,
     "schema_version": 1,
     "solution": true
    }
   },
   "source": [
    "Operations | BST | Hash table using open addressing | Min heap\n",
    "             --- |  --- | ---  | ---\n",
    "Search           | O(h) | O(1) | O(n)\n",
    "Find max         | O(h) | O(n) | O(lgn)\n",
    "Find min         | O(h) | O(n) | O(1)\n",
    "Max extraction   | O(h) | O(n) | O(lgn)\n",
    "Min extraction   | O(h) | O(n) | O(1)\n",
    "Find successor   | O(h) | O(n) | O(1)\n",
    "Find predecessor | O(h) | O(n) | O(1)\n",
    "Insert           | O(h) | O(1) | O(lgn)\n",
    "Delete           | O(h) | O(1) | O(lgn)\n",
    "                 |      |*average.case|*lg=log2\n",
    "   \n",
    " Hash table (open addressing) does not intend to support(optimize) fast find of min/max/successor/predecessor since elements are not ordered in the structure; \n",
    " \n",
    "binary heap does not support efficient search for fast finding of successor or predecessor"
   ]
  },
  {
   "cell_type": "markdown",
   "metadata": {
    "deletable": false,
    "editable": false,
    "nbgrader": {
     "checksum": "350918858ed77bb73434c159714237a6",
     "grade": false,
     "grade_id": "cell-f0b8945e898ae4eb",
     "locked": true,
     "schema_version": 1,
     "solution": false
    }
   },
   "source": [
    "## Question 3. Programming a recursive BST\n",
    "The code given in the cell below, write python code for the corresponding functions:\n",
    "\n",
    "* function `search(self, value)`: searches a *non-empty* BST rooted at the node for a node with `data=value`, returns the node if found, None otherwise\n",
    "* function `delete(self, value)`: if a node with data = value is present in the tree rooted at Node, deletes that node and returns the root.\n",
    "* function `inorder(self)`: returns a list of all data in the tree rooted at root produced using an in order traversal. When correctly implemented on a BST, the produced list will be sorted in ascending order.\n",
    "\n",
    "You may find it useful to define additional helper functions.\n"
   ]
  },
  {
   "cell_type": "code",
   "execution_count": null,
   "metadata": {
    "collapsed": true
   },
   "outputs": [],
   "source": []
  },
  {
   "cell_type": "code",
   "execution_count": 35,
   "metadata": {
    "collapsed": true,
    "deletable": false,
    "nbgrader": {
     "checksum": "a121700c0f31a273a56d108bf20ce422",
     "grade": false,
     "grade_id": "cell-699ae21855637a38",
     "locked": false,
     "schema_version": 1,
     "solution": true
    }
   },
   "outputs": [],
   "source": [
    "## Binary Search Tree\n",
    "##\n",
    "class Node:\n",
    "    \n",
    "    def __init__(self, val):\n",
    "        self.l_child = None  # initiated with no left child\n",
    "        self.r_child = None  # initiated with no right child\n",
    "        self.parent = None   # initiated with no parent child\n",
    "        self.data = val   # key of node x\n",
    "        #self.inorder_lst = []\n",
    "        # effectively a barren root\n",
    "\n",
    "    def insert(self, node):\n",
    "        \"\"\"inserts a node into a *non-empty* tree rooted at the node, returns\n",
    "        the root\"\"\"\n",
    "        # self = root node,  node = incoming node to be inserted\n",
    "        if self.data > node.data:  # if x.key > k, go to left subtree of x\n",
    "            if self.l_child is None: # if x does not have a left child\n",
    "                self.l_child = node  # assign incoming node to be the left child of root(self)\n",
    "                node.parent = self   # x is the parent of node\n",
    "            else:       # else x already has a left child\n",
    "                self.l_child.insert(node) # recursive call: new self = self.l_child\n",
    "                                \n",
    "        else: # else it must be that x.key <= k, go to right subtree of x\n",
    "            if self.r_child is None: # if x does not have a right child\n",
    "                self.r_child = node # assign incoming node to be the right child of root(self)\n",
    "                node.parent = self  # set x as the parent of inserted node\n",
    "            else:  # else x already has a right child, continue downwards\n",
    "                self.r_child.insert(node) # # recursive call: new self = self.r_child\n",
    "        return self # returns the final self node (lowest)\n",
    "    \n",
    "    def minimum(self): # find minimum node (not the key) of a BStree\n",
    "        node = self \n",
    "        while node.l_child != None:  # trace leftmost path all the way down to leaf\n",
    "            node = node.l_child\n",
    "        return node \n",
    "    \n",
    "\n",
    "    def search_data(self, value): ## lookup if an element is inside--> value or None\n",
    "        \"\"\"searches a *non-empty* tree rooted at the node for a node with\n",
    "        data = value, returns the value if found, None otherwise\"\"\"\n",
    "        \n",
    "        node = self.search(value)  # call search ()\n",
    "        \n",
    "        if node:\n",
    "            return node.data\n",
    "        else:\n",
    "            return None\n",
    "\n",
    "        \n",
    "    ########## my functions ##########\n",
    "    \n",
    "    def search(self, value):\n",
    "        '''\n",
    "         searches a *non-empty* BST rooted at the node \n",
    "         for a node with `data=value`,\n",
    "         returns the node if found, None otherwise\n",
    "        '''\n",
    "        # termination: if the root is None (base touched) \n",
    "            # or the key is in found \n",
    "\n",
    "        if self is None or self.data == value:\n",
    "            return self\n",
    "       \n",
    "        # search in right-subtree if key is greater than self.key\n",
    "        elif self.data < value and self.r_child:\n",
    "            return self.r_child.search(value)\n",
    "        \n",
    "        elif self.data >= value and self.l_child:  # search in left_subtree if key is less than self.key\n",
    "            return self.l_child.search(value)\n",
    "        \n",
    "        else: \n",
    "            return None\n",
    "\n",
    "        \n",
    "        \n",
    "    def inorder(self):\n",
    "        \n",
    "        if self is None:\n",
    "            return None\n",
    "        \n",
    "        inorder_lst = []\n",
    "        inorder_nodes = []\n",
    "        \n",
    "        def inorder_walk(node):\n",
    "            if node is None:\n",
    "                return []\n",
    "            \n",
    "            left_lst = inorder_walk(node.l_child)\n",
    "            right_lst = inorder_walk(node.r_child)\n",
    "            \n",
    "            return left_lst + [node] + right_lst\n",
    "        \n",
    "        inorder_nodes = inorder_walk(self)\n",
    "        \n",
    "        for node in inorder_nodes:\n",
    "            inorder_lst.append(node.data)\n",
    "            \n",
    "        return inorder_lst\n",
    "            \n",
    "     \n",
    "            \n",
    "    def delete(self, value):\n",
    "        '''\n",
    "        if a node with data = value is present in the tree rooted at Node, \n",
    "        deletes that node and returns the root.\n",
    "        make sure to maintain the BST invariant\n",
    "        '''\n",
    "        # check base case\n",
    "        if self is None:\n",
    "            print('117 - self is None ')\n",
    "            return self\n",
    "        \n",
    "        # Part 1: search the position of the node whose key == value to be deleted\n",
    "            # if the key to be deleted is smaller than current key, \n",
    "            # continue search the left subtree\n",
    "        if value < self.data:       \n",
    "            self.l_child = self.l_child.delete(value) # reset self to its left child\n",
    "    \n",
    "            # else if the key to be deleted is larger than current key,\n",
    "            # continue search the right subtree\n",
    "        elif value > self.data: \n",
    "            self.r_child = self.r_child.delete(value)\n",
    "\n",
    "            \n",
    "            # else, the current key equal target key\n",
    "            # this is the key to be deleted \n",
    "            # target found!\n",
    "            \n",
    "        # Part 2: maintain BST property after deletion\n",
    "        else: \n",
    "            # Case 1: if the node has 0 or 1 child:\n",
    "            # if it has no left child, swap self with its right child, then delete self\n",
    "            if self.l_child == None:  \n",
    "                root = self.r_child\n",
    "                self = None\n",
    "                return root\n",
    "            \n",
    "            # symmetrical, swap self with its left child, then delete self\n",
    "            elif self.r_child == None:\n",
    "                root = self.l_child\n",
    "                self = None\n",
    "                \n",
    "                return root\n",
    "                \n",
    "            # Case 2: if this node has two children\n",
    "            # find the smallest in the right subtree from current node\n",
    "            # the least largest of current node(successor)\n",
    "            successor = self.r_child.minimum() # the node, not data\n",
    "            \n",
    "            # delete content of self:\n",
    "            # fill in the successor's key to current node\n",
    "            self.data = successor.data\n",
    "            \n",
    "            # clear its successor's data and reset current node to its right child\n",
    "            self.r_child = self.r_child.delete(successor.data)\n",
    "        \n",
    "                \n",
    "                \n",
    "      \n",
    "    "
   ]
  },
  {
   "cell_type": "code",
   "execution_count": null,
   "metadata": {
    "collapsed": true
   },
   "outputs": [],
   "source": [
    "#### Ahn's version (working)\n",
    "# strictly from Cormen pseudo code\n",
    "\n",
    "## Binary Search Tree\n",
    "##\n",
    "class Node:\n",
    "    def __init__(self, val):\n",
    "        self.l_child = None\n",
    "        self.r_child = None\n",
    "        self.parent = None\n",
    "        self.data = val\n",
    "\n",
    "    def insert(self, node):\n",
    "        \"\"\"inserts a node into a *non-empty* tree rooted at the node, returns\n",
    "        the root\"\"\"\n",
    "        if self.data > node.data:\n",
    "            if self.l_child is None:\n",
    "                self.l_child = node\n",
    "                node.parent = self\n",
    "            else:\n",
    "                self.l_child.insert(node)\n",
    "        else:\n",
    "            if self.r_child is None:\n",
    "                self.r_child = node\n",
    "                node.parent = self\n",
    "            else:\n",
    "                self.r_child.insert(node)\n",
    "        return self\n",
    "    \n",
    "    def minimum(self):\n",
    "        node = self\n",
    "        while node.l_child != None:\n",
    "            node = node.l_child\n",
    "        return node\n",
    "\n",
    "    def search_data(self, value):\n",
    "        \"\"\"searches a *non-empty* tree rooted at the node for a node with\n",
    "        data = value, returns the value if found, None otherwise\"\"\"\n",
    "        node = self.search(value)\n",
    "        if node:\n",
    "            return node.data\n",
    "        else:\n",
    "            return node\n",
    "    \n",
    "    def search(self, value):\n",
    "        '''\n",
    "        searches a non-empty BST rooted at the node for a node with data=value, returns the node if found, None otherwise\n",
    "        '''\n",
    "        if value == self.data:\n",
    "            return self\n",
    "        elif value < self.data and self.l_child:\n",
    "            return self.l_child.search(value)\n",
    "        elif value > self.data and self.r_child:\n",
    "            return self.r_child.search(value)\n",
    "        else:\n",
    "            return None\n",
    "\n",
    "    def delete(self, value): \n",
    "        '''if a node with data = value is present in the tree rooted at Node, deletes that node and returns the root.'''\n",
    "        node = self.search(value)\n",
    "        if node is None:\n",
    "            return None\n",
    "        if node.l_child is None:\n",
    "            self.transplant(node, node.r_child)\n",
    "        elif node.r_child is None:\n",
    "            self.transplant(node, node.l_child)\n",
    "        else:\n",
    "            y = node.r_child.minimum()\n",
    "            if y.parent != node:\n",
    "                self.transplant(y,y.r_child)\n",
    "                y.r_child = node.r_child\n",
    "                y.r_child.parent = y\n",
    "            self.transplant(node, y)\n",
    "            y.l_child = node.l_child\n",
    "            y.l_child.parent = y\n",
    "        return self\n",
    "    \n",
    "    def transplant(self, u, v):\n",
    "        if u.parent is None:\n",
    "            u = v\n",
    "        elif u == u.parent.l_child:\n",
    "            u.parent.l_child = v\n",
    "        else:\n",
    "            u.parent.r_child = v\n",
    "        if v:\n",
    "            v.parent = u.parent\n",
    "\n",
    "    def inorder(self): \n",
    "        '''returns a list of all data in the tree rooted at root produced using an in order traversal. When correctly implemented on a BST, the produced list will be sorted in ascending order.'''\n",
    "        lst = []\n",
    "        if self.l_child:\n",
    "            lst.extend(self.l_child.inorder())\n",
    "        lst.append(self.data)\n",
    "        if self.r_child:\n",
    "            lst.extend(self.r_child.inorder())\n",
    "        return lst\n",
    "\n"
   ]
  },
  {
   "cell_type": "code",
   "execution_count": 46,
   "metadata": {},
   "outputs": [
    {
     "name": "stdout",
     "output_type": "stream",
     "text": [
      "Node no.1\n",
      "---l_child:  1\n",
      "---r_child:  5\n",
      " \n",
      "Node no.2\n",
      "*parent:  4\n",
      "---r_child:  6\n",
      " \n",
      "Node no.3\n",
      "*parent:  5\n",
      " \n",
      "Node no.4\n",
      "*parent:  4\n",
      "---r_child:  2\n",
      " \n",
      "Node no.5\n",
      "*parent:  1\n",
      "---r_child:  3\n",
      " \n",
      "Node no.6\n",
      "*parent:  2\n",
      " \n"
     ]
    }
   ],
   "source": [
    "nodes = [Node(x) for x in [4,5,6,1,2,3]]  # created the node\n",
    "#print(nodes[5].parent)\n",
    "\n",
    "bst = None\n",
    "for node in nodes:\n",
    "    if not bst:\n",
    "        bst = node\n",
    "    else:\n",
    "        bst.insert(node)\n",
    "        \n",
    "i = 1\n",
    "for node in nodes: \n",
    "    print(f'Node no.{i}')\n",
    "    if node.parent: \n",
    "        print(f'*parent:  {node.parent.data}')\n",
    "    if node.l_child:\n",
    "        print((f'---l_child:  {node.l_child.data}'))\n",
    "    if node.r_child:\n",
    "        print((f'---r_child:  {node.r_child.data}'))\n",
    "    print(' ')\n",
    "   \n",
    "    i += 1\n",
    "        \n",
    "\n",
    "\n",
    "# bst = None\n",
    "# for node in nodes:\n",
    "#      bst.insert(bst, node)\n",
    "\n",
    "\n"
   ]
  },
  {
   "cell_type": "markdown",
   "metadata": {
    "deletable": false,
    "editable": false,
    "nbgrader": {
     "checksum": "8b126b45ed170734c6d243dbde6ec892",
     "grade": false,
     "grade_id": "cell-6e99c15ebbccbcff",
     "locked": true,
     "schema_version": 1,
     "solution": false
    }
   },
   "source": [
    "## Question 4. Validating the BST python code\n",
    "\n",
    "### Question 4a.\n",
    "\n",
    "It is good practice to make the necessary tests in your code to ensure it produces the intended outputs. In the cells below, implement slow, but simple:\n",
    "* inserts,\n",
    "* searches,\n",
    "* deletes.\n"
   ]
  },
  {
   "cell_type": "code",
   "execution_count": 4,
   "metadata": {
    "collapsed": true,
    "deletable": false,
    "nbgrader": {
     "checksum": "2e246944222ceb6db976ba1af84f791a",
     "grade": false,
     "grade_id": "cell-8ffe02954ab45b77",
     "locked": false,
     "schema_version": 1,
     "solution": true
    }
   },
   "outputs": [],
   "source": [
    "def list_insert(lst, value):\n",
    "    \"\"\"inserts value into lst in sorted order\"\"\"\n",
    "    lst.append(value)\n",
    "    lst.sort()\n",
    "    return lst\n",
    "\n"
   ]
  },
  {
   "cell_type": "code",
   "execution_count": 5,
   "metadata": {
    "collapsed": true,
    "deletable": false,
    "nbgrader": {
     "checksum": "99cadda3119181ec5d6c967d7ea15090",
     "grade": false,
     "grade_id": "cell-0e246c5c19ef7b80",
     "locked": false,
     "schema_version": 1,
     "solution": true
    }
   },
   "outputs": [],
   "source": [
    "def list_delete(lst, value):\n",
    "    \"\"\" deletes first instance of value from lst if it present\"\"\"\n",
    "    if value in lst: \n",
    "        lst.remove(value) \n",
    "        return lst\n",
    "    else: \n",
    "        return None"
   ]
  },
  {
   "cell_type": "code",
   "execution_count": 6,
   "metadata": {
    "collapsed": true,
    "deletable": false,
    "nbgrader": {
     "checksum": "024018f03e113eced89d464c96d522f6",
     "grade": false,
     "grade_id": "cell-f6b55b9878c6fdf1",
     "locked": false,
     "schema_version": 1,
     "solution": true
    }
   },
   "outputs": [],
   "source": [
    "def list_search(lst, value): \n",
    "    \"\"\" searches lst for value and returns value if present, None if it is not present\"\"\"\n",
    "    for key in lst:\n",
    "        return value\n",
    "    return None\n",
    "        "
   ]
  },
  {
   "cell_type": "code",
   "execution_count": null,
   "metadata": {
    "collapsed": true
   },
   "outputs": [],
   "source": []
  },
  {
   "cell_type": "markdown",
   "metadata": {
    "deletable": false,
    "editable": false,
    "nbgrader": {
     "checksum": "4b67b5285b803538fc34c696acb4fce3",
     "grade": false,
     "grade_id": "cell-50a5730f995c1ec5",
     "locked": true,
     "schema_version": 1,
     "solution": false
    }
   },
   "source": [
    "### Question 4b. \n",
    "Run the testing code provided in the cell below to generate a sequence of random inserts, followed by a sequence of random deletes, and finally followed by a sequence of random searches. Apply this sequence to both your BST implementation and the sorted list implementation. Do the final results both match? Does this mean your code is free of bugs? Provide your answer to these questions in the cell below the Python-code cell."
   ]
  },
  {
   "cell_type": "code",
   "execution_count": 7,
   "metadata": {
    "deletable": false,
    "editable": false,
    "nbgrader": {
     "checksum": "eec63c47c423432f249945ffb72bc820",
     "grade": true,
     "grade_id": "cell-ebddd4da79a3da28",
     "locked": true,
     "points": 0,
     "schema_version": 1,
     "solution": false
    }
   },
   "outputs": [
    {
     "name": "stdout",
     "output_type": "stream",
     "text": [
      "Inserting the following node:  7\n",
      "Inserting the following node:  1\n",
      "Inserting the following node:  2\n",
      "Inserting the following node:  9\n",
      "Inserting the following node:  8\n",
      "Inserting the following node:  9\n",
      "Inserting the following node:  9\n",
      "Inserting the following node:  9\n",
      "Inserting the following node:  6\n",
      "Inserting the following node:  4\n",
      "In order traversal:  [1, 2, 4, 6, 7, 8, 9, 9, 9, 9]\n",
      "Look for the following node:  8\n",
      " Node exists, hence removing the Node...\n",
      " Element exists in list, hence removing it...!\n",
      "Look for the following node:  8\n"
     ]
    },
    {
     "ename": "AttributeError",
     "evalue": "'NoneType' object has no attribute 'search_data'",
     "output_type": "error",
     "traceback": [
      "\u001b[0;31m---------------------------------------------------------------------------\u001b[0m",
      "\u001b[0;31mAttributeError\u001b[0m                            Traceback (most recent call last)",
      "\u001b[0;32m<ipython-input-7-e9c7174153a3>\u001b[0m in \u001b[0;36m<module>\u001b[0;34m()\u001b[0m\n\u001b[1;32m     20\u001b[0m \u001b[0;32mfor\u001b[0m \u001b[0mx\u001b[0m \u001b[0;32min\u001b[0m \u001b[0;34m[\u001b[0m\u001b[0mrandom\u001b[0m\u001b[0;34m.\u001b[0m\u001b[0mrandint\u001b[0m\u001b[0;34m(\u001b[0m\u001b[0;36m0\u001b[0m\u001b[0;34m,\u001b[0m\u001b[0;36m10\u001b[0m\u001b[0;34m)\u001b[0m \u001b[0;32mfor\u001b[0m \u001b[0m_\u001b[0m \u001b[0;32min\u001b[0m \u001b[0mrange\u001b[0m\u001b[0;34m(\u001b[0m\u001b[0;36m4\u001b[0m\u001b[0;34m)\u001b[0m\u001b[0;34m]\u001b[0m\u001b[0;34m:\u001b[0m\u001b[0;34m\u001b[0m\u001b[0;34m\u001b[0m\u001b[0m\n\u001b[1;32m     21\u001b[0m     \u001b[0mprint\u001b[0m\u001b[0;34m(\u001b[0m\u001b[0;34m'Look for the following node: '\u001b[0m\u001b[0;34m,\u001b[0m \u001b[0mx\u001b[0m\u001b[0;34m)\u001b[0m\u001b[0;34m\u001b[0m\u001b[0;34m\u001b[0m\u001b[0m\n\u001b[0;32m---> 22\u001b[0;31m     \u001b[0;32mif\u001b[0m \u001b[0mbst\u001b[0m\u001b[0;34m.\u001b[0m\u001b[0msearch_data\u001b[0m\u001b[0;34m(\u001b[0m\u001b[0mx\u001b[0m\u001b[0;34m)\u001b[0m\u001b[0;34m:\u001b[0m\u001b[0;34m\u001b[0m\u001b[0;34m\u001b[0m\u001b[0m\n\u001b[0m\u001b[1;32m     23\u001b[0m         \u001b[0mprint\u001b[0m\u001b[0;34m(\u001b[0m\u001b[0;34m' Node exists, hence removing the Node...'\u001b[0m\u001b[0;34m)\u001b[0m\u001b[0;34m\u001b[0m\u001b[0;34m\u001b[0m\u001b[0m\n\u001b[1;32m     24\u001b[0m         \u001b[0mbst\u001b[0m \u001b[0;34m=\u001b[0m \u001b[0mbst\u001b[0m\u001b[0;34m.\u001b[0m\u001b[0mdelete\u001b[0m\u001b[0;34m(\u001b[0m\u001b[0mx\u001b[0m\u001b[0;34m)\u001b[0m\u001b[0;34m\u001b[0m\u001b[0;34m\u001b[0m\u001b[0m\n",
      "\u001b[0;31mAttributeError\u001b[0m: 'NoneType' object has no attribute 'search_data'"
     ]
    }
   ],
   "source": [
    "### Testing Code\n",
    "###\n",
    "\n",
    "import random\n",
    "\n",
    "bst = None # bst is a misnormer, this variable contains the Node that is the root of the BST of interest\n",
    "lst = []\n",
    "\n",
    "# sampling with replacement\n",
    "for x in [Node(random.randint(0,10)) for _ in range(10)]:\n",
    "    print('Inserting the following node: ', x.data)\n",
    "    if not bst:\n",
    "        bst = x\n",
    "    else:\n",
    "        bst.insert(x)\n",
    "    list_insert(lst, x.data)\n",
    "\n",
    "print('In order traversal: ', bst.inorder())\n",
    "\n",
    "for x in [random.randint(0,10) for _ in range(4)]:\n",
    "    print('Look for the following node: ', x)\n",
    "    if bst.search_data(x):\n",
    "        print(' Node exists, hence removing the Node...')\n",
    "        bst = bst.delete(x)\n",
    "    else:\n",
    "        print(' Node does not exist and cannot be removed!')\n",
    "    if list_search(lst, x):\n",
    "        print(' Element exists in list, hence removing it...!')\n",
    "        list_delete(lst,x)\n",
    "    else:\n",
    "        print(' Element does not exist in list, and cannot be removed!')\n",
    "\n",
    "print('In order traversal of final BST: ', bst.inorder())\n",
    "print('Final list: ', lst)\n"
   ]
  },
  {
   "cell_type": "raw",
   "metadata": {
    "deletable": false,
    "nbgrader": {
     "checksum": "11743c20bdd473ed59d8b90c514f6176",
     "grade": true,
     "grade_id": "cell-1af64135f3359698",
     "locked": false,
     "points": 0,
     "schema_version": 1,
     "solution": true
    }
   },
   "source": [
    "For some reason I could not fix the AttributeError when NoneType object attempts to call a function, even though I added lines 'if self is None, do something' to catch the case that input node is None..."
   ]
  },
  {
   "cell_type": "markdown",
   "metadata": {},
   "source": [
    "From my execution, the insert results matches, the search results match if bst is not NoneType. \n",
    "Even if the test code is passed, it does not guarantee a bug-free implementation as the test cases have very small data size and does not test edge cases.\n"
   ]
  },
  {
   "cell_type": "code",
   "execution_count": null,
   "metadata": {
    "collapsed": true
   },
   "outputs": [],
   "source": []
  }
 ],
 "metadata": {
  "kernelspec": {
   "display_name": "Python 3",
   "language": "python",
   "name": "python3"
  },
  "language_info": {
   "codemirror_mode": {
    "name": "ipython",
    "version": 3
   },
   "file_extension": ".py",
   "mimetype": "text/x-python",
   "name": "python",
   "nbconvert_exporter": "python",
   "pygments_lexer": "ipython3",
   "version": "3.6.9"
  }
 },
 "nbformat": 4,
 "nbformat_minor": 2
}
