{
 "cells": [
  {
   "cell_type": "markdown",
   "metadata": {},
   "source": [
    "Before you turn this problem in, make sure everything runs as expected. First, **restart the kernel** (in the menubar, select Kernel$\\rightarrow$Restart) and then **run all cells** (in the menubar, select Cell$\\rightarrow$Run All).\n",
    "\n",
    "Make sure you fill in any place that says `YOUR CODE HERE` or \"YOUR ANSWER HERE\", as well as your name and collaborators below:"
   ]
  },
  {
   "cell_type": "code",
   "execution_count": 4,
   "metadata": {
    "collapsed": true
   },
   "outputs": [],
   "source": [
    "NAME = \"Jingren Wang\"\n",
    "COLLABORATORS = \"N.A.\""
   ]
  },
  {
   "cell_type": "markdown",
   "metadata": {},
   "source": [
    "---"
   ]
  },
  {
   "cell_type": "markdown",
   "metadata": {
    "deletable": false,
    "editable": false,
    "nbgrader": {
     "checksum": "c650e4f3477fb1b0666f4f7d1d7cfd38",
     "grade": false,
     "grade_id": "cell-a415b724e36aa852",
     "locked": true,
     "schema_version": 1,
     "solution": false
    }
   },
   "source": [
    "# CS110 Pre-class Work 2.2\n",
    "\n",
    "## Question 1 (Exercise 3.1-3 of Cormen, et al. )\n",
    "Explain why the statement, \"The running time of algorithm A is at least $O(n^2)$,\" is meaningless.\n"
   ]
  },
  {
   "cell_type": "markdown",
   "metadata": {
    "deletable": false,
    "nbgrader": {
     "checksum": "d6f28cb6ab1a8f547f022f1932f609f9",
     "grade": true,
     "grade_id": "cell-437d61c1420d4f99",
     "locked": false,
     "points": 0,
     "schema_version": 1,
     "solution": true
    }
   },
   "source": [
    "Let's denote the running time of an algorithm A to be T(n), the statement is trying to assert that T(n) >= O(n^2) for all n>0, which is meaningless for two reasons:<br>\n",
    "      <br>\n",
    "    1) by definition, a big-Oh of g(n) implies an asymptotically tight upper bound in the form of cg(n) such that, for n>n0, the value of T(n) will 'at most' be cn^2, not at least, therefore the correct notation would be big-Omega(n^2); \n",
    "    <br>\n",
    "    <br>\n",
    "    2) the statement does not finish with a condition on value of input size such as 'when n is sufficiently large'. Without this specification,the entire statement seems to suggest an asymptotically untight bound, which, if it is as intended, should be denoted by a lower-case omega."
   ]
  },
  {
   "cell_type": "markdown",
   "metadata": {
    "deletable": false,
    "editable": false,
    "nbgrader": {
     "checksum": "def6c9c9f606feea2e7a711e51c65304",
     "grade": false,
     "grade_id": "cell-7d82282e0c8a03e3",
     "locked": true,
     "schema_version": 1,
     "solution": false
    }
   },
   "source": [
    "## Question 2 (Exercise 3.1-4 of Cormen, et al. )\n",
    "\n",
    "Is $2^{n+1}=O(2^n)$? Is $2^{2n}=O(2^n)$?"
   ]
  },
  {
   "cell_type": "markdown",
   "metadata": {
    "deletable": false,
    "nbgrader": {
     "checksum": "9ea64ba2361ca4a6d09f468ddf82f39b",
     "grade": true,
     "grade_id": "cell-6a0c4ee19dadfddf",
     "locked": false,
     "points": 0,
     "schema_version": 1,
     "solution": true
    }
   },
   "source": [
    "1) To prove f(n) = 2^(n+1) = O(2^n) is true, we need to find a certain positive constant c and n0 such that 0 <= 2^(n+1) <= c*2^n for all n > n0. Since 2^(n+1) = 2*2^n = 2*g(n), we can easily show this is true when c >= 2, and n0 = 0, i.e. the statement is true; <br>\n",
    "<br>\n",
    "2) To prove f(n) = 2^(2n) = O(2^n) is true, we need to find a certain positive constant c and n0 such that 0 <= 2^(2n) <= c*2^n for all n > n0.  f(n) = 2^(2n) = (2^n)(2^n) <= c*(2^n),dividing both sides by (2^n), we get c >= 2^n, which is not a constant, so the statement is false. \n"
   ]
  },
  {
   "cell_type": "markdown",
   "metadata": {
    "deletable": false,
    "editable": false,
    "nbgrader": {
     "checksum": "b7ea4393551187246e7a7a7399d38250",
     "grade": false,
     "grade_id": "cell-e4fe88238c9e912a",
     "locked": true,
     "schema_version": 1,
     "solution": false
    }
   },
   "source": [
    "## Question 3.\n",
    "Write a function in Python that solves the maximum-subarray problem using a brute-force approach. Your Python function must:\n",
    "* Take as Input an array/list  of numbers\n",
    "* Produce the following Output: \n",
    "    * the start and end indices of the subarray containing the maximum sum.\n",
    "    * value of the maximum subarray (float)\n"
   ]
  },
  {
   "cell_type": "code",
   "execution_count": 5,
   "metadata": {
    "collapsed": true,
    "deletable": false,
    "nbgrader": {
     "checksum": "c98e89c42d52953c5e460a0126592e2a",
     "grade": false,
     "grade_id": "cell-527e6532d6992fd0",
     "locked": false,
     "schema_version": 1,
     "solution": true
    }
   },
   "outputs": [],
   "source": [
    "import math\n",
    "\n",
    "### Theta(n^3)!\n",
    "def bruteforce_max_subarray_Stupid(A):\n",
    "    \"\"\"Implements brute-force maximum subarray finding.\n",
    "    \n",
    "    Inputs:\n",
    "    - A: a NON-EMPTY list of floats\n",
    "    \n",
    "    Outputs: A tuple of\n",
    "    - the start index of the max subarray\n",
    "    - the end index of the max subarray\n",
    "    - the value of the maximum subarray\n",
    "    \"\"\"\n",
    "    \n",
    "    max_sum = -math.inf #give floor max (-oo) for initial max_sum\n",
    "    max_i, max_j = 0,0 \n",
    "        \n",
    "    for i in range(len(A)-1):\n",
    "        # print(\"i = \", i)\n",
    "        for j in range(i+1, len(A)):\n",
    "            # print(\"  j = \",j)\n",
    "            subArray_sum = sum(A[i:j])\n",
    "            # print(A[i:j])\n",
    "            if subArray_sum > max_sum:\n",
    "                max_sum = subArray_sum\n",
    "                max_i = i\n",
    "                max_j = j-1\n",
    "                \n",
    "    return (max_i,max_j,max_sum)\n",
    "\n",
    "    raise NotImplementedError()\n",
    "    \n",
    "### note: this is a 'stupid' brute-force, since the actual running time \n",
    "### goes to n^3, i.e. Theta(n^3) not n^2, as the built-in \n",
    "### 'sum()' function in python is itself a for loop\n",
    "\n",
    "#below is a smarter way"
   ]
  },
  {
   "cell_type": "code",
   "execution_count": 13,
   "metadata": {
    "collapsed": true
   },
   "outputs": [],
   "source": [
    "# Theta(n^2) \n",
    "def bruteforce_max_subarray(A):\n",
    "\n",
    "    max_sum = -math.inf #give floor max (-oo) for initial max_sum\n",
    "    max_i, max_j = 0,0 \n",
    "        \n",
    "    for i in range(len(A)-1):\n",
    "        subArray_sum = A[i]   # for each starter, sum of 1 item is itself     \n",
    "        # print(\"i = \", i)\n",
    "        for j in range(i+1, len(A)):\n",
    "            subArray_sum += A[j]  # add in the adjacent item, and compare\n",
    "            # print(\"  j = \",j)\n",
    "            if subArray_sum > max_sum:\n",
    "                max_sum = subArray_sum\n",
    "                max_i = i\n",
    "                max_j = j #no need to minus 1\n",
    "                \n",
    "    return (max_i,max_j,max_sum)\n",
    "\n",
    "    raise NotImplementedError()"
   ]
  },
  {
   "cell_type": "code",
   "execution_count": 14,
   "metadata": {},
   "outputs": [
    {
     "name": "stdout",
     "output_type": "stream",
     "text": [
      "(1, 3, 2)\n",
      "(2, 6, 7)\n"
     ]
    }
   ],
   "source": [
    "A = [-2,1,-1,2,-5]\n",
    "B = [-2, -5, 6, -2, -3, 1, 5, -6]\n",
    "btf_A = bruteforce_max_subarray(A)\n",
    "print(btf_A)\n",
    "\n",
    "btf_B = bruteforce_max_subarray(B)\n",
    "print(btf_B)\n"
   ]
  },
  {
   "cell_type": "code",
   "execution_count": 15,
   "metadata": {
    "deletable": false,
    "editable": false,
    "nbgrader": {
     "checksum": "57ec4672631bc8d61833077d1977b3e3",
     "grade": true,
     "grade_id": "cell-a28a56466c9537ff",
     "locked": true,
     "points": 1,
     "schema_version": 1,
     "solution": false
    }
   },
   "outputs": [],
   "source": [
    "assert(bruteforce_max_subarray([-2,1,-1,2,-5]) == (1, 3, 2))\n",
    "assert(bruteforce_max_subarray([-2, -5, 6, -2, -3, 1, 5, -6]) == (2, 6, 7))"
   ]
  },
  {
   "cell_type": "code",
   "execution_count": 26,
   "metadata": {},
   "outputs": [
    {
     "name": "stdout",
     "output_type": "stream",
     "text": [
      "[0.10321800000001247, 0.1017349999999908, 0.10747499999999377, 0.10871500000000367]\n",
      "[14.324072999999984, 14.039382999999987, 13.83383999999998, 13.97671699999998]\n"
     ]
    }
   ],
   "source": [
    "# let's compare brute_force stupid with brute_force(smart)\n",
    "import time\n",
    "from numpy import random\n",
    "\n",
    "T_btf_smart = []\n",
    "\n",
    "for i in range(1,5):\n",
    "   \n",
    "    n = 100*10^i\n",
    "    A = random.randint(-10^8, 10^8, n)\n",
    "    start_time = time.clock()\n",
    "    bruteforce_max_subarray(A)   \n",
    "    T_n = time.clock()-start_time\n",
    "    T_btf_smart.append(T_n)\n",
    "    \n",
    "\n",
    "T_btf_stupid = []\n",
    "\n",
    "for i in range(1,5):\n",
    "   \n",
    "    n = 100*10^i\n",
    "    A = random.randint(-10^8, 10^8, n)\n",
    "    start_time = time.clock()\n",
    "    bruteforce_max_subarray_Stupid(A)   \n",
    "    T_n = time.clock()-start_time\n",
    "    T_btf_stupid.append(T_n)\n",
    "    \n",
    "    \n",
    "print(T_btf_smart)\n",
    "print(T_btf_stupid)\n",
    "        \n",
    "                  \n",
    "    \n",
    "#impressive .... \n",
    "# the stupid method is REALLY stupid\n"
   ]
  },
  {
   "cell_type": "code",
   "execution_count": 21,
   "metadata": {},
   "outputs": [
    {
     "name": "stdout",
     "output_type": "stream",
     "text": [
      "<class 'numpy.ndarray'>\n",
      "(4, 7, 72)\n"
     ]
    }
   ],
   "source": [
    "n = 8\n",
    "R = random.randint(-100, 100, n)\n",
    "print(type(A))\n",
    "btf_R = bruteforce_max_subarray(R)\n",
    "print(btf_R)"
   ]
  },
  {
   "cell_type": "code",
   "execution_count": null,
   "metadata": {
    "collapsed": true
   },
   "outputs": [],
   "source": []
  },
  {
   "cell_type": "markdown",
   "metadata": {
    "deletable": false,
    "editable": false,
    "nbgrader": {
     "checksum": "8625e044853f9c85838ca9f6ca4db9c4",
     "grade": false,
     "grade_id": "cell-ba342b15913cb4d3",
     "locked": true,
     "schema_version": 1,
     "solution": false
    }
   },
   "source": [
    "## Question 4. \n",
    "Test your Python maximum-subarray function using the following input list (from Figure 4.3 of Cormen et al.):  \n",
    "`A = [13, -3, -25, 20, -3, -16, -23, 18, 20, -7, 12, -5, -22, 15, -4, 7] `\n",
    "\n",
    "If your Python implementation is correct, your code must return: \n",
    "* 43 - which is the answer to the maximum subarray problem, and \n",
    "* <7, 10> -the start and the end indices of the max subarray. \n",
    "\n"
   ]
  },
  {
   "cell_type": "code",
   "execution_count": null,
   "metadata": {
    "deletable": false,
    "nbgrader": {
     "checksum": "9084301761509ba09820ee55035fd115",
     "grade": true,
     "grade_id": "cell-e4a632ce0edc1697",
     "locked": false,
     "points": 0,
     "schema_version": 1,
     "solution": true
    }
   },
   "outputs": [],
   "source": [
    "def test_max_array(A, max_answer):\n",
    "    btf = bruteforce_max_subarray(A)\n",
    "    max_sum = btf[2]\n",
    "    indices = (btf[0],btf[1])\n",
    "    \n",
    "    return max_sum==max_answer, indices\n",
    "\n",
    "    raise NotImplementedError()\n",
    "\n",
    "A = [13, -3, -25, 20, -3, -16, -23, 18, 20, -7, 12, -5, -22, 15, -4, 7]\n",
    "max_answer = 43\n",
    "test_max_array(A, max_answer)"
   ]
  },
  {
   "cell_type": "markdown",
   "metadata": {
    "deletable": false,
    "editable": false,
    "nbgrader": {
     "checksum": "e99f275368a5231d3692d72e62ad372d",
     "grade": false,
     "grade_id": "cell-345f6f0bc7b4e001",
     "locked": true,
     "schema_version": 1,
     "solution": false
    }
   },
   "source": [
    "## Question 5. Asymptotic notation. \n",
    "Complete the following table using the asymptotic notation that best describes the problem. For example, if both $O(n^3)$ and $O(n)$ are possible for an algorithm, the answer is $O(n)$ because the function $f(n) = O(n)$ provides a tighter and more accurate fit; if both $O(n)$ and $\\Theta(n)$ are possible, the correct answer is $\\Theta(n)$ because $\\Theta(n)$ provides both information about the upper and lower bound, thus it is more accurate than $O(n)$.\n",
    "\n",
    "You should copy the following table and paste and edit it in the cell below. \n",
    "\n",
    "Algorithm | Big Oh ($O$) | Big Theta ($\\Theta$)\n",
    "--- | --- | ---\n",
    "Insertion sort |  |\n",
    "Selection sort |  |\n",
    "Bubble sort |  | \n",
    "Finding maximum subarray |  |"
   ]
  },
  {
   "cell_type": "markdown",
   "metadata": {
    "deletable": false,
    "nbgrader": {
     "checksum": "6a2e8546bb697eda40015086f8405788",
     "grade": true,
     "grade_id": "cell-247c51df276b622e",
     "locked": false,
     "points": 0,
     "schema_version": 1,
     "solution": true
    }
   },
   "source": [
    "Algorithm | Big Oh ($O$) | Big Theta ($\\Theta$)\n",
    "--- | --- | ---\n",
    "Insertion sort | $n^2  $|\n",
    "Selection sort |  |$n^2  $\n",
    "Bubble sort |  $n^2  $| \n",
    "Finding maximum subarray |  |$n^2  $\n",
    "*Note: assume that brute-force algorithm is used for finding maximum subarray\n"
   ]
  },
  {
   "cell_type": "markdown",
   "metadata": {
    "deletable": false,
    "editable": false,
    "nbgrader": {
     "checksum": "033981aff08a9064f5553137db1a4841",
     "grade": false,
     "grade_id": "cell-9e53f43b4530cd79",
     "locked": true,
     "schema_version": 1,
     "solution": false
    }
   },
   "source": [
    "## [Optional] Question 6. \n",
    "How can you change this code to make it find the minimum-subarray?"
   ]
  },
  {
   "cell_type": "code",
   "execution_count": null,
   "metadata": {
    "collapsed": true,
    "deletable": false,
    "nbgrader": {
     "checksum": "462bcec4b06cc6fbda0e34c29e30b1fb",
     "grade": false,
     "grade_id": "cell-f4553f71858d1bc4",
     "locked": false,
     "schema_version": 1,
     "solution": true
    }
   },
   "outputs": [],
   "source": [
    "def bruteforce_min_subarray(A):\n",
    "    \"\"\"Implements brute-force minimum subarray finding.\n",
    "    \n",
    "    Inputs:\n",
    "    - A: a NON-EMPTY list of floats\n",
    "    \n",
    "    Outputs: A tuple of\n",
    "    - the start index of the mim subarray\n",
    "    - the end index of the mim subarray\n",
    "    - the value of the minimum subarray\n",
    "    \"\"\"\n",
    "    # YOUR CODE HERE\n",
    "    min_i,min_j = 0,0\n",
    "    min_sum = math.inf  #give ceiling min of +oo for initial min_sum\n",
    "\n",
    "    for i in range(len(A)-1):\n",
    "        #print(\"i = \", i)\n",
    "        for j in range(i+1, len(A)):\n",
    "            #print(\"  j = \",j)\n",
    "            #print(A[i:j])\n",
    "            subArray_sum = sum(A[i:j])\n",
    "            #print(\"subArray_sum= \",subArray_sum)\n",
    "            if subArray_sum < min_sum:\n",
    "                min_sum = subArray_sum\n",
    "                min_i = i\n",
    "                min_j = j-1\n",
    "                \n",
    "    return (min_i,min_j,min_sum)\n",
    "    raise NotImplementedError()"
   ]
  },
  {
   "cell_type": "code",
   "execution_count": null,
   "metadata": {},
   "outputs": [],
   "source": [
    "A = [1]*10\n",
    "tens = bruteforce_min_subarray(A)\n",
    "print(A)\n",
    "print(tens[0])\n",
    "print(tens[1])\n",
    "print(tens[2])"
   ]
  },
  {
   "cell_type": "code",
   "execution_count": null,
   "metadata": {
    "collapsed": true,
    "deletable": false,
    "editable": false,
    "nbgrader": {
     "checksum": "70322c36cf22b5f720e6c338f08925c2",
     "grade": true,
     "grade_id": "cell-4263c7494a5f09d3",
     "locked": true,
     "points": 0,
     "schema_version": 1,
     "solution": false
    }
   },
   "outputs": [],
   "source": [
    "assert(bruteforce_min_subarray([1]*10)[0] == bruteforce_min_subarray([1]*10)[1])\n",
    "assert(bruteforce_min_subarray([1]*10)[2] == 1)"
   ]
  },
  {
   "cell_type": "code",
   "execution_count": null,
   "metadata": {
    "collapsed": true
   },
   "outputs": [],
   "source": []
  }
 ],
 "metadata": {
  "kernelspec": {
   "display_name": "Python 3",
   "language": "python",
   "name": "python3"
  },
  "language_info": {
   "codemirror_mode": {
    "name": "ipython",
    "version": 3
   },
   "file_extension": ".py",
   "mimetype": "text/x-python",
   "name": "python",
   "nbconvert_exporter": "python",
   "pygments_lexer": "ipython3",
   "version": "3.6.2"
  }
 },
 "nbformat": 4,
 "nbformat_minor": 2
}
