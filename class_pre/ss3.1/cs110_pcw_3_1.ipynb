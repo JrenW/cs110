{
 "cells": [
  {
   "cell_type": "markdown",
   "metadata": {},
   "source": [
    "Before you turn this problem in, make sure everything runs as expected. First, **restart the kernel** (in the menubar, select Kernel$\\rightarrow$Restart) and then **run all cells** (in the menubar, select Cell$\\rightarrow$Run All).\n",
    "\n",
    "Make sure you fill in any place that says `YOUR CODE HERE` or \"YOUR ANSWER HERE\", as well as your name and collaborators below:"
   ]
  },
  {
   "cell_type": "code",
   "execution_count": 1,
   "metadata": {
    "collapsed": true
   },
   "outputs": [],
   "source": [
    "NAME = \"Jingren Wang\"\n",
    "COLLABORATORS = \"N.A.\""
   ]
  },
  {
   "cell_type": "markdown",
   "metadata": {},
   "source": [
    "---"
   ]
  },
  {
   "cell_type": "markdown",
   "metadata": {
    "deletable": false,
    "editable": false,
    "nbgrader": {
     "checksum": "6eb33d4bbb91bdad042e00eb02fae1ad",
     "grade": false,
     "grade_id": "cell-f941f4ddd5e342f7",
     "locked": true,
     "schema_version": 1,
     "solution": false
    }
   },
   "source": [
    "# CS110 Pre-class Work 3.1\n",
    "\n",
    "## Question 1. \n",
    "Paste in your Python implementation of the maximum subarray from the previous class in the cell below and use that to find out the value of the maximum subarray of this array: `A = [-2, -3, 4, -1, -2, 1]`"
   ]
  },
  {
   "cell_type": "code",
   "execution_count": 2,
   "metadata": {
    "collapsed": true
   },
   "outputs": [],
   "source": [
    "import math\n",
    "import numpy as np\n",
    "\n",
    "\n",
    "def bruteforce_max_subarray(A):\n",
    "    \"\"\"Implements brute-force maximum subarray finding.\n",
    "    \n",
    "    Inputs:\n",
    "    - A: a NON-EMPTY list of floats\n",
    "    \n",
    "    Outputs: A tuple of\n",
    "    - the start index of the max subarray\n",
    "    - the end index of the max subarray\n",
    "    - the value of the maximum subarray\n",
    "    \"\"\"\n",
    "    \n",
    "    max_sum = -math.inf #give floor max (-oo) for initial max_sum\n",
    "    max_i, max_j = 0,0 \n",
    "        \n",
    "    for i in range(len(A)-1):\n",
    "        # print(\"i = \", i)\n",
    "        for j in range(i+1, len(A)):\n",
    "            # print(\"  j = \",j)\n",
    "            subArray_sum = sum(A[i:j])\n",
    "            # print(A[i:j])\n",
    "            if subArray_sum >= max_sum:\n",
    "                max_sum = subArray_sum\n",
    "                max_i = i\n",
    "                max_j = j # minus 1 to get the correct right index of current subarray.\n",
    "                \n",
    "    return (max_i,max_j,max_sum)\n",
    "\n",
    "    raise NotImplementedError()"
   ]
  },
  {
   "cell_type": "code",
   "execution_count": 3,
   "metadata": {
    "deletable": false,
    "nbgrader": {
     "checksum": "6c4991e90ad8cdfb8cf42529b7e5edd6",
     "grade": true,
     "grade_id": "cell-e69c8bbcd40ca242",
     "locked": false,
     "points": 0,
     "schema_version": 1,
     "solution": true
    },
    "scrolled": true
   },
   "outputs": [
    {
     "name": "stdout",
     "output_type": "stream",
     "text": [
      "(2, 3, 4)\n"
     ]
    }
   ],
   "source": [
    "# YOUR CODE HERE\n",
    "A = [-2, -3, 4, -1, -2, 1]\n",
    "sumMax_A = bruteforce_max_subarray(A)\n",
    "print(sumMax_A)\n",
    "\n",
    "#raise NotImplementedError()"
   ]
  },
  {
   "cell_type": "markdown",
   "metadata": {
    "deletable": false,
    "editable": false,
    "nbgrader": {
     "checksum": "676f4558ca97298a50665d2b57563a54",
     "grade": false,
     "grade_id": "cell-6b2d39096ef80c67",
     "locked": true,
     "schema_version": 1,
     "solution": false
    }
   },
   "source": [
    "## Question 2. \n",
    "Now, your friend Joe comes and appends a single extra number at the end of the array, which becomes:  `B = [-2, -3, 4, -1, -2, 1, 8]`. Do you have to re-run the entire maximum subarray again? Explain your answer. \n",
    "The subsequent questions will help you figure out an efficient algorithmic strategy to address the last question, but make sure to write your explanation above first, before answering the remaining questions.\n"
   ]
  },
  {
   "cell_type": "markdown",
   "metadata": {
    "deletable": false,
    "nbgrader": {
     "checksum": "b848c0f0fa07252cc99055a801b12e47",
     "grade": true,
     "grade_id": "cell-d4b7cd845c816263",
     "locked": false,
     "points": 0,
     "schema_version": 1,
     "solution": true
    }
   },
   "source": [
    "My answer:<br>\n",
    "Yes, the bruteforce_max_subarray() function is 'stupid' in the sense that it exhaust every possible combination of (i,j) of A[i:j] for any input array A. So the function would not be able to identify A in B (as A+'8'), and blindly treat array B as the new array A, which is quite inefficient."
   ]
  },
  {
   "cell_type": "markdown",
   "metadata": {
    "deletable": false,
    "editable": false,
    "nbgrader": {
     "checksum": "055be509a3fd9e61e64a6572949aa994",
     "grade": false,
     "grade_id": "cell-7280eecbaa455be1",
     "locked": true,
     "schema_version": 1,
     "solution": false
    }
   },
   "source": [
    "## Question 3. \n",
    "\n",
    "**Determine if the following statement is True or False and explain your answer.**\n",
    "If the maximum subarray of the array A is different than the maximum subarray of the array B (questions 1 and 2), the new maximum-subarray doesn’t need to include 8 (i.e., the newly appended element). \n"
   ]
  },
  {
   "cell_type": "markdown",
   "metadata": {
    "deletable": false,
    "nbgrader": {
     "checksum": "2b29f3c119737d73a7578e00d43972a4",
     "grade": true,
     "grade_id": "cell-9377964a8756f13b",
     "locked": false,
     "points": 0,
     "schema_version": 1,
     "solution": true
    }
   },
   "source": [
    "My answer:<br>\n",
    "\n",
    "Given the key assumption of a maximum subarray probelm, that a subarray must contain contiguous elements of A, the question of whether the maximum subarray of array B would differ from that of array A can be reduced to a comparison of the sum of value from elements to the left of the maximum subarray with zero.\n",
    "e.g. for A = [-2, -3, 4, -1, -2, 1]\n",
    "the subarray that returns a maximum sum is A[2:3] = [4], such that the right index j = 3 \n",
    "next, the maximum subarray value will be updated ONLY if the sum of all elements of A right to jth element, plus the added one, is greater than 0\n",
    "    in this case A[j:len(A)] = [-1,-2,1], whose sum is -1-2+1 = -2,\n",
    "since 8+(-2) = 6 > 0, a new sum is obtained and the maximus subarray must include 8.\n",
    "\n",
    "Therefore, this statement is false, as the new maximu-subarray MUST include 8, the newly added element, if the new array B returns a different (must be higher) value than the current maximum of array A."
   ]
  },
  {
   "cell_type": "markdown",
   "metadata": {
    "deletable": false,
    "editable": false,
    "nbgrader": {
     "checksum": "461bf61cb22c2304f3988c6f34a901e8",
     "grade": false,
     "grade_id": "cell-e7cc711ccdade69f",
     "locked": true,
     "schema_version": 1,
     "solution": false
    }
   },
   "source": [
    "## Question 4.\n",
    "Complete the Python function `incremental_max_subarray(x, mx)` in the cell below.\n",
    "\n",
    "This [video](https://www.youtube.com/watch?v=AAgErqQmwmA&list=PLF_a-qBXTGFektoI6JUOTRL36JlvD04BR&index=4&t=0s)  might be helpful to understand the `incremental_max_subarray` problem."
   ]
  },
  {
   "cell_type": "code",
   "execution_count": 4,
   "metadata": {
    "collapsed": true,
    "deletable": false,
    "nbgrader": {
     "checksum": "ac3f0799ce4ff7159403a97b99cbb5bd",
     "grade": false,
     "grade_id": "cell-0230e459f3d701f8",
     "locked": false,
     "schema_version": 1,
     "solution": true
    }
   },
   "outputs": [],
   "source": [
    "def incremental_max_subarray(x, mx):\n",
    "    \"\"\" \n",
    "    Inputs:\n",
    "    - x: a NON-EMPTY list of numbers (e.g., the array B in the first two questions above). \n",
    "        * If x has 1 element: returns the value of the element regardless of the value of mx\n",
    "    - mx: the maximum subarray of x excluding its last element (i.e., compute the \n",
    "    maximum subarray of the input array x considering only its first len(x) - 1 elements)\n",
    "    \n",
    "    Output: The sum value (in float) of the maximum subarray of the array x.\n",
    "    \n",
    "    For example, using the array B in question 2, the result of incremental_max_subarray(B, 4) \n",
    "    is 10 (10 = 8 + 1 - 2 -1 + 4). \n",
    "    \"\"\"\n",
    "    # YOUR CODE HERE\n",
    "    n = len(x)  \n",
    "    if n == 1: # return the element when array is singleton \n",
    "        return x[0]\n",
    "    elif n == 0:  # raise error when input array is empty\n",
    "        return \"array is empty.\"\n",
    "    else:\n",
    "        sumArr = 0\n",
    "        new_max = -math.inf # initiate sum of new array from B[-1] at floor value\n",
    "        \n",
    "        for i in range(n-1,-1,-1):\n",
    "           # print('i=',i)\n",
    "            sumArr += x[i]\n",
    "            if sumArr > new_max:\n",
    "                new_max = sumArr\n",
    "                max_i = i\n",
    "        \n",
    "    return max(float(new_max), float(mx))\n",
    "    \n",
    "    raise NotImplementedError()"
   ]
  },
  {
   "cell_type": "code",
   "execution_count": 5,
   "metadata": {
    "collapsed": true,
    "deletable": false,
    "editable": false,
    "nbgrader": {
     "checksum": "70a3880be02d6f703dfa95229957e71f",
     "grade": true,
     "grade_id": "cell-9abf19e56620ffa3",
     "locked": true,
     "points": 1,
     "schema_version": 1,
     "solution": false
    }
   },
   "outputs": [],
   "source": [
    "B = [-2, -3, 4, -1, -2, 1, 8]\n",
    "assert(incremental_max_subarray(B, 4) == 10)\n",
    "assert(incremental_max_subarray(B[:1], 0) == B[0])"
   ]
  },
  {
   "cell_type": "markdown",
   "metadata": {
    "deletable": false,
    "nbgrader": {
     "checksum": "278d2e7036e916ce0fafffdd0c237584",
     "grade": true,
     "grade_id": "cell-bacebe71191cbd0f",
     "locked": false,
     "points": 0,
     "schema_version": 1,
     "solution": true
    }
   },
   "source": [
    "YOUR ANSWER HERE"
   ]
  },
  {
   "cell_type": "code",
   "execution_count": 6,
   "metadata": {
    "collapsed": true,
    "deletable": false,
    "nbgrader": {
     "checksum": "d9cdd0a60c40e487e87d79d21915e36b",
     "grade": false,
     "grade_id": "cell-fd96d4ccccd99fe6",
     "locked": false,
     "schema_version": 1,
     "solution": true
    }
   },
   "outputs": [],
   "source": [
    "def max_subarray(A):\n",
    "    \"\"\"\n",
    "    Using `incremental_max_subarray` iteratively on A to produce the value of the maximum\n",
    "    subarray of A.\n",
    "    \n",
    "    Inputs:\n",
    "    - A: a NON-EMPTY list of floats\n",
    "    \n",
    "    Outputs: float, the sum of the maximum subarray of A\n",
    "    \"\"\"\n",
    "    # YOUR CODE HERE\n",
    "    mx = -math.inf  #initiate mx at floor value\n",
    "    l = len(A)\n",
    "    \n",
    "    for j in range(1, l+1):   # upper index j from 1 to n\n",
    "        x = A[:j]  # \n",
    "        mx = incremental_max_subarray(x, mx)  # assign mx to current new max \n",
    "    return mx\n",
    "    \n",
    "    raise NotImplementedError()\n"
   ]
  },
  {
   "cell_type": "code",
   "execution_count": 7,
   "metadata": {},
   "outputs": [
    {
     "name": "stdout",
     "output_type": "stream",
     "text": [
      "array A is  [-12.16 -11.3    1.03   2.5    8.1   10.05  17.54  -9.24  -5.31  10.91]\n",
      "maximum subarray sum of A is 39.22\n"
     ]
    }
   ],
   "source": [
    "# my test case \n",
    "n = 10 # array size\n",
    "A = np.random.uniform(-20, 20, n)\n",
    "np.set_printoptions(precision=2)\n",
    "print('array A is ', A)\n",
    "\n",
    "# incremental method\n",
    "incr_A = max_subarray(A)\n",
    "print('maximum subarray sum of A is ''%.2f' % incr_A)\n",
    "\n"
   ]
  },
  {
   "cell_type": "code",
   "execution_count": 8,
   "metadata": {},
   "outputs": [
    {
     "name": "stdout",
     "output_type": "stream",
     "text": [
      "current_mx= -inf\n",
      ">>> call incremental_max_subarray(x, mx)\n",
      "A= [-2]\n",
      "new_mx= -2\n",
      "\n",
      "current_mx= -2\n",
      ">>> call incremental_max_subarray(x, mx)\n",
      "A= [-2, -3]\n",
      "new_mx= -2.0\n",
      "\n",
      "current_mx= -2.0\n",
      ">>> call incremental_max_subarray(x, mx)\n",
      "A= [-2, -3, 4]\n",
      "new_mx= 4.0\n",
      "\n",
      "current_mx= 4.0\n",
      ">>> call incremental_max_subarray(x, mx)\n",
      "A= [-2, -3, 4, -1]\n",
      "new_mx= 4.0\n",
      "\n",
      "current_mx= 4.0\n",
      ">>> call incremental_max_subarray(x, mx)\n",
      "A= [-2, -3, 4, -1, -2]\n",
      "new_mx= 4.0\n",
      "\n",
      "current_mx= 4.0\n",
      ">>> call incremental_max_subarray(x, mx)\n",
      "A= [-2, -3, 4, -1, -2, 1]\n",
      "new_mx= 4.0\n",
      "\n",
      "current_mx= 4.0\n",
      ">>> call incremental_max_subarray(x, mx)\n",
      "A= [-2, -3, 4, -1, -2, 1, 4]\n",
      "new_mx= 6.0\n",
      "\n"
     ]
    },
    {
     "data": {
      "text/plain": [
       "6.0"
      ]
     },
     "execution_count": 8,
     "metadata": {},
     "output_type": "execute_result"
    }
   ],
   "source": [
    "# [please ignore] my doodle for inspecting max_subarray(A)\n",
    "def max_subarray_inspect(A):\n",
    "    mx = -math.inf  #initiate mx at floor value\n",
    "    l = len(A)\n",
    "    \n",
    "    for j in range(1, l+1):   # upper index j from 1 to n\n",
    "        print ('current_mx=', mx)\n",
    "        print('>>> call incremental_max_subarray(x, mx)')\n",
    "        print('A=',A[:j])\n",
    "        x = A[:j]  # \n",
    "        mx = incremental_max_subarray(x, mx)  # assign mx to current new max \n",
    "        print('new_mx=',mx)\n",
    "        print('')\n",
    "        \n",
    "    return mx    \n",
    "\n",
    "# inspection\n",
    "C = [-2, -3, 4, -1, -2, 1, 4]\n",
    "max_subarray_inspect(C)"
   ]
  },
  {
   "cell_type": "code",
   "execution_count": 9,
   "metadata": {
    "collapsed": true,
    "deletable": false,
    "editable": false,
    "nbgrader": {
     "checksum": "74149a9559625383203ec1320bff5558",
     "grade": true,
     "grade_id": "cell-669ad779766aa2c3",
     "locked": true,
     "points": 1,
     "schema_version": 1,
     "solution": false
    }
   },
   "outputs": [],
   "source": [
    "# Please ignore this cell. This cell is for us to implement the tests \n",
    "# to see if your code works properly. "
   ]
  },
  {
   "cell_type": "markdown",
   "metadata": {
    "deletable": false,
    "editable": false,
    "nbgrader": {
     "checksum": "03054d2ff22ec9310060ab534208ec0d",
     "grade": false,
     "grade_id": "cell-ae966fc92d098939",
     "locked": true,
     "schema_version": 1,
     "solution": false
    }
   },
   "source": [
    "### Part 2.\n",
    "Is this more efficient than the divide-and-conquer approach? Explain."
   ]
  },
  {
   "cell_type": "markdown",
   "metadata": {
    "deletable": false,
    "nbgrader": {
     "checksum": "69eb86a7f05367f6396017910664f67d",
     "grade": true,
     "grade_id": "cell-cd8f0b130a7136db",
     "locked": false,
     "points": 0,
     "schema_version": 1,
     "solution": true
    }
   },
   "source": [
    "My answer:<br>\n",
    "\n",
    "According to Cormen, the divide-and-conquer approach is asymptotically $\\theta(nlog(n))$\n",
    "\n",
    "We estimate the asymptotic behavior of incremental approach:\n",
    "a. for an input array A of length n, the for loop of j loops n times; \n",
    "b. within each loop, the incremental_max_subarray(x,mx) function is called once, with x a subarray of A of length m = 1 to n; \n",
    "c. the incremental_max_subarray(x,mx) of input size n, for n>1, is executed n times due to the downwards counting for loop of i;\n",
    "d. since the if- and assignment statements run at constant time, the dominant pattern of growth is with the for loop of j, and iterative call of incremental_max_subarray(x,mx), in which \n",
    "<br>\n",
    "<br>\n",
    "T(n) = (1+...+n) + big_theta(n) = n(n+1)/2 +big_theta(n) <br>\n",
    "    = 0.5*n^2+ c*n\n",
    "*given that, both loops iterate through every element in input array regardless of sorting, the best-case scenario would be the same in terms of order of growth, so big_theta, not big_Oh, \n",
    "the asymptotic behavior of incremental approach is $\\theta(n^2)$, which is less efficient than the divide-and-conquer approach.\n",
    " \n",
    "\n",
    "\n"
   ]
  },
  {
   "cell_type": "code",
   "execution_count": null,
   "metadata": {
    "collapsed": true
   },
   "outputs": [],
   "source": []
  }
 ],
 "metadata": {
  "kernelspec": {
   "display_name": "Python 3",
   "language": "python",
   "name": "python3"
  },
  "language_info": {
   "codemirror_mode": {
    "name": "ipython",
    "version": 3
   },
   "file_extension": ".py",
   "mimetype": "text/x-python",
   "name": "python",
   "nbconvert_exporter": "python",
   "pygments_lexer": "ipython3",
   "version": "3.6.2"
  }
 },
 "nbformat": 4,
 "nbformat_minor": 2
}
