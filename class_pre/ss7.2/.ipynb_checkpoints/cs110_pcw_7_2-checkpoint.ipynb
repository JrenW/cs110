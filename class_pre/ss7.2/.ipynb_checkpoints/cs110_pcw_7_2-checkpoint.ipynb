{
 "cells": [
  {
   "cell_type": "markdown",
   "metadata": {},
   "source": [
    "Before you turn this problem in, make sure everything runs as expected. First, **restart the kernel** (in the menubar, select Kernel$\\rightarrow$Restart) and then **run all cells** (in the menubar, select Cell$\\rightarrow$Run All).\n",
    "\n",
    "Make sure you fill in any place that says `YOUR CODE HERE` or \"YOUR ANSWER HERE\", as well as your name and collaborators below:"
   ]
  },
  {
   "cell_type": "code",
   "execution_count": 264,
   "metadata": {
    "collapsed": true
   },
   "outputs": [],
   "source": [
    "NAME = \"Jingren Wang\"\n",
    "COLLABORATORS = \"N.A.\""
   ]
  },
  {
   "cell_type": "markdown",
   "metadata": {
    "deletable": false,
    "editable": false,
    "nbgrader": {
     "checksum": "2843e94073cad72d7107eb55b3f5d153",
     "grade": false,
     "grade_id": "cell-5b237cc13279b029",
     "locked": true,
     "schema_version": 1,
     "solution": false
    }
   },
   "source": [
    "# CS110 Pre-class Work 7.2\n",
    "\n",
    "## Part A. Direct Address Tables\n",
    "As the first step in setting up a crossword solving algorithm you need to create 2 direct address tables, one to store all the “up” answers-whether correct or not-and one to store all the “across” answers. Write python code to create a direct address table that allows you to:\n",
    "\n",
    "1. initialize N empty guesses\n",
    "2. set a guess for the i-th entry\n",
    "3. clear an incorrect guess for the i-th entry\n"
   ]
  },
  {
   "cell_type": "code",
   "execution_count": 265,
   "metadata": {
    "collapsed": true,
    "deletable": false,
    "nbgrader": {
     "checksum": "69e5d714c7245702b8732209ea0b2b42",
     "grade": true,
     "grade_id": "cell-d8d2e3c1b136cdb9",
     "locked": false,
     "points": 0,
     "schema_version": 1,
     "solution": true
    }
   },
   "outputs": [],
   "source": [
    "# a direct address table access a value by its key as index\n",
    "# prepare basic functions for crossword solving algorithm\n",
    "\n",
    "# initiate N empty guesses, each filled with None\n",
    "def create_DAtable(N):\n",
    "    # essentially a dictionary \n",
    "    DAtable = {}\n",
    "    \n",
    "    for i in range(N):\n",
    "        # use index as key, starting from 1 \n",
    "        k = i+1\n",
    "        DAtable[k] = None\n",
    "    return DAtable\n",
    "\n",
    "# set a guess for the i-th entry, i starts from 1, k=i\n",
    "def fill_answer(answer, i, DAtable):\n",
    "    # check if i is valid\n",
    "    if i > len(DAtable) or i < 1:\n",
    "        raise IndexError() \n",
    "        \n",
    "    # fill the ith slot by answer\n",
    "    DAtable[i] = answer\n",
    "    \n",
    "# clear an incorrect guess for the i-th entry, k=i\n",
    "def clear_answer(i, DAtable):\n",
    "    DAtable[i] = None\n",
    "    \n",
    "   "
   ]
  },
  {
   "cell_type": "markdown",
   "metadata": {
    "deletable": false,
    "editable": false,
    "nbgrader": {
     "checksum": "cdb562114e50f9ce1c97be3536b59efa",
     "grade": false,
     "grade_id": "cell-b27891b3ff16f730",
     "locked": true,
     "schema_version": 1,
     "solution": false
    }
   },
   "source": [
    "## Part B. Social Security\n",
    "\n",
    "Could we use a direct address table to store a country's entire set of social security numbers (aka id numbers)? Why or why not?\n"
   ]
  },
  {
   "cell_type": "markdown",
   "metadata": {
    "deletable": false,
    "nbgrader": {
     "checksum": "7b193e66cbea5bd9dac131a3d6adfefa",
     "grade": true,
     "grade_id": "cell-e751647d9af78c11",
     "locked": false,
     "points": 0,
     "schema_version": 1,
     "solution": true
    }
   },
   "source": [
    "Better not.\n",
    "\n",
    "The direct address table has size approx. equal to the universe of keys, U, and is only an ideal data structure when the actuall keys used is way less than U. However, the key size of id numbers of entire country is too large, so searching for a specific id across entire table would take linear time O(n), which would be very inefficient."
   ]
  },
  {
   "cell_type": "markdown",
   "metadata": {
    "deletable": false,
    "editable": false,
    "nbgrader": {
     "checksum": "35f74a7f882cabb36df7ee2c43ee51db",
     "grade": false,
     "grade_id": "cell-cba2028918eea1fd",
     "locked": true,
     "schema_version": 1,
     "solution": false
    }
   },
   "source": [
    "## Part C. Chained Hash-table\n",
    "\n",
    "## Question 1.\n",
    "\n",
    "Using the code in the cell below, complete the missing sections of code. You should copy and paste the code in an additional cell and fill in the code there."
   ]
  },
  {
   "cell_type": "code",
   "execution_count": 268,
   "metadata": {
    "collapsed": true,
    "deletable": false,
    "editable": false,
    "nbgrader": {
     "checksum": "48a17c00317da5b4474d91c6d8e6b920",
     "grade": false,
     "grade_id": "cell-9e41d88b035338f4",
     "locked": true,
     "schema_version": 1,
     "solution": false
    }
   },
   "outputs": [],
   "source": [
    "import random\n",
    "import string\n",
    "\n",
    "\n",
    "def randomword(length):\n",
    "    return ''.join(random.choice(string.ascii_lowercase) for i in range(length))\n",
    "\n",
    "\n",
    "def empty_hash_table(N):\n",
    "    return [[] for n in range(N)]\n",
    "\n",
    "\n",
    "def add_to_hash_table(hash_table, item, hash_function):\n",
    "    N = len(hash_table)\n",
    "    # Your code here\n",
    "    return hash_table\n",
    "\n",
    "\n",
    "def contains(hash_table, item, hash_function):\n",
    "    N = len(hash_table)\n",
    "    # Your code here\n",
    "    # return true if the item has already been stored in the hash_table\n",
    "\n",
    "\n",
    "def remove(hash_table, item, hash_function):\n",
    "    if not contains(hash_table, item, hash_function):\n",
    "        raise ValueError()\n",
    "    # Your code here\n",
    "    return hash_table\n",
    "\n",
    "\n",
    "def hash_str1(string):\n",
    "    ans = 0\n",
    "    for chr in string:\n",
    "        ans += ord(chr)\n",
    "    return ans\n",
    "\n",
    "# def hash_str2(string):\n",
    "#     ans = 0\n",
    "#     for chr in string:\n",
    "#         ans = ans ^ ord(chr)\n",
    "#     return ans\n",
    "def hash_str2(string):\n",
    "    ans=int(ord(string[0]))\n",
    "    for ix in range(1, len(string)):\n",
    "        ans = ans ^ ord(string[ix])   \n",
    "    return bin(ans)\n",
    "\n",
    "\n",
    "def hash_str3(string):\n",
    "    ans = 0\n",
    "    for chr in string:\n",
    "        ans = ans * 128 + ord(chr)\n",
    "    return ans\n",
    "\n",
    "\n",
    "def hash_str4(string):\n",
    "    random.seed(ord(string[0]))\n",
    "    return random.getrandbits(32)"
   ]
  },
  {
   "cell_type": "code",
   "execution_count": 269,
   "metadata": {
    "deletable": false,
    "nbgrader": {
     "checksum": "b39c1af2de8a4581d16a2d630fcaac74",
     "grade": true,
     "grade_id": "cell-1b6cc6df105c101f",
     "locked": false,
     "points": 0,
     "schema_version": 1,
     "solution": true
    }
   },
   "outputs": [],
   "source": [
    "import random\n",
    "import string\n",
    "\n",
    "# generate a random 'word' (valid or invalid) of given length\n",
    "def randomword(length):\n",
    "    return ''.join(random.choice(string.ascii_lowercase) for i in range(length))\n",
    "\n",
    "# create an empty hash table\n",
    "def empty_hash_table(N):\n",
    "    return [[] for n in range(N)]\n",
    "\n",
    "# insert an item into the hash table\n",
    "def add_to_hash_table(hash_table, item, hash_function):\n",
    "    N = len(hash_table)\n",
    "    \n",
    "    # get position index of item via hash function      \n",
    "    h = hash_function(item) # get hash value\n",
    "    \n",
    "    if hash_function == hash_str2:\n",
    "        h = int(h, 2)  # convert binary string to int for hash_str2() only\n",
    "        \n",
    "    idx = h%N # rescale to table index\n",
    "    \n",
    "    # append the item to appropriate slot\n",
    "    hash_table[idx].append(item)  \n",
    "    \n",
    "    return hash_table\n",
    "\n",
    "\n",
    "def contains(hash_table, item, hash_function):\n",
    "    N = len(hash_table)\n",
    "    \n",
    "    # get position index of item via hash function\n",
    "    h = hash_function(item) # get hash value\n",
    "    \n",
    "    if hash_function == hash_str2:\n",
    "        h = int(h, 2)  # convert binary string to int for hash_str2() only\n",
    "        \n",
    "    idx = h%N # rescale to table index\n",
    "    \n",
    "    # check if the item has already been stored in a slot of hash_table\n",
    "    if item in hash_table[idx]:\n",
    "        return True\n",
    "    else: \n",
    "        return False\n",
    "\n",
    "    # return true if the item has already been stored in the hash_table\n",
    "\n",
    "\n",
    "def remove(hash_table, item, hash_function):\n",
    "    # report error if no item to be removed\n",
    "    if not contains(hash_table, item, hash_function):\n",
    "        raise ValueError()\n",
    "    \n",
    "    # get position index of item via hash function\n",
    "    h = hash_function(item) # get hash value\n",
    "    \n",
    "    if hash_function == hash_str2:\n",
    "        h = int(h, 2)  # convert binary string to int for hash_str2() only\n",
    "   \n",
    "    idx = h%N # rescale to table index\n",
    "    \n",
    "    # delet the item in the idx\n",
    "    hash_table[idx].remove(item)   # remove the first matching value in slot list\n",
    "    \n",
    "    return hash_table\n",
    "\n",
    "\n",
    "# four different hash functions: hashing a string using ordinal values\n",
    "\n",
    "# hash 1: return sum of string's ordinal values\n",
    "def hash_str1(string):\n",
    "    ans = 0\n",
    "    for chr in string:\n",
    "        ans += ord(chr)\n",
    "    return ans\n",
    "\n",
    "# hash 2: power-binary method\n",
    "def hash_str2(string):\n",
    "    ans=int(ord(string[0]))\n",
    "    \n",
    "    for ix in range(1, len(string)):  \n",
    "        # apply bit-by-bit exclusive or - XOR\n",
    "        ans = ans ^ ord(string[ix])     \n",
    "    # return the binary equivalent string of the powered integer\n",
    "    return bin(ans)\n",
    "        # returns a binary string \n",
    "\n",
    "# hash 3: linear transformation on chr\n",
    "def hash_str3(string):\n",
    "    ans = 0\n",
    "    for chr in string:\n",
    "        ans = ans * 128 + ord(chr)\n",
    "    return ans\n",
    "\n",
    "# hash 4: randomization \n",
    "def hash_str4(string):\n",
    "    random.seed(ord(string[0]))\n",
    "    return random.getrandbits(32)"
   ]
  },
  {
   "cell_type": "code",
   "execution_count": null,
   "metadata": {
    "collapsed": true
   },
   "outputs": [],
   "source": []
  },
  {
   "cell_type": "markdown",
   "metadata": {
    "deletable": false,
    "editable": false,
    "nbgrader": {
     "checksum": "d323c68243f6d1fe79cbf5ad01ee85ae",
     "grade": false,
     "grade_id": "cell-66fb150dd2e509a7",
     "locked": true,
     "schema_version": 1,
     "solution": false
    }
   },
   "source": [
    "## Question 2.\n",
    "Using the code, create 100,000 words of 10 characters each.\n"
   ]
  },
  {
   "cell_type": "code",
   "execution_count": 270,
   "metadata": {
    "deletable": false,
    "nbgrader": {
     "checksum": "b9d2f1faad23eecd6f3691968bb4e455",
     "grade": true,
     "grade_id": "cell-234b1e83c871ddc7",
     "locked": false,
     "points": 0,
     "schema_version": 1,
     "solution": true
    }
   },
   "outputs": [
    {
     "data": {
      "text/plain": [
       "['wcvmximgcj',\n",
       " 'gfgwkgdgcr',\n",
       " 'ndrkvmguwt',\n",
       " 'ubxxsoblzx',\n",
       " 'kuhgqypgac',\n",
       " 'pysdmfkhwo']"
      ]
     },
     "execution_count": 270,
     "metadata": {},
     "output_type": "execute_result"
    }
   ],
   "source": [
    "wordBank = []\n",
    "N = 100000\n",
    "\n",
    "for i in range(N):\n",
    "    word = randomword(10)\n",
    "    wordBank.append(word)\n",
    "    \n",
    "#peek\n",
    "wordBank[:6]"
   ]
  },
  {
   "cell_type": "markdown",
   "metadata": {
    "deletable": false,
    "editable": false,
    "nbgrader": {
     "checksum": "190e7fdc00fc311f5ff32a390fff1ca4",
     "grade": false,
     "grade_id": "cell-2fbadca52cec7230",
     "locked": true,
     "schema_version": 1,
     "solution": false
    }
   },
   "source": [
    "## Question 3.\n",
    "\n",
    "Create four chained hash-tables with 5000 slots."
   ]
  },
  {
   "cell_type": "code",
   "execution_count": 271,
   "metadata": {
    "deletable": false,
    "nbgrader": {
     "checksum": "0d1473300ae336ceb57d11687ab3ec0a",
     "grade": true,
     "grade_id": "cell-2dabefc41493ec16",
     "locked": false,
     "points": 0,
     "schema_version": 1,
     "solution": true
    }
   },
   "outputs": [],
   "source": [
    "# create a list of four chained hash-tables\n",
    "\n",
    "def list_of_hash_tables(n_Ts, n_slots):\n",
    "    h_Ts = []\n",
    "    for i in range(n_Ts):\n",
    "        h_T = empty_hash_table(n_slots)\n",
    "        h_Ts.append(h_T)\n",
    "    return h_Ts\n",
    "\n",
    "h_Ts = list_of_hash_tables(4, 5000)\n"
   ]
  },
  {
   "cell_type": "markdown",
   "metadata": {
    "deletable": false,
    "editable": false,
    "nbgrader": {
     "checksum": "c3d147917ae237a6dc75eddab48dbaa6",
     "grade": false,
     "grade_id": "cell-cc2e6d00330e691e",
     "locked": true,
     "schema_version": 1,
     "solution": false
    }
   },
   "source": [
    "## Question 4.\n",
    "\n",
    "Store all the words in each chained hash table using each of the different hash functions."
   ]
  },
  {
   "cell_type": "code",
   "execution_count": 272,
   "metadata": {
    "deletable": false,
    "nbgrader": {
     "checksum": "af209dceb17bf5f8d9fadf0808855f79",
     "grade": true,
     "grade_id": "cell-8a08ade8d45590a7",
     "locked": false,
     "points": 0,
     "schema_version": 1,
     "solution": true
    }
   },
   "outputs": [],
   "source": [
    "h_fs = [hash_str1, hash_str2, hash_str3, hash_str4]\n",
    "\n",
    "# reset list of hash tables to avoid runtime duplications\n",
    "h_Ts = list_of_hash_tables(4, 5000)\n",
    "\n",
    "# store all words in each of the four chained hash table\n",
    "\n",
    "for i in range(4):\n",
    "    for j in range(len(wordBank)):\n",
    "        h_Ts[i] = add_to_hash_table(h_Ts[i], wordBank[j], h_fs[i])\n",
    "        \n"
   ]
  },
  {
   "cell_type": "markdown",
   "metadata": {
    "deletable": false,
    "editable": false,
    "nbgrader": {
     "checksum": "858437d142a66b825fb0bebdb1c4d9fe",
     "grade": false,
     "grade_id": "cell-da2c8b42618fbde4",
     "locked": true,
     "schema_version": 1,
     "solution": false
    }
   },
   "source": [
    "## Question 5.\n",
    "\n",
    "Measure the number of collisions for each hash function."
   ]
  },
  {
   "cell_type": "code",
   "execution_count": 273,
   "metadata": {
    "deletable": false,
    "nbgrader": {
     "checksum": "156f57bc1c6c1a3e10ca1804aa205099",
     "grade": true,
     "grade_id": "cell-a968f9e14a0416c4",
     "locked": false,
     "points": 0,
     "schema_version": 1,
     "solution": true
    }
   },
   "outputs": [
    {
     "name": "stdout",
     "output_type": "stream",
     "text": [
      "Hash table 1 of 5,000 slots has 170 collisions.\n",
      "Hash table 2 of 5,000 slots has 32 collisions.\n",
      "Hash table 3 of 5,000 slots has 5000 collisions.\n",
      "Hash table 4 of 5,000 slots has 26 collisions.\n"
     ]
    }
   ],
   "source": [
    "# create a counter of collisions\n",
    "# counter the number of collisions by slot\n",
    "    # e.g. there is 1 collison if more than 1 item is stored in a slot list; \n",
    "    \n",
    "def collision_counter(hash_table):\n",
    "    counter = 0\n",
    "    for i in range(len(hash_table)):\n",
    "        if len(hash_table[i]) > 1: \n",
    "            counter += 1            \n",
    "    return counter\n",
    "\n",
    "            \n",
    "hash_collisions = []\n",
    "\n",
    "for i in range(4):\n",
    "    c = collision_counter(h_Ts[i])\n",
    "    hash_collisions.append(c)\n",
    "    print(f'Hash table {i+1} of 5,000 slots has {c} collisions.')\n",
    "    # for hash_str 1 - 4\n",
    "\n"
   ]
  },
  {
   "cell_type": "markdown",
   "metadata": {
    "deletable": false,
    "editable": false,
    "nbgrader": {
     "checksum": "ef47cabb10897284ca375490003e6b3d",
     "grade": false,
     "grade_id": "cell-435ba1cfb2d80447",
     "locked": true,
     "schema_version": 1,
     "solution": false
    }
   },
   "source": [
    "## Question 6.\n",
    "\n",
    "For each of the hash functions, how many elements are in a bucket on average (if it is not empty)?\n"
   ]
  },
  {
   "cell_type": "code",
   "execution_count": 274,
   "metadata": {
    "deletable": false,
    "nbgrader": {
     "checksum": "9f77d346c6e5ffbfb92ac0707c3c1d72",
     "grade": true,
     "grade_id": "cell-b4052afa2ee7c702",
     "locked": false,
     "points": 0,
     "schema_version": 1,
     "solution": true
    }
   },
   "outputs": [
    {
     "name": "stdout",
     "output_type": "stream",
     "text": [
      "Hash table 1 of 5,000 slots has 549 elements in a slot on average.\n",
      "Hash table 2 of 5,000 slots has 3125 elements in a slot on average.\n",
      "Hash table 3 of 5,000 slots has 20 elements in a slot on average.\n",
      "Hash table 4 of 5,000 slots has 3846 elements in a slot on average.\n"
     ]
    }
   ],
   "source": [
    "# average number of elements = len(wordBank) / number of non-empty slots\n",
    "def nonEmpty_counter(hash_table):\n",
    "    counter = 0\n",
    "    for i in range(len(hash_table)):\n",
    "        if len(hash_table[i]) > 0: \n",
    "            counter += 1            \n",
    "    return counter\n",
    "\n",
    "for i in range(4):\n",
    "    nE = nonEmpty_counter(h_Ts[i])\n",
    "    ave_elems = int(len(wordBank)/nE)  \n",
    "    print(f'Hash table {i+1} of 5,000 slots has {ave_elems} elements in a slot on average.')\n"
   ]
  },
  {
   "cell_type": "markdown",
   "metadata": {
    "deletable": false,
    "editable": false,
    "nbgrader": {
     "checksum": "aaeb9bd55b7a86f8bc8079cbb7f8bca4",
     "grade": false,
     "grade_id": "cell-b86aef4dd22c236c",
     "locked": true,
     "schema_version": 1,
     "solution": false
    }
   },
   "source": [
    "## Question 7.\n",
    "\n",
    "Time how long it takes to find elements that are in each hash table.\n"
   ]
  },
  {
   "cell_type": "code",
   "execution_count": 275,
   "metadata": {
    "deletable": false,
    "nbgrader": {
     "checksum": "23927c46b8067f49ef10e9b4183f7680",
     "grade": true,
     "grade_id": "cell-0605f7dec7128414",
     "locked": false,
     "points": 0,
     "schema_version": 1,
     "solution": true
    }
   },
   "outputs": [
    {
     "name": "stdout",
     "output_type": "stream",
     "text": [
      "Hash table 1 takes 1.078e-05s on average to find an element.\n",
      "Hash table 2 takes 2.327e-05s on average to find an element.\n",
      "Hash table 3 takes 2.29e-06s on average to find an element.\n",
      "Hash table 4 takes 3.675e-05s on average to find an element.\n"
     ]
    }
   ],
   "source": [
    "import timeit, functools\n",
    "import numpy as np\n",
    "\n",
    "\n",
    "# generate time for finding 1 element randomly picked from wordBank for 4 hash functions\n",
    "def find_one_element():\n",
    "    # randomly pick an element from wordBank\n",
    "    elem = wordBank[random.randint(0,99999)]\n",
    "\n",
    "    # create a timer\n",
    "\n",
    "\n",
    "    # store the time of finding 1 element in each of four hash tables\n",
    "    T_findOne = []\n",
    "\n",
    "    for i in range(4):\n",
    "        h_T = h_Ts[i]\n",
    "        h_f = h_fs[i]\n",
    "\n",
    "        tmr = timeit.Timer(functools.partial(contains, h_T, elem, h_f))\n",
    "        t = tmr.timeit(number=100)/100\n",
    "\n",
    "        T_findOne.append(t)\n",
    "        \n",
    "    return T_findOne\n",
    "\n",
    "\n",
    "# find the average case given different targer elements\n",
    "sum_Ts = [0,0,0,0]\n",
    "N = 100\n",
    "\n",
    "for n in range(N):\n",
    "    T = find_one_element()\n",
    "    for i in range(4):\n",
    "        sum_Ts[i] += T[i]\n",
    "\n",
    "sum_Ts\n",
    "\n",
    "# present results\n",
    "for i in range(4):\n",
    "    ave_t = np.around(sum_Ts[i]/N, 8)\n",
    "    print(f'Hash table {i+1} takes {ave_t}s on average to find an element.')\n",
    "    \n",
    "    "
   ]
  },
  {
   "cell_type": "markdown",
   "metadata": {
    "deletable": false,
    "editable": false,
    "nbgrader": {
     "checksum": "b051093ca9a2faf1658679380bf29033",
     "grade": false,
     "grade_id": "cell-75db2c2e62cec090",
     "locked": true,
     "schema_version": 1,
     "solution": false
    }
   },
   "source": [
    "## Question 8.\n",
    "For each hash table, time how long it takes to find 10,000 elements that have not been stored."
   ]
  },
  {
   "cell_type": "code",
   "execution_count": 276,
   "metadata": {
    "collapsed": true,
    "deletable": false,
    "nbgrader": {
     "checksum": "99b2fa8c88000c2143cb00fac1f6aa5f",
     "grade": true,
     "grade_id": "cell-b846b45e1b98ae59",
     "locked": false,
     "points": 0,
     "schema_version": 1,
     "solution": true
    }
   },
   "outputs": [],
   "source": [
    "# store the first 90,000 elements of the four chained hash table\n",
    "# leaving 10,000 unstored\n",
    "\n",
    "for i in range(4):\n",
    "    for j in range(90000):\n",
    "        h_Ts[i] = add_to_hash_table(h_Ts[i], wordBank[j], h_fs[i])\n",
    "        "
   ]
  },
  {
   "cell_type": "code",
   "execution_count": 277,
   "metadata": {
    "collapsed": true
   },
   "outputs": [],
   "source": [
    "# next, for each of the four hash function\n",
    "# pop a word from the remaining of wordBank[90000:], \n",
    "# check if the word is contained in corresponding hash table\n",
    "\n",
    "def find_remaining(rest_elems,hash_table,hash_function ):\n",
    "    N = len(rest_elems)\n",
    "    \n",
    "    while rest_elems:\n",
    "        item = rest_elems.pop()\n",
    "        contains(hash_table, item, hash_function)    "
   ]
  },
  {
   "cell_type": "code",
   "execution_count": 278,
   "metadata": {},
   "outputs": [
    {
     "name": "stdout",
     "output_type": "stream",
     "text": [
      "Hash table 1 takes 0.005607s to find 10,000 element that have not been stored.\n",
      "Hash table 2 takes 0.013189s to find 10,000 element that have not been stored.\n",
      "Hash table 3 takes 0.00036s to find 10,000 element that have not been stored.\n",
      "Hash table 4 takes 0.016578s to find 10,000 element that have not been stored.\n"
     ]
    }
   ],
   "source": [
    "# time for all four hash functions\n",
    "for i in range(4):\n",
    "    hash_table = h_Ts[i]\n",
    "    hash_function = h_fs[i]\n",
    "    rest_elems = wordBank[90000:]\n",
    "    \n",
    "    tmr = timeit.Timer(functools.partial(find_remaining,rest_elems,hash_table,hash_function))\n",
    "    t = np.around(tmr.timeit(number=100)/100, 6)\n",
    "    print(f'Hash table {i+1} takes {t}s to find 10,000 element that have not been stored.')\n",
    "    \n",
    "    "
   ]
  },
  {
   "cell_type": "code",
   "execution_count": null,
   "metadata": {
    "collapsed": true
   },
   "outputs": [],
   "source": []
  }
 ],
 "metadata": {
  "kernelspec": {
   "display_name": "Python 3",
   "language": "python",
   "name": "python3"
  },
  "language_info": {
   "codemirror_mode": {
    "name": "ipython",
    "version": 3
   },
   "file_extension": ".py",
   "mimetype": "text/x-python",
   "name": "python",
   "nbconvert_exporter": "python",
   "pygments_lexer": "ipython3",
   "version": "3.6.9"
  }
 },
 "nbformat": 4,
 "nbformat_minor": 2
}
