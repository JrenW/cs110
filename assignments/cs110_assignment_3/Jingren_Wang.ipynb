{
 "cells": [
  {
   "cell_type": "markdown",
   "metadata": {},
   "source": [
    "Before you turn this problem in, make sure everything runs as expected. First, **restart the kernel** (in the menubar, select Kernel$\\rightarrow$Restart) and then **run all cells** (in the menubar, select Cell$\\rightarrow$Run All).\n",
    "\n",
    "Make sure you fill in any place that says `YOUR CODE HERE` or \"YOUR ANSWER HERE\", as well as your name and collaborators below:"
   ]
  },
  {
   "cell_type": "code",
   "execution_count": 60,
   "metadata": {
    "collapsed": true
   },
   "outputs": [],
   "source": [
    "NAME = \"Jingren Wang\"\n",
    "COLLABORATORS = \"N.A.\""
   ]
  },
  {
   "cell_type": "markdown",
   "metadata": {},
   "source": [
    "---"
   ]
  },
  {
   "cell_type": "markdown",
   "metadata": {},
   "source": [
    "# CS110 Fall 2019 - Assignment 3\n",
    "## Counting Bloom Filters \n",
    "\n",
    "### *Assignment Overview*\n",
    "For this assignment, you need to research an introduction to Counting Bloom Filters (CBFs),\n",
    "which are data structures that extend the standard Bloom Filters. You will design and\n",
    "implement in Python a set of CBFs initialized at a given false positive rate, and will need to\n",
    "summarize your findings in a report.\n",
    "Your task scheduler receives a list of tasks to be performed in a given amount of time.\n",
    "\n",
    "\n",
    "### *Intended Style*\n",
    "Your report needs to be written in the style of a chapter from the Cormen textbook (i.e.,\n",
    "exhibiting academic rigor and clear explanations) or a Wikipedia page on the subject (i.e., a\n",
    "general overview on a topic that will be peer-reviewed by the world-wide community). Thus,\n",
    "your report needs to explain very well the concepts CBFs, details on your CBFs design, analysis\n",
    "of your implementation and experimental results. Make sure you properly cite your sources of information.\n",
    "\n",
    "### *Key Audience*\n",
    "Your report must explain and demonstrate CBFs well to an academic and professional audience, from beginners to experts on the subject if Bloom filters. Assignment specific Tasks. Each of the questions below will be graded on the CS110 LOs included inside square brackets:"
   ]
  },
  {
   "cell_type": "markdown",
   "metadata": {},
   "source": [
    "### Part 1: Attendance Check\n",
    "**[#responsibility] [appropriate LO for the make-up work]**\n",
    "Take a screenshot of your CS110 dashboard on Forum where the following is visible:\n",
    "* your name.\n",
    "* your absences for the course have been set to excused up to session 7.2(inclusively).\n",
    "\n",
    "Submit this screenshot as a PNG file on your Python or Jupyter notebook."
   ]
  },
  {
   "cell_type": "markdown",
   "metadata": {},
   "source": [
    "![attendance check](attendance_check.png)"
   ]
  },
  {
   "cell_type": "markdown",
   "metadata": {},
   "source": [
    "### Part 2: Textbook-style Introduction to CBFs\n",
    "**[#ComputationalSolutions, #DataStructures, #ComplexityAnalysis]** \n",
    "Give an overview of the functionality of CBFs, listing all its operations (i.e., from initialize to indexing keys with a given false-positive rate). Give a few examples of computational applications that, in your consideration, can benefit from using CBFs. For every computational application, give meaningful explanations as to why it is a good candidate for CBF."
   ]
  },
  {
   "cell_type": "markdown",
   "metadata": {},
   "source": [
    "### Chapter Overview\n",
    "\n",
    "This chapter introduces Counting Bloom Filters (CBFs), a new type of probabilistic data structure that supports fast membership lookup in a set. A narrative roadmap starts with the basic functionalities of standard Bloom Filters (BFs), its apparent advantages and lack of deletion, then gradually builds up key intuitions in CBFs, its key functions, math relations and time & space complexity. Applications of CBFs are given at the end."
   ]
  },
  {
   "cell_type": "markdown",
   "metadata": {},
   "source": [
    "### 2.1 Sunday picnic and scatterbrained mom\n",
    "\n",
    "#### 2.1.1. A Story\n",
    "\n",
    "         Today is a cloud-free Sunday, a mid-autumn delight. Leaves turning, birds chirping, life reaping as it is. Your family has decided to go for a picnic in the woods, and your little sister was too excited to sleep last night. You, a third-year CS student, pray to quench every single neuron firing python haystacks for the past five hours, once you lie yourself by the breezing river bank. Everyone seems to be red and ready, except your mother. \n",
    "\n",
    "        It is the forth time your mom shout out 'I am ready!', and you are not truly thrilled. For decades you love your mom so much, well, perhaps less on the scatterbrained half. Now you are sitting still, diligently digging items in-and-out of your mom's scarlet tote bag, a Christmas sack capable of devouring everything:\n",
    "        \n",
    "        'Hang on! where's my sunglasses?'\n",
    "        'let me check....'\n",
    "        \n",
    "       (you pull out an item from the bottomless bag, see if it's sunglasses, \n",
    "       nope, then put it back.\n",
    "       now another, check, not really, put back...\n",
    "       \n",
    "        'it's in your bag, mom.'\n",
    "        'Ah, of course.' \n",
    "  \n",
    "        'Did you see my Chamomile oil lip balm?'\n",
    "        'checking...'\n",
    "         (two minutes passed)\n",
    "        'Just checked your bag, you got it.'\n",
    "        'Sure.'\n",
    "      \n",
    "        'So, did I pack my pink-spotty napkins?'\n",
    "        'wait...yup it's here.'\n",
    "        'perfect.'\n",
    "        'and selfie stick? also inside?'\n",
    "        'hmmm let's see...\n",
    "        '...nope, not yet.'\n",
    "        'Oh lord, can't forget that one.'\n",
    "        ...\n",
    "        \n",
    "        'Awesome, I'm ready! Let's go guys!'\n",
    "        'Are you, ready?' you ask, 'like 'ready ready'?'\n",
    "        'Yes, what else in the world could I have forgotten?'\n",
    "        'well, then, let's head ...'\n",
    "        'Oh gosh! My iphone!'\n",
    "        \n",
    "     So, your mom whirls upstairs once more, this time for her iphone. However your hand just touched on a glass screen at the bottom of her tote bag: again, the item she's looking for was already there. \n",
    "         "
   ]
  },
  {
   "cell_type": "markdown",
   "metadata": {},
   "source": [
    "**Here is a question for you:**\n",
    "\n",
    "*As a CS student, how could you find a smarter way to soothe your mom's worriness about forgetting an important personal item in her giant tote bag?* \n",
    "\n",
    "#### 2.1.2. Common data structures \n",
    "So far we have been quite satisfied at problem solving with arrays and lists, which are decent data structures that support item addition and lookup. However, as you have experienced from checking your mom's bottomless tote bag, the simple idea of going through 'tonnes' of items one-by-one fails blatantly as you will surely end with eye rashes and muscle strains. As we have learnt in previous chapters, the time complexity of checking an item in list takes O(n), which is far from efficiency. Moreover, there isn't a nicely-indexed 'list' of containers chained inside your mom's bag, so you cannot really retrieve her Maybelline lipstick by calling 'item 5'.\n",
    "\n",
    "And here comes your new proposal: hash tables. \n",
    "\n",
    "Indeed, using hash tables would release you from the brute-force chore of item lookup. You may find helpful pulling out a piece of notebook paper, and record down each item's name acronym as your mom put it into the tote bag for the first time. Later on, as your mom ask for her 'lavendar-scented deoderant', you just convert the value 'lavendar-scented deoderant' into your self-designed hash function to get the correct hash key, say 'LVD_DEOD', and simply check if the key is recorded on your paper, all within a minute. A query search in hash table takes O(1), which is much better than O(n).\n",
    "\n",
    "Next, as you reflect on the hash table structure, you realize that you still need the whole tote bag by your side, which takes much space, and wonder if there exist more space-efficient algorithms. On the other hand, as you closely observed your dear mom's whirling item-search behavior, you found that she would not even use 70% of all the items in tote bag anyways once out on a picnic. So, instead of a 100% guarantee achieved by lists and hash table, offering her a probabilistic answer that 'the item of interest is most likely there' will suffice, chances are that you can get away with falsely reporing an item that is not in the bag as 7 out of 10 times you mom would not check. \n",
    "\n",
    "Fortunately, there is a standard type of probabilistic data stucture called Bloom Filter (BF) which cousatisfactorily fulfill the core need of your mom's query.\n"
   ]
  },
  {
   "cell_type": "markdown",
   "metadata": {},
   "source": [
    "### 2.2 What is a Bloom Filter (BF)? "
   ]
  },
  {
   "cell_type": "markdown",
   "metadata": {},
   "source": [
    "#### 2.2.1 Definition\n",
    "         A Bloom Filter (BF) is a space-saving, time-efficient data structure that supports fast query on if an item is in a set. To be precise, Bloom Filters is a probabilistic data structure that returns either a 'possibly inside' or an 'absolutely not inside' response. In other words, the Bloom Filter will produce some false positives (i.e. report item found when item does not exist in set) due to hash collisions, but zero false negatives (i.e. report item not found when item exists in set) as any detection of a zero bit in hashed slot would return the query with a false.\n",
    "\n",
    "The Bloom Filter properties would be a good fit to solve your mom's worriness as: \n",
    "1. it is reasonable to bet on some small false positives in exchange of a more efficient search over repetitive requests from your mom, since she will likely not retrieve the item of interest immediately for use, and still reporting an 'item found' has an extra benefit of soothing her nerves;<br>\n",
    "<br>\n",
    "2. it would have been a nightmare if false negatives are not prevented in the probabilistic setting : say you are not as attentive in item lookup and missed the item of interest while looping through all items or doing hash table checks, and report 'item not found' to your mom. Then your dear mother would initiate a blanket search through out the entire house to hunt down the 'item' for the next three hours, when in fact it is in her tote bag. You may then expect your family to reach the picnic site by sunset if not in moonlight.\n",
    "\n",
    "The best thing about BF is that, unlike lists and hash tables, it does not store any items at all: it is simply a ledger that registrates everything added to the set, so highly space-efficient. Therefore, you could implement a BF with just a piece of paper without caring about the actual items or their arrangements in the tote bag!\n",
    "\n",
    "So far so good. Let's check out how BF does the Jedi trick."
   ]
  },
  {
   "cell_type": "markdown",
   "metadata": {},
   "source": [
    "#### 2.2.2 Basic functions\n",
    "\n",
    "In computer science, BFs are implemented as a bit array, that is an indexed list of 0s and 1s. The total number of bits used in a BF, denoted by *m*, is called the length of BF. \n",
    "\n",
    "Just like hash tables, BFs also use hash functions to convert an item value into a hash key, which is mapped onto a index in the BF bit array. On top of that, BFs seldomly use one hash function, but k hash functions to introduce information redundancy in recording an item's existance. \n",
    "\n",
    "    For example, given a 8-bit BF (*m* = 8), the same item 'hair comb' is hashed by first hash function H1 into index 3, by second hash funciton H2 into index 5, and by a third hash function H3 into index 6. Then the item 'hair comb' will be marked as existing in the set jointly by slot 3, 5, 6, in other words, slot 3,5 and 6 cocurrently witnessed 'hair comb's existance. Later, if anyone asserts 'hair comb's existance, this assertion can only be co-validated by all three slots.\n",
    "    \n",
    "Exactly how does BF do this joint marking? Let's talk about BF's basic functions:  "
   ]
  },
  {
   "cell_type": "markdown",
   "metadata": {},
   "source": [
    "BFs support three basic functions: BF initializaiton, insertion and item lookup: \n",
    "\n",
    "    let's say we decide to use a 10-bit BF, with 3 independent hash functions. To implement the BF without your computer by hand is easy: you take out a piece of loose leaf paper and your hole punch from school bag, and draw some boxes to indicate bit array slots ( as a cs student, you have grown the good habit of 0 indexing). That's all you need.\n",
    "    \n",
    "<img src=\"paper_hole_punch.png\" width=\"400\" height='200'>\n",
    "\n",
    "#### *1. Initialization*\n",
    "The bit array is always initialized at zeros:  \n",
    "\n",
    "<img src=\"BF_initialization.png\" width=\"400\" height='200'>\n",
    "\n",
    "which just means that you draw out some red boxes on the paper margin to indicate bit slots:\n",
    "\n",
    "<img src=\"hole_initial.png\" width=\"400\" height='200'>\n",
    "\n",
    " \n",
    "#### *2. Insertion*\n",
    "When an item is added, the item value is converted by all selected hash functions, each mapped onto an indexed position. Good hash functions will have a uniform distribution over its probability of hashing into each bit-array slot, and different hash functions should ideal return non-repetitive hash keys.\n",
    "\n",
    "Here, let's say we want to add the item 'wallet' into the BF, and Hash_1(wallet) = 2,  Hash_2(wallet) = 8, Hash_3(wallet) = 5, then, we add 1 to each of the corresponding values in slot 2, 8, 5 of the BF array. \n",
    "<img src=\"BF_add_wallet.png\" width=\"400\" height='200'>\n",
    "\n",
    "Practically, you simply punch a hole onto each of the red square 2, 8, and 5 on your paper margin:\n",
    "\n",
    "<img src=\"hole_add_wallet.png\" width=\"500\" height='250'>\n",
    "\n",
    "\n",
    "Next, we add a second item 'scarf', and our three hash functions return index 0, 5, 6 respectively. \n",
    "\n",
    "<img src=\"BF_add_scarf.png\" width=\"400\" height='200'>\n",
    "\n",
    "\n",
    "**Notice** that the same slot 5 is registered twice by both added items, however BFs requires that any bit that has turned from 0 to 1 cannot reverse back to 0. Therefore subsequent hashing on a slot that is already filled by 1 is going to do nothing on the bit value.\n",
    "This one-directional rule also implies that a slot can only be zero if it is never being hashed into. \n",
    "\n",
    "This is easily understood by looking at your paper margin:\n",
    "\n",
    "<p style=\"text-align: center; \">***As you punch slot 5  for the second time, a hole is still a hole!***</p>\n",
    "<img src=\"hole_add_scarf.png\" width=\"500\" height='250'>\n",
    "\n",
    "However, for all other slots that do not have a hole yet, it is obvious that no punch has been applied, implying that a slot can only be zero if it is never being hashed into.  \n",
    "\n",
    "#### *3. Lookup*\n",
    "Now, the BF is going to do its intended job of a fast check if an queried item exists in the set (or in your case, your mom's bottomless tote bag)\n",
    "\n",
    "To do so, the algorithm first take in the queried item, collect all hash keys by passing through the requested item value into each of the hash functions, then check if any of the indices contain zeros. If a zero is found, we can conclude that the item is definitely NOT inside the set, for the same reasoning in addition (zeros represent un-hashed terretories). \n",
    "\n",
    "<img src=\"napkin_NotIn.png\" width=\"400\" height='200'>\n",
    "\n",
    "In your punch hole implementation, you simple check if any hashed slot does not have a hole in order to falsify an item's possible existance. For example, we can be 100% sure that 'napkin' is NOT inside mom's tote bag because slot 9 has not been punched a hole yet. \n",
    "\n",
    "<img src=\"hole_napkin_NotIn.png\" width=\"500\" height='250'>\n",
    "\n",
    "\n",
    "On the other hand, if all hashed indices return 1s, it does not necessarily mean that the item is inside.Let's look at a pair of examples:\n",
    "\n",
    "- first, a query on 'scarf' would return a true positive (that is, when all checked slots already have a hole on your paper margin):\n",
    "\n",
    "<img src=\"scarf_inside.png\" width=\"400\" height='200'>\n",
    "\n",
    "- but, it is possible that another new item, nail brush, which is hashed into 2,5 and 6, would 'fake' its positive existance by chance as the combination of hashed slots contain no zeros. This results in a case of false positive.\n",
    "\n",
    "<img src=\"nail_brush_falsep.png\" width=\"400\" height='200'>\n",
    "\n",
    "here, you are misled by the hole in slot 5 (which is punched by 'scarf' and 'wallet') into believing that 'nail brush', who shares a punch in slot 5 as well (due to hash collisions), is also inside the tote bag.\n",
    "\n",
    "<img src=\"hole_nail_brush_falsep.png\" width=\"500\" height='250'>\n",
    "\n",
    "Although we have argued that reporing some false positives does not matter much as long as we can make our mama worry-free, as chances are that she will not retrieve those queried items immediately, if not forever. However, we would still want to lower the false positive rate, FPR, as far as we can. Imagine how upset mom would become when she found out that her nail brush is not in the bag at the picnic: *She would lost all her fun glittering her little toes in the California sunshine!*\n",
    "\n",
    "Therefore, it is worthwhile investigating the mathematical relationships of key variables on FPR."
   ]
  },
  {
   "cell_type": "markdown",
   "metadata": {},
   "source": [
    "#### 2.2.3  Mathematical relations among key variables"
   ]
  },
  {
   "cell_type": "markdown",
   "metadata": {},
   "source": [
    "To control BF's false positive rate (FPR) we need to explicitly write out its functional relationships with key variables such as\n",
    "\n",
    "    1) the length of bit array, m;  \n",
    "    2) the number of hash functions k;\n",
    "    3) total number of items added to the set, n;\n",
    "  \n",
    "Lets' denote the false positive rate as a probability *p*. Assume that hash functions are approximately independent from each other and each preserves a uniform distribution of hashing into 1 of m bit array slots, then \n",
    "- the expected probability that 1 of m slots is hashed into by 1 of k hash functions is $\\frac{1}{m}$, i.e. the probability of marking a 1; \n",
    "- which means the probability of a bit staying zero is $1-\\frac{1}{m}$;\n",
    "- we have k hash functions, the joint probability of a single bit not being hashed into after k hashing attempts upon one insertion is  $(1-\\frac{1}{m})^k$;\n",
    "- and the probability of a single bit to stay zero after n insertions would be  $(1-\\frac{1}{m})^{kn}$;\n",
    "- since a bit can only be 0 or 1, the corresponding probability of a single bit to become 1 after n insertions would be $1-(1-\\frac{1}{m})^{kn}$;\n",
    "- now if we wonder if an item is NOT in set after n insertions, we would hash the new items k times through k different hash functions, each with a probability of $1-(1-\\frac{1}{m})^{kn}$ of becoming 1, and compute the joint probability of all k bits hashed into are already set to 1;\n",
    "- BF will falsely return a 'likely inside' if all k checked slots contain 1s, and this FPR probability is expressed as $(1-(1-\\frac{1}{m})^{kn})^k$, \n",
    "\n",
    "<p style=\"text-align: center; \">\n",
    "$(1-(1-\\frac{1}{m})^{kn})^k \\approx (1-e^{-kn/m})^k$ </p>\n",
    "\n",
    "('Bloom Filters', n.d.)\n",
    "\n",
    "From the mathematical relations, we would expect the false positive rate to decrease as we \n",
    "\n",
    "- increase m (the length of bit array) and \n",
    "- decrease n (the number of inserted items)\n",
    "    \n",
    "The relationship between false positive rate and number of hash functions is more complex:  as k increases, the inner term $e^{-kn/m}$ tends to zero, i.e. the term $1-e^{-kn/m}$ tends to increase to 1 (but always less than 1). However, raising a base less than 1 to a large power (k) would result in an overall decrease of the false positive rate. So the combined tug-of-war effects of k will determine the behavior of FPR, given constant $n$ and $m$.\n",
    "\n",
    "This motivate us to find a general formula of an optimum number of hash functions that minimize FPR at any given set of m and n. \n",
    "\n",
    "According to Pagh, Pagh & Rao (2005), the optimal number is given by\n",
    "<p style=\"text-align: center; \">\n",
    "$k = \\frac{m}{n} (\\ln{2})^2$   </p> \n",
    "\n",
    "remember that k must be a positive integer.  \n",
    "<br>\n",
    "Next, if we plug in the optimal number of hash functions back to the maths expression of FPR, we get the optimal (minimum) false positive rate we can get at given m and n: \n",
    "\n",
    "<p style=\"text-align: center; \">\n",
    "$\\ln{p} = -\\frac{m}{n}(\\ln{2})^2$ </p>\n",
    "\n",
    "rearrange the terms, we can also get the optimal length of bit array as \n",
    "\n",
    "<p style=\"text-align: center; \">\n",
    "$m =  -\\frac{n\\ln{p}}{(\\ln{2})^2}$ </p>\n",
    "\n",
    "if we divide both sides by n,we will get the optimized, average number of bits shared to one inserted item: \n",
    "\n",
    "<p style=\"text-align: center; \">\n",
    "$\\frac{m}{n}=  -\\frac{\\ln{p}}{(\\ln{2})^2}$ </p>\n",
    "\n",
    "now, if we substitute $\\frac{m}{n}$ back to $k = \\frac{m}{n} (\\ln{2})^2$, we get the direct relation bewteen the number of hash fucntions, k, and the false positive rate: \n",
    "\n",
    "<p style=\"text-align: center; \">\n",
    "$k = \\frac{\\ln{p}}{\\ln2} = -log_2p$ </p>\n",
    "\n",
    "These formula are very handy in designing the BF structure by careful choices of m, n and k, to approximately achieve a target low false positive rate."
   ]
  },
  {
   "cell_type": "markdown",
   "metadata": {},
   "source": [
    "#### 2.2.4 Time and space complexity\n",
    "\n",
    "BFs achieves a high efficiency in allocation of both time and space resources. For a BF of k hash funcitons:\n",
    "\n",
    "- BFs only does k comparison of hash key and bit values, therefore has a time complexity of O(k), where k is a constant much smaller than the length of bit array m, and the total number of inserts n, which outperforms any array-based indexing methods;\n",
    "- although hash tables is more superior in time complexity at O(1), it uses up much more space, O(n), than BFs, who only uses O(m) where m is normally a small integer. So BFs are more time efficient."
   ]
  },
  {
   "cell_type": "markdown",
   "metadata": {},
   "source": [
    "#### 2.2.5 A request of deletion\n",
    "\n",
    "Everything looks good so far, Bloom Filters might just be the ideal data structure we want to implement for utmost efficiency. However, here comes a new problem.\n",
    "\n",
    "    Your mom asked you to check if she had put her waterlily wallet in the bag, you got the request, computed all hash values, 2, 8, and 5, sure, all three indices return 1s, so you reported 'yes it's inside.' However, mom shook her head and sigh: 'Oh no that was my petty purse for grocery shopping only, not enough money inside to cover our picnic trip. Please help me to take it out.' \n",
    "\n",
    "This is a new type of request, and you did not think much at the beginning. You conceive of deletion as the reverse of addition, so you believe that, insteading of flipping 0s to 1s, you could flip 1s to 0s, and the item is removed from the bag:\n",
    "\n",
    "<img src=\"scarf_remove.png\" width=\"400\" height='200'>\n",
    "\n",
    "However, this deletion has negative impact on future queries. Let's say your mom had been really forgetful and asked you if she took her scarf for the second time. As you follow the lookup routine, you would surprisingly find out that the scarf is 'gone' when in fact it is still in the bag:\n",
    "\n",
    "<img src=\"false_negative.png\" width=\"400\" height='200'>\n",
    "\n",
    "after resetting all hashed indices of the removed item to zero, slot 5, which has been hashed in twice by 'scarf' and 'wallet', lost its validation capacity for proving 'scarf's existance. Therefore, the BF property of impossible false negative is violated. So in general, BF always refuse a deletion request (does not support that function at all).\n",
    "\n",
    "But you should never refuse your dear mom's request: \n",
    "\n",
    "       Imagine that your neurotic mother is anticipating to take back her grocery wallet and put in a new one with credit card so she can buy you and your sister quality toys along the trip. But you just shrug your shoulders and throw back your line of punches:\n",
    "       \n",
    "       \"Uh-uh, not an option mother. A hole is a hole, once punched in, never grows back. Don't you dare to mess up all my bloom filters!\"\n",
    "       \n",
    "<img src=\"punchline.png\" width=\"500\" height='250'>     \n",
    "\n",
    "Well, that was rough. \n",
    "\n",
    "It turns out that computer scientists also cannot put up with BF's lack of deletion, and they managed to do some genetic editing on BF to allow free deletion. "
   ]
  },
  {
   "cell_type": "markdown",
   "metadata": {},
   "source": [
    "### 2.3 Counting Bloom Filters (CBFs) saves the day "
   ]
  },
  {
   "cell_type": "markdown",
   "metadata": {},
   "source": [
    "#### 2.3.1 Definition\n",
    "\n",
    "      Counting Bloom Filters (CBFs) are essentially an extended branch of standard Bloom Filters family that supports item deletion. Rather than using a bit array, CBFs uses an array of counters, each hold some small, non-negative integers. Instead of setting a ceiling at 1 for every bit slot, CBFs use a 'counter' that increment itself by 1 each time the slot is hashed by a function for a new insertion, and decrement by 1 each time if the item is deleted. CBFs inherit most structures and properties from Bloom Filters, and is also efficient in time. However, unlike BFs that uses only m bits, CBFs suffer from waste of memory spaces even at small bit counts due to a sparse array with many zeros.\n",
    "      \n",
    "As you reflect on your punchline loophole, you reconceptualize the item registration process, and come up with an ingenious idea of 'match counting' instead of hole punching. The idea is very simple: Rather than making a permanent hole that is impossible to recover, why don't you fetch a bunch of idle match boxes from your dad's garage, empty the boxes and represent each hash as one match stick. Then, everytime a slot is hashed into, you add that match stick into the corresponding match box.\n",
    "\n",
    "<img src=\"five_match_sticks.png\" width=\"400\" height='200'>  \n",
    "\n",
    "#### 2.3.2 Key functions\n",
    "\n",
    "#### *1. Initialization*\n",
    "Same as BF, start with only zeros. However, be minded that this array is no longer a bit array, but a count array. In your conext, you would empty ten match boxes (that each has a limited capacity of storing, say, 5 matches) and align them on the table.\n",
    "\n",
    "<img src=\"match_initial.png\" width=\"560\" height='280'>  \n",
    "\n",
    "#### *2. Insertion*\n",
    "CBFs improve on BFs mainly in the way that added items are recorded on the ledger: if the same slot is hashed in twice over a temporal sequence, then the count increments to 2 instead of being capped at 1 in BF.\n",
    "\n",
    "Let's use the same toy example as in BF: first insert 'wallet', second insert 'scarf'\n",
    "\n",
    "<img src=\"BF_add_wallet.png\" width=\"400\" height='200'>\n",
    "\n",
    "<img src=\"CBF_add_scarf.png\" width=\"400\" height='200'>\n",
    "\n",
    "*Notice* here slot 5 records a 2 instead of 1, corresponding to 2 matches inside match box 5.\n",
    "\n",
    "<img src=\"match_addition.png\" width=\"500\" height='250'>  \n",
    "\n",
    "#### *3. Lookup*\n",
    "Due to the different recording rules, we now check if all hashed slots have values greater than zero (instead of just looking for 1s). In your match-box implementation, you simple check if all hashed match boxes still have matchsticks inside. If none of the boxes is empty, you may confidently report that the item is most likely inside the tote bag.\n",
    "\n",
    "Since the lookup time (access time) only depends on number of checked match boxes, which in turn depends only on the number of hash functions, k, you use to convert a query into counter index, the time complexity remains O(k), regardless of total number of items stored.\n",
    "\n",
    "**Case of true positive:**\n",
    "<img src=\"CBF_check_scarf.png\" width=\"400\" height='200'>\n",
    "<br>\n",
    "*matchbox equivalent:*\n",
    "<img src=\"match_scarfHere.png\" width=\"600\" height='300'>\n",
    "<br>\n",
    "**Case of true negative:**\n",
    "<img src=\"CBF_check_napkin.png\" width=\"400\" height='200'>\n",
    "*matchbox equivalent:*\n",
    "<img src=\"match_napkinNotHere.png\" width=\"600\" height='300'>\n",
    "\n",
    "<br>\n",
    "**Case of false positive:**\n",
    "<img src=\"CBF_check_nailBr.png\" width=\"400\" height='200'>\n",
    "<br>\n",
    "*matchbox equivalent:*\n",
    "<img src=\"match_nailbrushHere.png\" width=\"600\" height='300'>\n",
    "\n",
    "\n",
    "#### *4. Deletion*\n",
    "Here is what makes CBF most superior than BF: since every single hash is recorded by an increment of 1 on the CBF, i.e. the sum of all slot values must equal $n*k$ where $n$ is the number of items added and $k$ the number of hash functions used. This imply that each registration is independent and removing an item would not affect counts/records of other added items' existence status. The idea of independence is easily understood in the match-box analogy: Taking out one match stick which 'belongs' to 'wallet' would never make other sticks of other categories in the same match box disappear.\n",
    "\n",
    "<img src=\"still_sticks.png\" width=\"400\" height='200'>\n",
    "\n",
    "We can verify by current example of removing wallet from a two-item CBF:\n",
    "\n",
    "<img src=\"CBF_deletion.png\" width=\"400\" height='200'>\n",
    "\n",
    "Here, slot five remains a positive count = 1, indicating that there exist another item that shares this hash slot with the item 'wallet'.\n",
    "In your match-box implementation of CBFs, you'd be pleased to find out that there is still a match left after removal:\n",
    "\n",
    "\n",
    "<img src=\"still_a_stick.png\" width=\"600\" height='300'>\n",
    "\n",
    "Now if we were to query on scarf again, we would not get a false negative anymore:\n",
    "\n",
    "<img src=\"CBF_q_aft_del.png\" width=\"400\" height='200'>"
   ]
  },
  {
   "cell_type": "markdown",
   "metadata": {},
   "source": [
    "#### 2.3.3 Mathematical relations\n",
    "\n",
    "CBFs preserve basic data structures and hashing rules of BFs: \n",
    "- the idea of bit array is equivalent to the count array of positive integers and the length stays $m$; \n",
    "- the number of inserted elements is still denoted as $n$;  \n",
    "- the number of hash function chosen is still denoted $k$;\n",
    "\n",
    "therefore the false postiive rate probability $p$ holds the same relations with $m, n, k$, please refer to section 2.2.3 for a recap.\n",
    "\n",
    "***Limit***: As Fan (2000) suggested, since each counter has a limited bit capacity, thus a q-bit counter will overflow if it reaches a value of $q^2$. "
   ]
  },
  {
   "cell_type": "markdown",
   "metadata": {},
   "source": [
    "#### 2.3.4 Time and space complexity\n",
    "\n",
    "CBFs is time and space efficient for similar reasons as BFs . For a BF of k hash funcitons:\n",
    "\n",
    "- CBFs also only does k comparisons, that is, if k hashed slots have a positive integer rather than zeros, therefore it also has a time complexity of O(k), where \"k is a constant irrespective of the cardinality of the set\"(Guo et al, 2010). ; <br>\n",
    "<br>\n",
    "- However, by storing actual counts instead of a binary bit, CBF does take up much more spaces than BFs. Bonomi and his colleagues (September 2006) have argued that \"using counters of four bits blows up the required space by a factor of four over a standard Bloom filter, even though most entries are zero.\" Advanced techniques such as the spectral BF is designed to improve on this (Cohen & Matias, 2003)"
   ]
  },
  {
   "cell_type": "markdown",
   "metadata": {},
   "source": [
    "#### 2.3.5 Applications of CBFs\n",
    "CBFs are widely implemented in various tech and non-tech fields, some prominant cases are: \n",
    "\n",
    "- Blockchain data security over high-performance frequent transactions depends on its public consensus by all nodes in the smart contract (Zheng, 2017), and CBF is a handy tool to maintain a distributed ledgering system while allowing fast and accurate memebership identity verification. For example, Chen and his team (2018) presented their design of Certchain in which a DCBF-Dual CBF is used to eliminate false positives in public and efficient certificate audits.\n",
    "\n",
    "- CBFs are frequently used in networking device algorithms in fields of accounting monitoring, load balancing, caching and policy enforcement, routing etc. Due to its fast membership check and simple implementation, it is widely used to check how many packets are queued,if a given state is reached or IP lookups (Fan et al., 2000; Ficara et al., 1977-1978)\n",
    "\n",
    "- Applications in data management is ample in terms of malware detection, flagging and deletion. For example, Google Chrome implemented CBFs to flag malicious contents if an exact match between hashed values and a signature of safe contents. If no exact match, the content can be blocked and removed from the web (Erdogan & Cao, 2007). "
   ]
  },
  {
   "cell_type": "markdown",
   "metadata": {},
   "source": [
    "### Part 3: Python Implementation of CBFs\n",
    "**[#DataStructures, #PythonProgramming, #CodeReadability]** Implement in Python 3 your designed CBFs data structure and all its properties. Make sure you carefully organize your Python code, write meaningful comments, and provide a thorough justification for your choice of hash functions. Meaning, why did you think a particular hash function is a good hash function in the context of CBFs."
   ]
  },
  {
   "cell_type": "code",
   "execution_count": 61,
   "metadata": {
    "collapsed": true
   },
   "outputs": [],
   "source": [
    "import numpy as np\n",
    "import mmh3\n",
    "\n",
    "class CountingBF:\n",
    "\n",
    "    def __init__(self, p, n):  \n",
    "\n",
    "        # initialize a CBF with target false positive rate, and\n",
    "        # expected total number of items to store in a set\n",
    "        \n",
    "        # apply the optimal formula outlined in Chapter section 2.2.3\n",
    "        # to design an CBF with optimal count-array length (m) and and \n",
    "        # optimal number of hash functions (k)\n",
    "        \n",
    "        # optimal number of counters: m = -n*lnp / (ln2)^2\n",
    "        self.m = -int(np.around(n * np.log(p) / (np.log(2) ** 2)))\n",
    "        self.array = [0] * self.m\n",
    "        # optimal number of hash functions: k = -log2p\n",
    "        self.k = int(np.around(np.log(p)** 2))  \n",
    "     \n",
    "    def get_hashvalue(self, item, i):\n",
    "        '''\n",
    "        *** choice of hash functions ***\n",
    "        This is a generalizable list of k hash functions as k varies\n",
    "            a. for simple implementation, the python library mmh3 is used\n",
    "            b.  the variation is introducted by hashing on the power of index i as well \n",
    "            \n",
    "        the built-in hash satisfies criteria for good hashing into bit array:\n",
    "        1. it approximates a uniform distribution so every slot is equally likely to be hashed into\n",
    "        2.  by using hash_f index i as the seed for mmh3, we could vary hash functions and \n",
    "            make sure they are independent of each other\n",
    "        3. mmh3 is non-cryptographic therefore fast in computing\n",
    "\n",
    "        '''\n",
    "        hashvalue = mmh3.hash(item, i) % self.m\n",
    "        \n",
    "        return hashvalue\n",
    "    \n",
    "    # add an element through k number of hashesand update counters CBF\n",
    "    def insert(self, item):\n",
    "        for i in range(0,self.k):\n",
    "            h = self.get_hashvalue(item, i)\n",
    "            self.array[h] += 1\n",
    "\n",
    "    # check if the set contains an element\n",
    "    def lookup(self, item):\n",
    "        for i in range(0,self.k):\n",
    "            h = self.get_hashvalue(item, i)\n",
    "            if self.array[h] == 0:\n",
    "                return False\n",
    "        return True\n",
    "\n",
    "    # delete an element from the set using CBF\n",
    "    def delete(self, item):\n",
    "        if self.lookup(item) == False:\n",
    "            # nothing is deleted if an item does not exist\n",
    "            return\n",
    "        for i in range(0,self.k):  \n",
    "            h = self.get_hashvalue(item, i)\n",
    "            # decrease the hashed counter by 1 \n",
    "            self.array[h] -= 1\n",
    "\n",
    "    "
   ]
  },
  {
   "cell_type": "code",
   "execution_count": 62,
   "metadata": {},
   "outputs": [
    {
     "name": "stdout",
     "output_type": "stream",
     "text": [
      "Create a CBF with 10% FPR for 7 elements\n",
      "  5 hash funtions needed\n",
      "  34 counters needed\n",
      " \n",
      "counter array after insertions: \n",
      "[0, 1, 0, 0, 4, 3, 1, 0, 0, 2, 1, 0, 1, 0, 1, 2, 1, 2, 1, 2, 1, 2, 2, 3, 1, 0, 0, 0, 0, 3, 1, 0, 1, 4]\n",
      " \n",
      "   True positives:\n",
      "True\n",
      "True\n",
      " \n",
      "   True negatives:\n",
      "False\n",
      "False\n",
      " \n",
      "   False positive:\n",
      "True\n"
     ]
    }
   ],
   "source": [
    "# simple test cases:\n",
    "# set a FPR = 10%, for 7 inserted elements \n",
    "cbf = CountingBF(0.1, 7)\n",
    "print('Create a CBF with 10% FPR for 7 elements')\n",
    "print(f'  {cbf.k} hash funtions needed')\n",
    "print(f'  {cbf.m} counters needed')\n",
    "print(' ')\n",
    "cbf.insert(\"f\")\n",
    "cbf.insert(\"g\")\n",
    "cbf.insert(\"b\")\n",
    "cbf.insert(\"c\")\n",
    "cbf.insert(\"d\")\n",
    "cbf.insert(\"w\")\n",
    "cbf.insert(\"e\")\n",
    "cbf.insert(\"q\")\n",
    "\n",
    "\n",
    "print('counter array after insertions: ')\n",
    "print(cbf.array)\n",
    "\n",
    "# true positives\n",
    "print(' ')\n",
    "print('   True positives:')\n",
    "print(cbf.lookup(\"q\"))\n",
    "print(cbf.lookup(\"b\"))\n",
    "\n",
    "# true negative\n",
    "print(' ')\n",
    "print('   True negatives:')\n",
    "print(cbf.lookup(\"l\"))\n",
    "print(cbf.lookup(\"m\"))\n",
    "\n",
    "\n",
    "#false positives\n",
    "print(' ')\n",
    "print('   False positive:')\n",
    "print(cbf.lookup(\"h\"))\n"
   ]
  },
  {
   "cell_type": "markdown",
   "metadata": {},
   "source": [
    "### Part 4:  Analysis of Computational Behavior\n",
    "Using your own Python implementation from question 3, generate data to push into the\n",
    "CBFs. Provide an analysis, both on theoretical grounds and using experimental\n",
    "corroboration, of how your implementation scales in terms of:\n",
    "    \n",
    "    a. [#DataStructures] Memory size as a function of the false-positive rate\n",
    "    \n",
    "    b. [#DataStructures] Memory size as a function of the number of items stored\n",
    "    \n",
    "    c. [#DataStructures, Access time as a funciton of the false-positive rate\n",
    "    \n",
    "    d. [#DataStructures, #ComplexityAnalysis] Access time as a function of the number of items stored"
   ]
  },
  {
   "cell_type": "code",
   "execution_count": 63,
   "metadata": {
    "collapsed": true
   },
   "outputs": [],
   "source": [
    "#import \n",
    "import matplotlib.pyplot as plt\n",
    "import numpy as np\n",
    "import random\n",
    "import string\n",
    "\n",
    "# create a random generator of strings\n",
    "def random_string(length):\n",
    "    s = ''\n",
    "    for i in range(0, length):\n",
    "        s += random.choice(string.ascii_lowercase)\n",
    "    # combine each lowercase character togehter\n",
    "    return s"
   ]
  },
  {
   "cell_type": "markdown",
   "metadata": {},
   "source": [
    "**a.  Memory size as a function of the false-positive rate**"
   ]
  },
  {
   "cell_type": "code",
   "execution_count": 64,
   "metadata": {
    "scrolled": false
   },
   "outputs": [
    {
     "data": {
      "text/plain": [
       "Text(0, 0.5, 'Memory size')"
      ]
     },
     "execution_count": 64,
     "metadata": {},
     "output_type": "execute_result"
    },
    {
     "data": {
      "image/png": "[encoded data removed]",
      "text/plain": [
       "<Figure size 576x432 with 1 Axes>"
      ]
     },
     "metadata": {},
     "output_type": "display_data"
    }
   ],
   "source": [
    "%matplotlib inline\n",
    "\n",
    "# a list of p values (FPRs)\n",
    "FPRs=[]\n",
    "# a list lf m values (memory size == length of counter array)\n",
    "mem_size=[]\n",
    "\n",
    "# initiate a large number of items to store\n",
    "n = 120000\n",
    "\n",
    "for p in range (1,100):\n",
    "    FPRi = p/100\n",
    "    FPRs.append(FPRi)\n",
    "    # for fixed number of input \n",
    "    cbfi = CountingBF(FPRi,n)  \n",
    "    mem_size.append(cbfi.m)\n",
    "\n",
    "# plot results\n",
    "plt.figure(figsize=(8,6))\n",
    "plt.scatter(FPRs,mem_size,c='b', s=10)\n",
    "\n",
    "plt.title(' Memory Size (m) as a function of False Positive Rate (p)')\n",
    "plt.xlabel('False Positive Rate')\n",
    "plt.ylabel('Memory size')\n"
   ]
  },
  {
   "cell_type": "markdown",
   "metadata": {
    "collapsed": true
   },
   "source": [
    "#### Comment 1: \n",
    "\n",
    "Theoretically: $m = -\\ln(p)\\frac{n}{\\ln(2)^2}$, \n",
    "\n",
    "If n is fixed, as p increases from 0 to 1, lnp grows from negative infinity to 0, the array size m grows with the negation of lnp (given the '-' sign in the formula), which should decrease from positive infinity to zero. Thus, to lower p, we want to increase memory size. "
   ]
  },
  {
   "cell_type": "markdown",
   "metadata": {
    "collapsed": true
   },
   "source": [
    "**b.  Memory size as a function of the number of items stored**"
   ]
  },
  {
   "cell_type": "code",
   "execution_count": 65,
   "metadata": {
    "scrolled": false
   },
   "outputs": [
    {
     "data": {
      "text/plain": [
       "Text(0, 0.5, 'Memory size (m)')"
      ]
     },
     "execution_count": 65,
     "metadata": {},
     "output_type": "execute_result"
    },
    {
     "data": {
      "image/png": "[encoded data removed]",
      "text/plain": [
       "<Figure size 576x432 with 1 Axes>"
      ]
     },
     "metadata": {},
     "output_type": "display_data"
    }
   ],
   "source": [
    "# a list lf n values (input size)\n",
    "ns=[]\n",
    "# a list of m values (memory size)\n",
    "mem_size=[]\n",
    "\n",
    "# initiate a large number of items to store\n",
    "p = 0.1\n",
    "\n",
    "for n in range(10,10000):\n",
    "    ns.append(n)\n",
    "    # for fixed number of input \n",
    "    cbfi = CountingBF(p,n)  \n",
    "    mem_size.append(cbfi.m)\n",
    "\n",
    "# plot results\n",
    "plt.figure(figsize=(8,6))\n",
    "plt.scatter(ns,mem_size,c='g', marker='o', s=2 )\n",
    "\n",
    "\n",
    "plt.title(' Memory Size (m) as a function of number of items stored (n), p = 0.1')\n",
    "plt.xlabel('Number of Items Stored (n)')\n",
    "plt.ylabel('Memory size (m)')"
   ]
  },
  {
   "cell_type": "markdown",
   "metadata": {},
   "source": [
    "#### Comment 2: \n",
    "\n",
    "Theoretically: $m = n\\frac{-\\ln(p)}{\\ln(2)^2}$, it is obvious that memory size grows linearly with input size. In fact the gradient value should be $\\frac{m}{n}=  -\\frac{\\ln{p}}{(\\ln{2})^2}$ </p> (lnp is negative, so slope positive)"
   ]
  },
  {
   "cell_type": "markdown",
   "metadata": {},
   "source": [
    "**c. Access time as a funciton of the false-positive rate**"
   ]
  },
  {
   "cell_type": "code",
   "execution_count": 66,
   "metadata": {},
   "outputs": [
    {
     "data": {
      "image/png": "[encoded data removed]",
      "text/plain": [
       "<Figure size 576x432 with 1 Axes>"
      ]
     },
     "metadata": {},
     "output_type": "display_data"
    }
   ],
   "source": [
    "import time\n",
    "\n",
    "# a list of false positive rates\n",
    "pos_rate = []\n",
    "# a list of access time\n",
    "access_time = []\n",
    "# set the number of items stored to 10000\n",
    "n = 10000\n",
    "\n",
    "for p in range (1,100):\n",
    "    # for each FPR, compute ave access time of 1 out of n stored items\n",
    "    FPRi = p/100\n",
    "    pos_rate.append(FPRi)\n",
    "    cbfi = CountingBF(FPRi,n)\n",
    "    \n",
    "    randomStr =[]\n",
    "    # store n random strings \n",
    "    for i in range(1,n):\n",
    "        st = random_string(10)\n",
    "        randomStr.append(st)\n",
    "        cbfi.insert(st)  # insert a random string\n",
    "    \n",
    "    sum_time = 0   \n",
    "    st_time = time.time()\n",
    "    for st in randomStr:\n",
    "    # compute the total access time of lookup n queried item\n",
    "        cbfi.lookup(st) # access the stored string\n",
    "        \n",
    "   # compute averaget time for accessing one item     \n",
    "    time_used = time.time()-st_time\n",
    "\n",
    "    average_time = time_used/n\n",
    "\n",
    "    access_time.append(average_time)\n",
    "    \n",
    "    \n",
    "# plot\n",
    "plt.figure(figsize=(8,6))\n",
    "plt.scatter(pos_rate,access_time,c='r', s=10)\n",
    "plt.ylim(0, 1.5e-5)\n",
    "plt.xlabel('False Positive Rate')\n",
    "plt.ylabel('Access Time(s)')\n",
    "plt.title(' Access time as a funciton of False Positive Rate ')\n",
    "\n",
    "plt.show()"
   ]
  },
  {
   "cell_type": "markdown",
   "metadata": {},
   "source": [
    "#### Comment 3: \n",
    "\n",
    "The experimental results show that, below a threshold of p=0.5, as we try to decrease false positive rate, the access time increases  rapidly; however, the access time stays zero after FPR becomes too high (a random guess would take 50% chance of getting right) since the optimal number of hash functions becomes 0.\n",
    "\n",
    "Theoretically the he access time for CBF is O(k) which is determined by the number of hash funcitons k. According to the optimal relations betweek k and p: $k=-\\ln{p}$, k increases as p decreases. We shall compare the empirical results with this theoretical relation between k and p, for p < 0.5, and see if the same decaying relation is found.\n"
   ]
  },
  {
   "cell_type": "code",
   "execution_count": 67,
   "metadata": {
    "scrolled": false
   },
   "outputs": [
    {
     "data": {
      "image/png": "[encoded data removed]",
      "text/plain": [
       "<Figure size 576x432 with 1 Axes>"
      ]
     },
     "metadata": {},
     "output_type": "display_data"
    }
   ],
   "source": [
    "# plot  k = -ln(p)\n",
    "plt.figure(figsize=(8,6))\n",
    "x = np.linspace(0.1,1,50)\n",
    "plt.plot(x, -np.log2(x),c='r')\n",
    "plt.xlabel('False Positive Rate')\n",
    "plt.ylabel('Access Time approximated by number of hash functions k')\n",
    "plt.title(' Theoretical Access Time (k) as a funciton of False Positive Rate ')\n",
    "\n",
    "plt.show()"
   ]
  },
  {
   "cell_type": "markdown",
   "metadata": {},
   "source": [
    "#### Conclusion:\n",
    "We have verified the experimental relation with the theoretical one above. More independent and uniform distributed hash functions we introduce to the CBF, less hash collisions will we have, therefore a smaller false positive rate. However the same inverse relationship between k and p can be also interpreted this way: as we try to minimize false positive rate, we have to bear the cost of increasing time in hashing (as access time grows with k) during the lookup process."
   ]
  },
  {
   "cell_type": "markdown",
   "metadata": {},
   "source": [
    "**d. Access time as a function of the number of items stored**"
   ]
  },
  {
   "cell_type": "code",
   "execution_count": 68,
   "metadata": {},
   "outputs": [
    {
     "data": {
      "text/plain": [
       "Text(0.5, 1.0, 'Access time as a function of the number of items stored')"
      ]
     },
     "execution_count": 68,
     "metadata": {},
     "output_type": "execute_result"
    },
    {
     "data": {
      "image/png": "[encoded data removed]",
      "text/plain": [
       "<Figure size 576x432 with 1 Axes>"
      ]
     },
     "metadata": {},
     "output_type": "display_data"
    }
   ],
   "source": [
    "ns = [] #  a list of input size\n",
    "access_time = []\n",
    "\n",
    "# set false positive rate to a fix value\n",
    "p = 0.1\n",
    "\n",
    "for n in range (1,1000):\n",
    "    ns.append(n)\n",
    "    \n",
    "    cbfi = CountingBF(p,n)\n",
    "    \n",
    "    randStrings = []\n",
    "    for i in range(1,n):\n",
    "        st = random_string(10)\n",
    "        randStrings.append(st)\n",
    "        cbfi.insert(st)\n",
    "    \n",
    "    sum_time=0\n",
    "    for st in randStrings:\n",
    "    \n",
    "        st_time = time.time()\n",
    "        cbfi.lookup(st)\n",
    "        t = time.time()-st_time\n",
    "        sum_time += t\n",
    "        \n",
    "    average_time = sum_time/n\n",
    "    access_time.append(average_time)\n",
    "    \n",
    "\n",
    "# plot\n",
    "plt.figure(figsize=(8,6))\n",
    "plt.scatter(ns,access_time,c='black', s=10)\n",
    "plt.ylim(0, 1.5e-5)\n",
    "plt.xlabel('Number of Items Stored')\n",
    "plt.ylabel('Access Time(s)')\n",
    "plt.title('Access time as a function of the number of items stored')"
   ]
  },
  {
   "cell_type": "markdown",
   "metadata": {},
   "source": [
    "#### Comment 4:\n",
    "For a targeted FPR, the number of hashes is determined by -log2(k), which makes k also a fixed value. Therefore n is independent of k given a fixed p. Theoretically this relationship should be represented by a horizontal line. Here, the scattered plot largely agree with this independence nature between n and p despite a small percentage of outliers."
   ]
  },
  {
   "cell_type": "markdown",
   "metadata": {},
   "source": [
    "### Part 5:  False Positive Rate Inspection\n",
    "**[#ComputationalCritique]** Produce a plot to show that your implementation’s false\n",
    "positive rate matches the theoretically expected rate."
   ]
  },
  {
   "cell_type": "code",
   "execution_count": 70,
   "metadata": {},
   "outputs": [
    {
     "data": {
      "image/png": "[encoded data removed]",
      "text/plain": [
       "<Figure size 576x432 with 1 Axes>"
      ]
     },
     "metadata": {},
     "output_type": "display_data"
    }
   ],
   "source": [
    "%matplotlib inline\n",
    "\n",
    "# set total number of items to be stored (Fixed)\n",
    "n=1000\n",
    "\n",
    "# initiate a list of experimental false positive rates\n",
    "experimental_ps=[]\n",
    "# a list of theoratical false positive rates\n",
    "theoratical_ps=[]\n",
    "\n",
    "# calculate experimental false positive rate\n",
    "for p in range(1,100):\n",
    "    # theoratical positive rates: 0.01 -- 1.00\n",
    "    FPR_i = p/100\n",
    "    theoratical_ps.append(FPR_i)\n",
    "    \n",
    "    # create a CBF object at expected FPR rate and input size n \n",
    "    cbfi = CountingBF(FPR_i,n)\n",
    "    \n",
    "    # insert n randomly generated items in\n",
    "    for i in range(1,n):\n",
    "        cbfi.insert(random_string(100))\n",
    "    \n",
    "    # generate another n false items not stored in list and check their existence\n",
    "    # should all return false if there is no false positivity.\n",
    "    \n",
    "    num_true = 0  # count number of true returns\n",
    "    lkp=[] # to collect boolean lookup evaluations\n",
    "    for i in range(1,n):\n",
    "        lkp.append(cbfi.lookup(random_string(100)))\n",
    "    num_true = sum(lkp)  # count total number of true returns\n",
    "    \n",
    "    experimental_p_i = num_true/n  # calculate ith experimental FPR\n",
    "    experimental_ps.append(experimental_p_i) # append to corresponding list\n",
    "\n",
    "\n",
    "# plot correlation between theoretical and empirical results\n",
    "plt.figure(figsize=(8,6))\n",
    "plt.scatter(theoratical_ps,experimental_ps, c='g',  s = 10)\n",
    "x = np.linspace(0,1,50)\n",
    "plt.plot(x,x, c='orange')  # perfect agreement at r=1 \n",
    "\n",
    "plt.title('Correlation between experimental vs theoretical false positive rates')\n",
    "plt.xlabel('Theoretical False Positive Rate')\n",
    "plt.ylabel('Experimental False Positive Rate')\n",
    "\n",
    "plt.show()\n"
   ]
  },
  {
   "cell_type": "markdown",
   "metadata": {},
   "source": [
    "#### Comment 5: \n",
    "As we can see from the graph, the theoretical vs empirical FPRs highly agree with each other below certain threshold as the green scatters closely cluster around the red line of perfect agreement (slope = 1), (around 0.5).  This makes sense as CBFs is useful only if false positive rates remain as low as possible. However, if FPR is higher than 50%, a probabilistic lookup would not even beat a random guess, thus lose the very purpose of a lookup function. "
   ]
  },
  {
   "cell_type": "markdown",
   "metadata": {},
   "source": [
    "### Part 6:  Corner Cases\n",
    "**[#ComputationalCritique]** Identify and list (if any) corner cases for CBFs"
   ]
  },
  {
   "cell_type": "markdown",
   "metadata": {
    "collapsed": true
   },
   "source": [
    "As Bonomi et al (2006) argued, CBFs does take up much memory spaces and only allows small counters, thus numerical overflow is quite likely once implemented to register tonnes of data from say a big bank or healthcare records. \n",
    "\n",
    "Also, as Part4.d shows, CBFs becomes useless if we set p > 0.5 as the experimental FPRSs becomes 1. \n",
    "\n",
    "Moreover, although by design CBFs can never have a false negative, emprical results have show that false negatives often exists. Guo and his colleagues (2010) investigated the root cause of having false negatives, and reported that the incorrect deletion of a false positive item is the root cause of having false negatives. This error negatively impact CBF's efficiency in the same way by decrementing counter values. "
   ]
  },
  {
   "cell_type": "code",
   "execution_count": null,
   "metadata": {
    "collapsed": true
   },
   "outputs": [],
   "source": []
  },
  {
   "cell_type": "markdown",
   "metadata": {},
   "source": [
    "### Appendix A: HCs\n",
    "\n",
    "- **audience**: I intended to write a textbook style introduction to cs students who just started their journey with data structures and have only limited expereinces with indexing techniques, I addressed readers as 'you' through out the textbook chapter so it creates a more intimate and supporting tutoring environment for readers of rudimentary level to follow. My narration also targets common experiences in a student's life, which hopefully hooks reader attention right from beginning.\n",
    "\n",
    "- **composition**: I created a novel narrative of 'sunday picnic with scatterbrained mom' to walk through important concepts and ideas of an otherwise technical topic on BFs and CBFs, my choice of dictions are figurative, yet my explanations stay clear and concise with a sinse of humor (i.e. the story of 'refusing mom's request for a removal of her wrong wallet), the integrated experience facilitate readers to catch the nuances and beauty of CBFs without losing academic rigor.\n",
    "\n",
    "- **analogies**: I provided two analogies, 'hole punches' and 'match sticks', to illustrate key concepts of BFs and CBFs respectively.These analogies correctly map the key structures and properties of an abstract data type to concrete daily experiences and facilitate detailed derivation of computational solutions (showing how replacing boolean recorder with counters solve the deletion problem).\n",
    "\n",
    "- **visualziations**: sufficient and accurate visual illustrations of CBF & BF structures and processes are provided in figures. All figures are originally designed using graphing tools in Mac Keynote and google slide. "
   ]
  },
  {
   "cell_type": "code",
   "execution_count": null,
   "metadata": {
    "collapsed": true
   },
   "outputs": [],
   "source": []
  },
  {
   "cell_type": "code",
   "execution_count": null,
   "metadata": {
    "collapsed": true
   },
   "outputs": [],
   "source": []
  },
  {
   "cell_type": "code",
   "execution_count": null,
   "metadata": {
    "collapsed": true
   },
   "outputs": [],
   "source": []
  },
  {
   "cell_type": "markdown",
   "metadata": {},
   "source": [
    "### Appendix B: Reference list\n",
    "- Bonomi, F., Mitzenmacher, M., Panigrahy, R., Singh, S., & Varghese, G. (2006, September). An improved construction for counting bloom filters. In European Symposium on Algorithms (pp. 684-695). Springer, Berlin, Heidelberg.\n",
    "- Bloom Filter. (n.d.). In Wikipedia. Retrieved November 3, 2019, from\n",
    "   https://en.wikipedia.org/wiki/Bloom_filter\n",
    "- Chen, J., Yao, S., Yuan, Q., He, K., Ji, S., & Du, R. (2018, April). CertChain: Public and efficient certificate audit based on blockchain for TLS connections. In IEEE INFOCOM 2018-IEEE Conference on Computer Communications (pp. 2060-2068). IEEE.\n",
    "- Cohen, S., & Matias, Y. (2003, June). Spectral bloom filters. In Proceedings of the 2003 ACM SIGMOD international conference on Management of data (pp. 241-252). ACM.\n",
    "- Erdogan, O., & Cao, P. (2007). Hash-AV: Fast Virus Signature matching by Cache-Resident Filters. Int. J. Secur. Netw, 2, 50-59.\n",
    "- Fan, L., Cao, P., Almeida, J., & Broder, A. Z. (2000). Summary cache: a scalable wide-area web cache sharing protocol. IEEE/ACM Transactions on Networking (TON), 8(3), 281-293.\n",
    "- Ficara, D., Di Pietro, A., Giordano, S., Procissi, G., & Vitucci, F. (2010). Enhancing counting bloom filters through huffman-coded multilayer structures. IEEE/ACM Transactions on Networking (TON), 18(6), 1977-1987.\n",
    "- Guo, D., Liu, Y., Li, X., & Yang, P. (2010). False negative problem of counting bloom filter. IEEE transactions on knowledge and data engineering, 22(5), 651-664.\n",
    "- Pagh, A., Pagh, R., & Rao, S. S. (2005, January). An optimal Bloom filter replacement. In Proceedings of the sixteenth annual ACM-SIAM symposium on Discrete algorithms (pp. 823-829). Society for Industrial and Applied Mathematics.\n",
    "- Zheng, Z., Xie, S., Dai, H., Chen, X., & Wang, H. (2017, June). An overview of blockchain technology: Architecture, consensus, and future trends. In 2017 IEEE International Congress on Big Data (BigData Congress) (pp. 557-564). IEEE.\n"
   ]
  },
  {
   "cell_type": "code",
   "execution_count": null,
   "metadata": {
    "collapsed": true
   },
   "outputs": [],
   "source": []
  }
 ],
 "metadata": {
  "kernelspec": {
   "display_name": "Python 3",
   "language": "python",
   "name": "python3"
  },
  "language_info": {
   "codemirror_mode": {
    "name": "ipython",
    "version": 3
   },
   "file_extension": ".py",
   "mimetype": "text/x-python",
   "name": "python",
   "nbconvert_exporter": "python",
   "pygments_lexer": "ipython3",
   "version": "3.6.9"
  }
 },
 "nbformat": 4,
 "nbformat_minor": 2
}
