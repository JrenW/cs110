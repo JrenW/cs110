{
 "cells": [
  {
   "cell_type": "markdown",
   "metadata": {
    "collapsed": false
   },
   "source": [
    "<div class=\"panel panel-info\">\n",
    "  <div class=\"panel-heading\">\n",
    "    <h3 class=\"panel-title\">BREAKOUT INSTRUCTIONS</h3>\n",
    "  </div>\n",
    "  <div class=\"panel-body\">\n",
    "Answer the questions below. You will be asked to present your work after the breakout so make sure to indicate your answers clearly and concisely.\n",
    "  </div>\n",
    "</div>"
   ]
  },
  {
   "cell_type": "markdown",
   "metadata": {
    "collapsed": false
   },
   "source": [
    "<span class='minerva-question' style='background-color:#5bc0de;padding: 5px 20px 5px 20px;line-height:30px;color:white;font-weight: bold; border-radius: 25px'>Question 1</span>\n",
    "\n",
    "Spend only a few minutes deciding which working version from the groups member's of the bubble sort Python implementation you will use for these experiments. Copy it to the cell below. Make sure the Python implementation contains the step counters and copy it into the cell below.\n",
    "**Include also Python implementations of insertion sort and selection sort. You will need them for question 6.**"
   ]
  },
  {
   "cell_type": "code",
   "execution_count": 26,
   "metadata": {
    "collapsed": false
   },
   "outputs": [
    {
     "data": {
      "text/plain": [
       "188"
      ]
     },
     "execution_count": 26,
     "metadata": {
     },
     "output_type": "execute_result"
    }
   ],
   "source": [
    "def bubbleSort(A):\n",
    "    counter = 0\n",
    "    #iterating through the length of the array\n",
    "    for i in range(len(A)-1):\n",
    "        counter += 1\n",
    "        #going from right to left with adjacent pairs\n",
    "        for j in range(len(A)-1,i,-1):\n",
    "            counter += 1\n",
    "            #testing which number is larger\n",
    "            if A[j] < A[j-1]:\n",
    "                counter += 1\n",
    "                placeholder = A[j] #temporarily storing the smaller number\n",
    "                counter += 1\n",
    "                A[j] = A[j-1] #setting the smaller number equal to the larger one\n",
    "                counter += 1\n",
    "                A[j -1] = placeholder #setting larger number to the smaller one\n",
    "                counter += 1\n",
    "    return(counter) #executing the test function and terminating the function\n",
    "\n",
    "A = [20,19,18,17,16,15,14,13,0]\n",
    "bubbleSort(A) #calling the function bubblesort"
   ]
  },
  {
   "cell_type": "code",
   "execution_count": 7,
   "metadata": {
    "collapsed": false
   },
   "outputs": [
   ],
   "source": [
    "def insertionSort(A):\n",
    "    counter = 0\n",
    "    for j in range(len(A)): # Termination condition\n",
    "        \n",
    "        key = A[j] # Initialization:\n",
    "                   # Loop invariant holds before the first iteration\n",
    "        counter += 1\n",
    "        i= j-1\n",
    "        counter += 1\n",
    "        while i >= 0 and A[i]>key:\n",
    "            counter += 1\n",
    "            A[i+1] = A[i]\n",
    "            counter += 1\n",
    "            i -= 1\n",
    "            counter += 1\n",
    "        A[i] = key # Maintenance:\n",
    "                   # Incrementing j for the next iteration\n",
    "                   # of the for loop preserves the \n",
    "                   # loop invariant\n",
    "        counter += 1\n",
    "    return (A, counter)\n"
   ]
  },
  {
   "cell_type": "markdown",
   "metadata": {
    "collapsed": false
   },
   "source": [
    "<span class='minerva-question' style='background-color:#5bc0de;padding: 5px 20px 5px 20px;line-height:30px;color:white;font-weight: bold; border-radius: 25px'>Question 2</span>\n",
    "\n",
    "Write a function in the cell below that takes an integer $n$ as input and returns a list of integers of length $n$ where the numbers are in **random order**, e.g., `[5, 1, 3, 4, 2]`."
   ]
  },
  {
   "cell_type": "code",
   "execution_count": 4,
   "metadata": {
    "collapsed": false
   },
   "outputs": [
   ],
   "source": [
    "\n",
    "import random\n",
    "def randomlist(m):\n",
    "    A = []\n",
    "    for i in range(m):\n",
    "        A.append(random.randrange(100))\n",
    "    return(A)\n"
   ]
  },
  {
   "cell_type": "markdown",
   "metadata": {
    "collapsed": false
   },
   "source": [
    "<span class='minerva-question' style='background-color:#5bc0de;padding: 5px 20px 5px 20px;line-height:30px;color:white;font-weight: bold; border-radius: 25px'>Question 3</span>\n",
    "\n",
    "Using the function you have written above, generate a list with $m$ elements which are themselves lists of integers of various lengths. Write your code in the cell below."
   ]
  },
  {
   "cell_type": "code",
   "execution_count": 24,
   "metadata": {
    "collapsed": false
   },
   "outputs": [
    {
     "name": "stdout",
     "output_type": "stream",
     "text": [
      "[[75, 23, 53, 90, 65, 28, 59, 33, 98, 22, 84, 82, 65, 40, 89, 81, 71, 41, 36, 20, 5, 86, 68, 31, 48, 50, 87, 80, 5, 19, 74, 17, 33, 74, 29, 4, 71, 76, 82, 19, 21, 41, 33, 72, 34, 75, 90, 19, 31, 24, 5, 45, 1, 97, 55, 38, 81, 39, 91, 28, 17, 89, 57, 73, 76, 95, 7], [48, 5, 79, 69, 36, 27, 63, 20, 88, 28, 24, 21, 83, 89, 28, 23, 16, 11, 8, 96, 39, 81, 88, 94, 24, 78, 85, 17, 21, 69, 8, 29, 91, 96, 33, 87, 65, 47, 11, 4, 87, 96, 92, 9, 74, 92, 10, 6, 34, 71, 1, 87, 47, 23, 43, 13, 9, 49, 71, 88, 68, 32, 56, 8, 89, 6, 33, 30, 55, 96, 30, 77], [45, 44, 16, 81, 39, 38, 45, 45, 55, 52, 29, 93, 87, 30, 92, 35, 77, 24, 62, 72, 3, 11, 9, 85, 11, 43, 38, 44, 50, 41, 12, 59, 99, 92, 68, 98, 81, 40, 84, 70, 48, 72, 72, 76, 16, 78, 19, 45, 72, 25, 19, 82, 44, 70, 11, 2, 1, 26, 86, 43, 88, 3, 87, 70, 17, 31, 23, 85, 90, 51, 36, 5, 39, 39, 90, 39, 84, 54, 98, 11, 15, 84], [60, 62, 85, 28, 23, 59, 3, 90, 18, 41, 10, 40, 85, 27], [26, 18, 78, 29, 33, 22, 60, 76, 78, 93, 73, 68, 63, 0, 53, 63, 91, 81, 44, 3, 94, 83, 36, 43, 79, 74, 43, 57, 11], [57, 3, 88, 77, 94, 47, 59, 32, 49, 36, 92, 45, 37, 73, 20, 62, 76, 5, 19], [63, 66, 64, 24, 94, 42, 13, 25, 66, 98, 96, 66, 41, 41, 45, 25, 61, 84, 47, 89, 32, 27, 88, 46, 74, 55, 61, 0, 95, 85, 27, 35, 81, 58, 96, 96, 8, 86, 75, 95, 97, 76, 58, 14, 11, 83, 10, 73, 37, 75, 13, 32, 71, 61, 20, 28, 64], [93, 4, 14, 72, 25, 28, 92, 81, 50, 4, 39, 31, 37, 82, 51, 57, 96, 34, 4, 38, 14, 15, 56, 6, 60, 10, 29, 23, 87, 17, 99, 26, 58, 43, 69, 40, 43, 66, 9, 39, 8, 32, 92, 33, 37, 15, 74, 72, 39, 35, 75, 16, 18, 27, 90, 5, 87, 2, 47, 88, 32, 64], [75, 23, 15, 7, 86, 99, 40, 8, 36, 98, 59, 66, 69, 47, 49, 96, 22, 63, 53, 27, 15, 42, 89, 23, 77, 53, 67, 50, 57, 42, 83, 88, 98, 76, 66, 52, 54, 39, 81, 82, 98, 33, 17, 92, 78, 46, 94, 92, 74, 86, 21], [84, 17, 48, 91, 83, 29, 85, 91, 63, 92, 28, 79, 48, 66, 47, 95, 25, 84, 68, 69, 52, 16, 34, 9, 48, 62, 13, 60, 23, 88], [57, 98, 69, 55, 16, 57, 36, 76, 28, 56, 83, 55, 74, 19, 80, 54, 72, 22, 82, 96, 4, 46, 1, 89, 77, 29, 40, 23, 16, 21, 92], [13, 97, 54, 30, 69, 70, 46, 45, 79, 79, 76, 49, 84, 6, 86, 55, 56, 73, 76, 49, 75, 47, 27, 27, 53, 16, 23, 91, 65, 89, 92, 76, 86, 86, 22, 95, 72, 72, 3, 1, 39, 6, 30, 56, 83, 55, 95, 3, 38, 41, 69, 40, 41, 3, 81, 10, 82, 23, 27, 84, 52, 38, 4, 49, 67, 21, 25, 31, 83, 92, 11, 34, 14, 65, 88, 6, 40, 49, 45, 53, 43, 45, 81, 52, 38, 13, 58, 5, 10, 6, 75, 7, 29, 18, 62, 36], [95, 33, 19, 34, 69, 29, 64, 27, 68, 43, 49, 20, 39, 76, 60, 81, 4, 84, 91, 1, 39, 23, 38, 72, 32, 58, 66, 37, 19, 3, 60, 10, 94], [33, 12, 69, 75, 83, 22, 57, 53, 5, 0, 1, 94, 86, 97, 14, 91, 52, 55, 89, 86, 8, 89, 92, 39, 81, 97, 59, 19, 9, 87, 71, 60, 18, 20, 66, 78, 64, 56, 77, 32, 87, 26, 4, 6, 46, 4, 46, 54, 94, 42, 95, 91, 76, 66, 8, 39], [46, 5, 75, 40, 40, 88, 45, 0, 8, 43, 14, 26, 71, 4, 29, 97, 60, 68, 4, 34, 43, 1, 74, 85], [62, 88, 42, 12, 56, 85, 40, 75, 69, 24, 4, 86, 86, 78, 14, 36, 85, 9], [98, 15, 35, 11, 5, 75, 96, 2, 69, 41, 41, 37, 94, 87, 50, 59, 85, 23, 67, 57, 27, 58, 5, 95, 49, 47, 76, 17, 28, 94, 62, 22, 97, 10, 74, 50, 75, 88, 71, 97, 97, 97, 53, 0, 99, 54, 71, 76, 97, 88, 38, 0, 50, 82, 27, 93, 93, 53, 35, 11, 80, 85, 58], [45, 48, 42, 41, 96, 64, 28, 86, 99, 27, 88, 31, 11, 75, 66, 42, 22, 71, 25, 90, 92, 40, 38, 38, 29, 29, 60, 21, 80, 30, 50, 0, 12, 96, 1, 32, 34, 87, 56, 63, 85, 57, 64, 61, 32, 18, 38, 99, 62, 37, 20, 55, 78, 38, 16, 3, 42, 77, 37, 51, 20, 10, 58, 38, 28, 43, 76, 16, 94, 87, 35, 42, 22, 4, 7, 53, 74, 72, 54, 55, 50, 53, 88, 21, 64, 99, 90, 74, 96], [84, 71, 2, 79, 3, 61, 91, 70, 34, 88, 3, 86, 50, 71, 17, 31, 5, 51, 90, 13, 9, 30, 50, 24, 37, 84, 70, 21, 0, 17, 96, 45, 34, 54, 33, 36, 37, 84, 67, 16, 74, 17, 66, 48, 76, 9, 12, 8, 31, 58, 56, 86, 24, 0, 68, 3, 91, 11, 78, 46, 31, 24, 14, 52, 74, 60, 12, 61, 10, 75, 75, 14, 13, 71, 95, 53, 90, 92, 37, 37, 98, 61, 15, 59, 56, 31, 24, 28, 35, 93, 39, 97, 26, 64, 5], [92, 47, 40, 55, 37, 47, 73, 92, 9, 45, 42, 80, 17, 27, 99, 17, 7, 14, 19, 21, 48, 29, 41, 23, 78, 22, 50, 44, 32, 36, 63, 76, 19, 22, 4, 17, 20], [19, 38, 21, 94, 2, 25, 54, 88, 99, 17, 76, 17, 4, 98, 71, 43, 91, 67, 4, 74, 88, 18, 46, 85, 20, 37, 13, 18, 89, 70, 76, 56, 50, 20, 42, 78, 88, 97, 50, 22, 66, 98, 94, 95, 49, 86, 80, 36, 38, 6, 63, 76, 42, 70, 33, 80, 64, 75, 23, 42, 2, 49, 74, 0, 34, 63, 69, 61, 10, 77, 32, 95, 81, 72, 68, 80, 28, 20, 51, 95, 10], [9, 22, 69, 17, 67, 45, 28, 32, 22, 61, 88, 24, 37, 40, 49, 13, 70, 30, 97, 97, 49, 36, 80, 96, 2, 29, 57, 19, 2, 57, 17, 17, 63, 62, 47, 77, 7, 0, 89, 34, 91, 96, 75, 66, 91], [50, 5, 68, 87, 45, 15, 29, 61, 51, 0, 74, 48, 46, 86, 0, 21, 15, 41, 0, 80, 88, 36, 15, 6, 38, 5, 80, 79, 64, 36, 67, 38, 5, 61, 3, 4, 41, 66, 45], [33, 19, 20, 18, 86, 79, 68, 21, 75, 87, 87, 37, 93, 89, 17, 73, 69, 62, 67, 60, 36, 78, 85, 22, 20, 53, 86, 4, 87, 79, 59, 94, 71, 53, 81, 26, 9, 94, 3, 29, 35, 74, 37, 77, 35, 84, 43, 63, 95, 55, 85, 49, 75, 17, 84, 64, 21, 72, 18, 20, 57, 43, 59, 2, 62, 33, 56, 92, 72, 48, 40, 27, 76, 0, 4], [48, 59, 67, 17, 91, 51, 42, 77, 49, 14, 7, 7, 57, 89, 80, 80, 26, 34, 92, 26, 43, 15, 69, 53, 57, 40, 80, 42, 21, 36, 83, 75, 50, 57, 4, 87, 21, 26, 4, 56, 90, 12, 12, 39, 76, 94, 47, 78], [70, 76, 78, 88, 84, 15, 81, 33, 74, 28, 9, 66, 83, 9, 65, 63, 82, 49, 87, 4, 0, 30, 67, 73, 17, 22, 60, 71, 36, 2, 96, 77, 8, 70, 28, 52, 85, 89, 90, 10, 4, 13, 57, 77, 23, 14, 78, 80, 27, 95, 99, 24, 96, 39, 27, 15, 3, 3, 62, 81, 59, 94, 97, 82, 75, 71, 66, 85, 7, 28], [72, 96, 20, 34, 64, 69, 61, 40, 64, 38, 66, 55, 77, 49, 26, 37], [41, 70, 51, 68, 86, 82, 60, 10, 85, 28, 51, 46, 40, 80, 93, 99, 12, 96, 38, 82, 89, 58, 78, 84, 90, 59, 1, 34, 82, 71, 37, 7, 82, 0, 86, 76, 1, 46, 12, 18, 75, 56, 45, 32, 43, 79, 80, 85, 70, 24, 49, 78, 76, 83, 75, 5, 74, 85, 3, 19, 96, 58, 30, 19, 34, 46, 23, 84, 25, 19, 83, 28, 49, 67, 2, 69, 78, 52, 84, 22, 76, 8, 59, 44, 91, 75, 92, 79, 18, 68, 26, 17, 77, 44, 88, 76], [26, 67, 2, 53, 52, 64, 94, 1, 16, 13, 61, 42, 32, 88, 63, 74, 68, 60, 88, 4, 73, 99, 12, 79, 45, 32, 24, 65, 76, 53, 87, 49, 97, 15, 23, 90, 89, 75, 7, 25, 54, 67, 3, 70, 92, 84, 3, 39, 55, 70, 6, 45, 67], [71, 7, 12, 33, 75, 93, 71, 23, 51, 85, 55, 65, 81, 27, 85, 84, 27, 23, 48, 69, 77, 86, 45, 97, 20, 51, 54, 65, 26, 89, 10, 36, 40, 11, 58, 70, 7, 50, 68, 13, 38, 11, 94, 27, 74, 94, 71, 16]]\n"
     ]
    }
   ],
   "source": [
    "list = []\n",
    "for i in randomlist(30):\n",
    "    list.append(randomlist(i))\n",
    "print(list)"
   ]
  },
  {
   "cell_type": "markdown",
   "metadata": {
    "collapsed": false
   },
   "source": [
    "<span class='minerva-question' style='background-color:#5bc0de;padding: 5px 20px 5px 20px;line-height:30px;color:white;font-weight: bold; border-radius: 25px'>Question 4</span>\n",
    "\n",
    "Run the bubble sort implementation you wrote on question 1 in the list you generated in (3) as input. For every test, print out the resulting number of steps."
   ]
  },
  {
   "cell_type": "code",
   "execution_count": 28,
   "metadata": {
    "collapsed": false
   },
   "outputs": [
   ],
   "source": [
    "lenlist = []\n",
    "for i in range(len(list)-1):\n",
    "    lenlist.append(len(list[i]))\n",
    "    bubbleSort(list[i])\n",
    "    \n",
    "plot(lenlist,bu)"
   ]
  },
  {
   "cell_type": "markdown",
   "metadata": {
    "collapsed": false
   },
   "source": [
    "<span class='minerva-question' style='background-color:#5bc0de;padding: 5px 20px 5px 20px;line-height:30px;color:white;font-weight: bold; border-radius: 25px'>Question 5</span>\n",
    "\n",
    "As a group, describe how your results compare with the theoretical performance analyzed in the previous part of this activity. Write 2-3 sentences in the line below describing your conclusion."
   ]
  },
  {
   "cell_type": "code",
   "execution_count": 0,
   "metadata": {
    "collapsed": false
   },
   "outputs": [
   ],
   "source": [
   ]
  },
  {
   "cell_type": "markdown",
   "metadata": {
    "collapsed": false
   },
   "source": [
    "<span class='minerva-question' style='background-color:#5bc0de;padding: 5px 20px 5px 20px;line-height:30px;color:white;font-weight: bold; border-radius: 25px'>Question 1</span>\n",
    "\n",
    "Apply your selection, insertion and bubble sorting implementations to the list you generated in 3 in the cell below. Describe their performance using an experimental graph (feel free to **adapt** the code below). How do they compare to one another?"
   ]
  },
  {
   "cell_type": "code",
   "execution_count": 0,
   "metadata": {
    "collapsed": false
   },
   "outputs": [
   ],
   "source": [
    "## Code for plotting\n",
    "import matplotlib.pyplot as plt\n",
    "%matplotlib inline\n",
    "\n",
    "def compare_sort_steps(data):\n",
    "    \"\"\" \n",
    "    This function plots the number of steps taken by completing different sorting algorithms.\n",
    "    Inputs:\n",
    "    - data: list of lists with varying size, e.g. [[0, 1], [0, 1, 2, 3], [0, 1, 2, 3, 4, 5]]\n",
    "    \n",
    "    Outputs:\n",
    "    - Plot of the number of steps of insertion, selection and bubble sort implementations in the y-axis\n",
    "    as a function of the input size on which the sorting operations operate in the x-axis\n",
    "    \"\"\"\n",
    "    results_x = []\n",
    "    results_insertion = []\n",
    "    results_selection = []\n",
    "    results_bubble = []\n",
    "    print('Getting data for plotting...')\n",
    "    ## generating experimental data \n",
    "    # iterating through data (each elemnt is a list of varying length)\n",
    "    for i in data:\n",
    "        results_x.append(len(i))\n",
    "        results_insertion.append()## something is missing here inside parenthesis \n",
    "        results_selection.append()## something is missing here inside parenthesis \n",
    "        results_bubble.append()## something is missing here inside parenthesis \n",
    "    print('Data ready for plotting!')\n",
    "    ## plotting\n",
    "    plt.plot(results_x, results_insertion, label='Insertion Sort')\n",
    "    plt.plot(results_x, results_selection, label='Selection Sort')\n",
    "    plt.plot(results_x, results_bubble, label='Bubble Sort')\n",
    "    plt.xlabel('Input size')\n",
    "    plt.ylabel('Steps')\n",
    "    plt.legend()\n",
    "    plt.title('Scaling of different Sorting Algorithms')\n",
    "    plt.show()\n",
    "    return None\n",
    "\n",
    "\n",
    "## your code here"
   ]
  }
 ],
 "metadata": {
  "kernelspec": {
   "display_name": "Python 3 (system-wide)",
   "language": "python",
   "metadata": {
    "cocalc": {
     "description": "Python 3 programming language",
     "priority": 100,
     "url": "https://www.python.org/"
    }
   },
   "name": "python3"
  },
  "language_info": {
   "codemirror_mode": {
    "name": "ipython",
    "version": 3
   },
   "file_extension": ".py",
   "mimetype": "text/x-python",
   "name": "python",
   "nbconvert_exporter": "python",
   "pygments_lexer": "ipython3",
   "version": "3.6.8"
  }
 },
 "nbformat": 4,
 "nbformat_minor": 0
}